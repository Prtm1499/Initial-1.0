{
 "cells": [
  {
   "cell_type": "code",
   "execution_count": null,
   "id": "bc78589f",
   "metadata": {},
   "outputs": [],
   "source": [
    "1. How do you distinguish between shutil.copy() and shutil.copytree() ?\n",
    "\n",
    "Ans: 1. shutil.copy() used to copy files and directories.\n",
    "     2. shutil.copytree() used to copy directories."
   ]
  },
  {
   "cell_type": "code",
   "execution_count": null,
   "id": "99f87917",
   "metadata": {},
   "outputs": [],
   "source": [
    "2. What function is used to rename files ?\n",
    "\n",
    "Ans: os.rename()"
   ]
  },
  {
   "cell_type": "code",
   "execution_count": null,
   "id": "2fc9c8ce",
   "metadata": {},
   "outputs": [],
   "source": [
    "3. What is the difference between the delete functions in the send2trash and shutil modules ?\n",
    "\n",
    "Ans: 1. send2trash() function is used to delete the files and directories it moves to them to trash.\n",
    "     2. shutil.rmtree() funtion is used to delete the files and direcories permenantly."
   ]
  },
  {
   "cell_type": "code",
   "execution_count": null,
   "id": "efd2876a",
   "metadata": {},
   "outputs": [],
   "source": [
    "4. ZipFile objects have a close() method just like File objects’ close() method. What ZipFile method is equivalent to File \n",
    "   objects’ open() method ?\n",
    "    \n",
    "Ans: ZipFile Module provides a method called as zipfile.ZipFile() to read and write to zipFiles. it takes arugments lile filename \n",
    "     and mode etc zipfile.ZipFile('filename', mode = 'r')"
   ]
  },
  {
   "cell_type": "code",
   "execution_count": null,
   "id": "c498df34",
   "metadata": {},
   "outputs": [],
   "source": [
    "5. Create a programme that searches a folder tree for files with a certain file extension (such as .pdf or .jpg). \n",
    "   Copy these files from whatever location they are in to a new folder."
   ]
  },
  {
   "cell_type": "code",
   "execution_count": 6,
   "id": "e1bf017e",
   "metadata": {},
   "outputs": [
    {
     "name": "stdout",
     "output_type": "stream",
     "text": [
      "Looking in /Users/pritammahangade/Desktop/python basics/randomFolder for files with extensions of .php, .py, .pdf, jpg\n"
     ]
    }
   ],
   "source": [
    "import os, shutil\n",
    "\n",
    "def selectiveCopy(folder, extensions, destFolder):\n",
    "\tfolder = os.path.abspath(folder)\n",
    "\tdestFolder = os.path.abspath(destFolder)\n",
    "\tprint('Looking in', folder, 'for files with extensions of', ', '.join(extensions))\n",
    "\tfor foldername, subfolders, filenames in os.walk(folder):\n",
    "\t\tfor filename in filenames:\n",
    "\t\t\tname, extension = os.path.splitext(filename)\n",
    "\t\t\tif extension in extensions:\n",
    "\t\t\t\tfileAbsPath = foldername + os.path.sep + filename\n",
    "\t\t\t\tprint('Coping', fileAbsPath, 'to', destFolder)\n",
    "\t\t\t\tshutil.copy(fileAbsPath, destFolder)\n",
    "\n",
    "extensions = ['.php', '.py' , '.pdf' , 'jpg']\n",
    "folder = 'randomFolder'\n",
    "destFolder = 'selectiveFolder'\n",
    "selectiveCopy(folder, extensions, destFolder)"
   ]
  }
 ],
 "metadata": {
  "kernelspec": {
   "display_name": "Python 3 (ipykernel)",
   "language": "python",
   "name": "python3"
  },
  "language_info": {
   "codemirror_mode": {
    "name": "ipython",
    "version": 3
   },
   "file_extension": ".py",
   "mimetype": "text/x-python",
   "name": "python",
   "nbconvert_exporter": "python",
   "pygments_lexer": "ipython3",
   "version": "3.9.13"
  }
 },
 "nbformat": 4,
 "nbformat_minor": 5
}
