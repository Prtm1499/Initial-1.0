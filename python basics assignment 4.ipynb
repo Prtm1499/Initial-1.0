{
 "cells": [
  {
   "cell_type": "code",
   "execution_count": null,
   "id": "1ad3ce95",
   "metadata": {},
   "outputs": [],
   "source": [
    "1. What exactly is [] ?\n",
    "\n",
    "Ans: [] is an empty list."
   ]
  },
  {
   "cell_type": "code",
   "execution_count": null,
   "id": "8ff0e276",
   "metadata": {},
   "outputs": [],
   "source": [
    "2. In a list of values stored in a variable called spam, how would you assign the value \"hello\" ; as the third value ? \n",
    "   (Assume [2, 4, 6, 8, 10] are in spam.)\n",
    "    \n",
    "    Let's pretend the spam includes the list ['a' , 'b' , 'c' , 'd'] for the next three queries.\n",
    "\n",
    "Ans: spam[2] = \"hello\"\n",
    "    "
   ]
  },
  {
   "cell_type": "code",
   "execution_count": 3,
   "id": "a530b184",
   "metadata": {},
   "outputs": [],
   "source": [
    "spam[2] = \"hello\""
   ]
  },
  {
   "cell_type": "code",
   "execution_count": 4,
   "id": "bad02f4b",
   "metadata": {},
   "outputs": [
    {
     "name": "stdout",
     "output_type": "stream",
     "text": [
      "[2, 4, 6, 8, 10]\n",
      "[2, 4, 'hello', 8, 10]\n"
     ]
    }
   ],
   "source": [
    "spam=[2,4,6,8,10]\n",
    "print(spam)\n",
    "spam[2]='hello' #List uses zero based indexing\n",
    "print(spam)"
   ]
  },
  {
   "cell_type": "code",
   "execution_count": null,
   "id": "67ca5c83",
   "metadata": {},
   "outputs": [],
   "source": [
    "3. What is the value of spam[int(int('3'* 2) / 11)] ?\n",
    "   Let's pretend the spam includes the list ['a' , 'b' , 'c' , 'd'] for the next three queries."
   ]
  },
  {
   "cell_type": "code",
   "execution_count": 1,
   "id": "ced7e15e",
   "metadata": {},
   "outputs": [
    {
     "name": "stdout",
     "output_type": "stream",
     "text": [
      "spam[int(int('3'*2)//11)] -> d\n"
     ]
    }
   ],
   "source": [
    "spam=['a','b','c','d']\n",
    "print(\"spam[int(int('3'*2)//11)] ->\",spam[int(int('3'*2)//11)])"
   ]
  },
  {
   "cell_type": "code",
   "execution_count": null,
   "id": "07a28db8",
   "metadata": {},
   "outputs": [],
   "source": [
    "4. What is the value of spam[-1] ?"
   ]
  },
  {
   "cell_type": "code",
   "execution_count": 3,
   "id": "2c7b797f",
   "metadata": {},
   "outputs": [
    {
     "data": {
      "text/plain": [
       "'d'"
      ]
     },
     "execution_count": 3,
     "metadata": {},
     "output_type": "execute_result"
    }
   ],
   "source": [
    "spam[-1]"
   ]
  },
  {
   "cell_type": "code",
   "execution_count": null,
   "id": "8df9606d",
   "metadata": {},
   "outputs": [],
   "source": [
    "5. What is the value of spam[:2]?"
   ]
  },
  {
   "cell_type": "code",
   "execution_count": 4,
   "id": "22a0abee",
   "metadata": {},
   "outputs": [
    {
     "data": {
      "text/plain": [
       "['a', 'b']"
      ]
     },
     "execution_count": 4,
     "metadata": {},
     "output_type": "execute_result"
    }
   ],
   "source": [
    "spam[:2]"
   ]
  },
  {
   "cell_type": "code",
   "execution_count": null,
   "id": "a9648aef",
   "metadata": {},
   "outputs": [],
   "source": [
    "Let's pretend bacon has the list [3.14,'cat',11,'cat',True] for the next three question"
   ]
  },
  {
   "cell_type": "code",
   "execution_count": null,
   "id": "6a54ac5c",
   "metadata": {},
   "outputs": [],
   "source": [
    "6. What is the value of bacon.index('cat') ? "
   ]
  },
  {
   "cell_type": "code",
   "execution_count": 6,
   "id": "4188b609",
   "metadata": {},
   "outputs": [
    {
     "name": "stdout",
     "output_type": "stream",
     "text": [
      "bacon.index('cat') = 1\n"
     ]
    }
   ],
   "source": [
    "bacon=[3.14,'cat',11,'cat',True]\n",
    "print(\"bacon.index('cat') =\",bacon.index('cat'))"
   ]
  },
  {
   "cell_type": "code",
   "execution_count": null,
   "id": "bb87fb04",
   "metadata": {},
   "outputs": [],
   "source": [
    "7. How does bacon.append(99) change the look of the list value in bacon ?\n",
    "\n",
    "Ans: The append adds the new elements at the end of the list."
   ]
  },
  {
   "cell_type": "code",
   "execution_count": 7,
   "id": "8ec8879b",
   "metadata": {},
   "outputs": [
    {
     "name": "stdout",
     "output_type": "stream",
     "text": [
      "[3.14, 'cat', 11, 'cat', True]\n",
      "[3.14, 'cat', 11, 'cat', True, 99]\n"
     ]
    }
   ],
   "source": [
    "print(bacon)\n",
    "bacon.append(99)\n",
    "print(bacon)"
   ]
  },
  {
   "cell_type": "code",
   "execution_count": null,
   "id": "7dd3e0d1",
   "metadata": {},
   "outputs": [],
   "source": [
    "8. How does bacon.remove('cat') change the look of the list in bacon ?"
   ]
  },
  {
   "cell_type": "code",
   "execution_count": 8,
   "id": "cf1890bf",
   "metadata": {},
   "outputs": [
    {
     "name": "stdout",
     "output_type": "stream",
     "text": [
      "[3.14, 'cat', 11, 'cat', True, 99]\n",
      "[3.14, 11, 'cat', True, 99]\n"
     ]
    }
   ],
   "source": [
    "print(bacon)\n",
    "bacon.remove('cat')\n",
    "print(bacon)"
   ]
  },
  {
   "cell_type": "code",
   "execution_count": null,
   "id": "fc96beed",
   "metadata": {},
   "outputs": [],
   "source": [
    "9. What are the list concatenation and list replication operators ?\n",
    "\n",
    "Ans : The operator for list concatenation (+) \n",
    "      The operator for replication (*)"
   ]
  },
  {
   "cell_type": "code",
   "execution_count": null,
   "id": "477b9d7d",
   "metadata": {},
   "outputs": [],
   "source": [
    "10. What is difference between the list methods append() and insert() ?\n",
    "\n",
    "Ans: 1. append - it adds the value in the end of the list\n",
    "     2. insert - it adds the value anywhere in between the list"
   ]
  },
  {
   "cell_type": "code",
   "execution_count": null,
   "id": "0d3a1309",
   "metadata": {},
   "outputs": [],
   "source": [
    "11. What are the two methods for removing items from a list ?\n",
    "\n",
    "Ans: The \"del\" statement and \"remove\" method can be used to remove items from the list"
   ]
  },
  {
   "cell_type": "code",
   "execution_count": null,
   "id": "c4776ce7",
   "metadata": {},
   "outputs": [],
   "source": [
    "12. Describe how list values and string values are identical.\n",
    "\n",
    "Ans: List values are identical to the string values. The list values are immutable but the string values are mutable."
   ]
  },
  {
   "cell_type": "code",
   "execution_count": null,
   "id": "64f8731a",
   "metadata": {},
   "outputs": [],
   "source": [
    "13. What's the difference between tuples and lists ?\n",
    "\n",
    "Ans: Tuples are immutable and list are mutable. Tuples are faster than list. Tuples are represented by () and list is represented\n",
    "     by []."
   ]
  },
  {
   "cell_type": "code",
   "execution_count": null,
   "id": "3eb8cdec",
   "metadata": {},
   "outputs": [],
   "source": [
    "14. How do you type a tuple value that only contains the integer 42 ?\n",
    "\n",
    "Ans : The tuple value is written as 42. "
   ]
  },
  {
   "cell_type": "code",
   "execution_count": 4,
   "id": "906a78e9",
   "metadata": {},
   "outputs": [
    {
     "name": "stdout",
     "output_type": "stream",
     "text": [
      "<class 'tuple'>\n"
     ]
    }
   ],
   "source": [
    "tuple=(42,)\n",
    "print(type(tuple))"
   ]
  },
  {
   "cell_type": "code",
   "execution_count": null,
   "id": "4ff0d1d0",
   "metadata": {},
   "outputs": [],
   "source": [
    "15. How do you get a list value's tuple form ? How do you get a tuple value's list form ?\n",
    "\n",
    "Ans: The tuple() and list() functions, respectively are used to convert a list to tuple and vice versa"
   ]
  },
  {
   "cell_type": "code",
   "execution_count": null,
   "id": "014c1b07",
   "metadata": {},
   "outputs": [],
   "source": [
    "16. Variables that \"contain\"; list values are not necessarily lists themselves. Instead, what do they\n",
    "contain ?\n",
    "\n",
    "Ans: It contains values of the list."
   ]
  },
  {
   "cell_type": "code",
   "execution_count": null,
   "id": "3c01ce29",
   "metadata": {},
   "outputs": [],
   "source": [
    "17. How do you distinguish between copy.copy() and copy.deepcopy() ?\n",
    "\n",
    "Ans: The copy.copy() function will do a shallow copy of a list, while the copy.deepcopy() function will do a deep copy of a list. \n",
    "     That is, only copy.deepcopy() will duplicate any lists inside the list."
   ]
  }
 ],
 "metadata": {
  "kernelspec": {
   "display_name": "Python 3 (ipykernel)",
   "language": "python",
   "name": "python3"
  },
  "language_info": {
   "codemirror_mode": {
    "name": "ipython",
    "version": 3
   },
   "file_extension": ".py",
   "mimetype": "text/x-python",
   "name": "python",
   "nbconvert_exporter": "python",
   "pygments_lexer": "ipython3",
   "version": "3.9.13"
  }
 },
 "nbformat": 4,
 "nbformat_minor": 5
}
