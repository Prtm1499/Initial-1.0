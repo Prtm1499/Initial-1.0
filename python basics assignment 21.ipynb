{
 "cells": [
  {
   "cell_type": "code",
   "execution_count": null,
   "id": "c8a8cdac",
   "metadata": {},
   "outputs": [],
   "source": [
    "1. Add the current date to the text file today.txt as a string."
   ]
  },
  {
   "cell_type": "code",
   "execution_count": 1,
   "id": "929a7029",
   "metadata": {},
   "outputs": [
    {
     "data": {
      "text/plain": [
       "'2023-02-08'"
      ]
     },
     "execution_count": 1,
     "metadata": {},
     "output_type": "execute_result"
    }
   ],
   "source": [
    "import datetime\n",
    "from datetime import date\n",
    "now = date.today()\n",
    "cur_date = now.isoformat()\n",
    "cur_date"
   ]
  },
  {
   "cell_type": "code",
   "execution_count": 2,
   "id": "15618c1e",
   "metadata": {},
   "outputs": [],
   "source": [
    "with open('today.txt','w') as file:\n",
    "    file.write(cur_date)"
   ]
  },
  {
   "cell_type": "code",
   "execution_count": null,
   "id": "646784e5",
   "metadata": {},
   "outputs": [],
   "source": [
    "2. Read the text file today.txt into the string today_string"
   ]
  },
  {
   "cell_type": "code",
   "execution_count": 3,
   "id": "71708f5a",
   "metadata": {},
   "outputs": [
    {
     "data": {
      "text/plain": [
       "'2023-02-08'"
      ]
     },
     "execution_count": 3,
     "metadata": {},
     "output_type": "execute_result"
    }
   ],
   "source": [
    "with open('today.txt','r') as file:\n",
    "    today_string = file.read()\n",
    "today_string"
   ]
  },
  {
   "cell_type": "code",
   "execution_count": null,
   "id": "e5f73886",
   "metadata": {},
   "outputs": [],
   "source": [
    "3. Parse the date from today_string."
   ]
  },
  {
   "cell_type": "code",
   "execution_count": 4,
   "id": "4e8d5026",
   "metadata": {},
   "outputs": [
    {
     "data": {
      "text/plain": [
       "datetime.datetime(2023, 2, 8, 0, 0)"
      ]
     },
     "execution_count": 4,
     "metadata": {},
     "output_type": "execute_result"
    }
   ],
   "source": [
    "from datetime import datetime\n",
    "format = '%Y-%m-%d'\n",
    "datetime.strptime(today_string,format)"
   ]
  },
  {
   "cell_type": "code",
   "execution_count": null,
   "id": "0c3974c4",
   "metadata": {},
   "outputs": [],
   "source": [
    "4. List the files in your current directory"
   ]
  },
  {
   "cell_type": "code",
   "execution_count": 5,
   "id": "04fe9073",
   "metadata": {},
   "outputs": [
    {
     "name": "stdout",
     "output_type": "stream",
     "text": [
      "python basics assignment 4.ipynb\n",
      "python basics assignment 16.ipynb\n",
      "python basics assignment 14.ipynb\n",
      "python basics assignment 6.ipynb\n",
      "Untitled1.ipynb\n",
      "Python Basics Assignment 2.ipynb\n",
      ".DS_Store\n",
      "python basics assignment 10.ipynb\n",
      "python basics assignment 12.ipynb\n",
      "python basics assignment 15.ipynb\n",
      "Untitled.ipynb\n",
      "today.txt\n",
      "python basics assignment 7.ipynb\n",
      "python basics assignment 5.ipynb\n",
      "zoo.py\n",
      "python basics assignment 17.ipynb\n",
      "python basics assignment 13.ipynb\n",
      "Python basics assignment 3.ipynb\n",
      "python basics assignment 11.ipynb\n",
      "python basics assignment 20.ipynb\n",
      "books.csv\n",
      "python basics assignment 9.ipynb\n",
      "python basics assignment 19.ipynb\n",
      "assignment 01.ipynb\n",
      "test.txt\n",
      "books.db\n",
      "application_log.txt\n",
      "python basics assignment 18.ipynb\n",
      "python basics assignment 8.ipynb\n",
      "zoo.cpython-39.pyc\n",
      "python basics assignment 19-checkpoint.ipynb\n",
      "python basics assignment 12-checkpoint.ipynb\n",
      "python basics assignment 16-checkpoint.ipynb\n",
      "python basics assignment 5-checkpoint.ipynb\n",
      "python basics assignment 18-checkpoint.ipynb\n",
      "python basics assignment 13-checkpoint.ipynb\n",
      "python basics assignment 17-checkpoint.ipynb\n",
      "python basics assignment 4-checkpoint.ipynb\n",
      "python basics assignment 8-checkpoint.ipynb\n",
      "python basics assignment 10-checkpoint.ipynb\n",
      "Python basics assignment 3-checkpoint.ipynb\n",
      "Untitled1-checkpoint.ipynb\n",
      "python basics assignment 7-checkpoint.ipynb\n",
      "python basics assignment 14-checkpoint.ipynb\n",
      "Untitled-checkpoint.ipynb\n",
      "python basics assignment 11-checkpoint.ipynb\n",
      "python basics assignment 9-checkpoint.ipynb\n",
      "Python Basics Assignment 2-checkpoint.ipynb\n",
      "python basics assignment 6-checkpoint.ipynb\n",
      "python basics assignment 20-checkpoint.ipynb\n",
      "python basics assignment 15-checkpoint.ipynb\n"
     ]
    }
   ],
   "source": [
    "import os\n",
    "for folders, subfolders, files in os.walk(os.getcwd()):\n",
    "    for file in files:\n",
    "        print(file)"
   ]
  },
  {
   "cell_type": "code",
   "execution_count": null,
   "id": "3fe3893f",
   "metadata": {},
   "outputs": [],
   "source": [
    "5. Create a list of all of the files in your parent directory (minimum five files should be available)."
   ]
  },
  {
   "cell_type": "code",
   "execution_count": 6,
   "id": "fe1490dc",
   "metadata": {},
   "outputs": [
    {
     "data": {
      "text/plain": [
       "['python basics assignment 4.ipynb',\n",
       " 'python basics assignment 16.ipynb',\n",
       " 'python basics assignment 14.ipynb',\n",
       " 'python basics assignment 6.ipynb',\n",
       " 'Untitled1.ipynb',\n",
       " 'Python Basics Assignment 2.ipynb',\n",
       " '.DS_Store',\n",
       " 'python basics assignment 10.ipynb',\n",
       " 'python basics assignment 12.ipynb',\n",
       " 'python basics assignment 15.ipynb',\n",
       " 'Untitled.ipynb',\n",
       " 'today.txt',\n",
       " 'python basics assignment 7.ipynb',\n",
       " 'python basics assignment 5.ipynb',\n",
       " 'zoo.py',\n",
       " 'python basics assignment 17.ipynb',\n",
       " 'python basics assignment 13.ipynb',\n",
       " '__pycache__',\n",
       " 'Python basics assignment 3.ipynb',\n",
       " 'python basics assignment 11.ipynb',\n",
       " 'python basics assignment 20.ipynb',\n",
       " 'books.csv',\n",
       " 'python basics assignment 9.ipynb',\n",
       " 'python basics assignment 19.ipynb',\n",
       " 'assignment 01.ipynb',\n",
       " 'test.txt',\n",
       " '.ipynb_checkpoints',\n",
       " 'books.db',\n",
       " 'application_log.txt',\n",
       " 'python basics assignment 18.ipynb',\n",
       " 'python basics assignment 8.ipynb']"
      ]
     },
     "execution_count": 6,
     "metadata": {},
     "output_type": "execute_result"
    }
   ],
   "source": [
    "import os \n",
    "os.listdir()"
   ]
  },
  {
   "cell_type": "code",
   "execution_count": null,
   "id": "a80add09",
   "metadata": {},
   "outputs": [],
   "source": [
    "6. Use multiprocessing to create three separate processes. Make each one wait a random number of seconds between one and five, \n",
    "   print the current time, and then exit."
   ]
  },
  {
   "cell_type": "code",
   "execution_count": null,
   "id": "61c63bfb",
   "metadata": {},
   "outputs": [],
   "source": [
    "import multiprocessing\n",
    "import time \n",
    "import random\n",
    "import datetime\n",
    "\n",
    "def procOne():\n",
    "    print(f'Proc_one_Starttime -> {datetime.datetime.now()}')\n",
    "    time.sleep(random.randint(1,5))\n",
    "    print(f'Proc_one_Endtime -> {datetime.datetime.now()}')\n",
    "    \n",
    "def procTwo():\n",
    "    print(f'Proc_two_Starttime -> {datetime.datetime.now()}')\n",
    "    time.sleep(random.randint(1,5))\n",
    "    print(f'Proc_two_Endtime -> {datetime.datetime.now()}')\n",
    "\n",
    "def procThree():\n",
    "    print(f'Proc_two_Starttime -> {datetime.datetime.now()}')\n",
    "    time.sleep(random.randint(1,5))\n",
    "    print(f'Proc_two_Endtime -> {datetime.datetime.now()}')\n",
    "    \n",
    "if __name__ == \"__main__\":    \n",
    "    p1 = multiprocessing.Process(target=procOne)\n",
    "    p2 = multiprocessing.Process(target=procTwo)\n",
    "    p3 = multiprocessing.Process(target=procThree)\n",
    "\n",
    "    p1.start()\n",
    "    p2.start()\n",
    "    p3.start()\n",
    "\n",
    "    p1.join()\n",
    "    p2.join()\n",
    "    p3.join()"
   ]
  },
  {
   "cell_type": "code",
   "execution_count": null,
   "id": "52d00469",
   "metadata": {},
   "outputs": [],
   "source": [
    "7. Create a date object of your day of birth."
   ]
  },
  {
   "cell_type": "code",
   "execution_count": 8,
   "id": "a9af8d3f",
   "metadata": {},
   "outputs": [
    {
     "name": "stdout",
     "output_type": "stream",
     "text": [
      "1999-04-01 00:00:00 <class 'datetime.datetime'>\n"
     ]
    }
   ],
   "source": [
    "from datetime import datetime\n",
    "my_dob = datetime.strptime('01/04/1999','%d/%m/%Y')\n",
    "print(my_dob, type(my_dob))"
   ]
  },
  {
   "cell_type": "code",
   "execution_count": null,
   "id": "5e9fa82b",
   "metadata": {},
   "outputs": [],
   "source": [
    "8. What day of the week was your day of birth ?"
   ]
  },
  {
   "cell_type": "code",
   "execution_count": 12,
   "id": "6b8728c3",
   "metadata": {},
   "outputs": [
    {
     "data": {
      "text/plain": [
       "'Thursday'"
      ]
     },
     "execution_count": 12,
     "metadata": {},
     "output_type": "execute_result"
    }
   ],
   "source": [
    "from datetime import datetime\n",
    "my_dob = datetime(1999,4,1)\n",
    "my_dob.strftime(\"%A\")"
   ]
  },
  {
   "cell_type": "code",
   "execution_count": null,
   "id": "a38bfec5",
   "metadata": {},
   "outputs": [],
   "source": [
    "9. When will you be (or when were you) 10,000 days old ?"
   ]
  },
  {
   "cell_type": "code",
   "execution_count": 16,
   "id": "d3ea4576",
   "metadata": {},
   "outputs": [
    {
     "data": {
      "text/plain": [
       "datetime.datetime(1971, 11, 14, 0, 0)"
      ]
     },
     "execution_count": 16,
     "metadata": {},
     "output_type": "execute_result"
    }
   ],
   "source": [
    "from datetime import datetime, timedelta\n",
    "my_dob = datetime.strptime(\"1/4/1999\",'%d/%m/%Y')\n",
    "future_date = my_dob-timedelta(10000)\n",
    "future_date"
   ]
  },
  {
   "cell_type": "code",
   "execution_count": null,
   "id": "410cefbd",
   "metadata": {},
   "outputs": [],
   "source": []
  }
 ],
 "metadata": {
  "kernelspec": {
   "display_name": "Python 3 (ipykernel)",
   "language": "python",
   "name": "python3"
  },
  "language_info": {
   "codemirror_mode": {
    "name": "ipython",
    "version": 3
   },
   "file_extension": ".py",
   "mimetype": "text/x-python",
   "name": "python",
   "nbconvert_exporter": "python",
   "pygments_lexer": "ipython3",
   "version": "3.9.13"
  }
 },
 "nbformat": 4,
 "nbformat_minor": 5
}
