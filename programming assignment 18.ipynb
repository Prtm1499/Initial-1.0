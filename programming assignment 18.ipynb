{
 "cells": [
  {
   "cell_type": "code",
   "execution_count": null,
   "id": "cb03a15d",
   "metadata": {},
   "outputs": [],
   "source": [
    "1.Create a function that takes a list of non-negative integers and strings and return a new list without the \n",
    "strings.\n",
    "Examples\n",
    "filter_list([1, 2, \"a\", \"b\"]) ➞ [1, 2]\n",
    "\n",
    "filter_list([1, \"a\", \"b\", 0, 15]) ➞ [1, 0, 15]\n",
    "\n",
    "filter_list([1, 2, \"aasf\", \"1\", \"123\", 123]) ➞ [1, 2, 123]"
   ]
  },
  {
   "cell_type": "code",
   "execution_count": 2,
   "id": "1acccd8d",
   "metadata": {},
   "outputs": [
    {
     "name": "stdout",
     "output_type": "stream",
     "text": [
      "[1, 2]\n",
      "[1, 0, 15]\n",
      "[1, 2, 123]\n"
     ]
    }
   ],
   "source": [
    "def filter_list(list):\n",
    "    out_list = []\n",
    "    for i in list:\n",
    "        if type(i) == int and i >= 0:\n",
    "            out_list.append(i)\n",
    "    return out_list\n",
    "\n",
    "print(f'{filter_list([1, 2, \"a\", \"b\"])}')\n",
    "print(f'{filter_list([1, \"a\", \"b\", 0, 15])}')\n",
    "print(f'{filter_list([1, 2, \"aasf\", \"1\", \"123\", 123])}')"
   ]
  },
  {
   "cell_type": "code",
   "execution_count": null,
   "id": "542712c2",
   "metadata": {},
   "outputs": [],
   "source": [
    "2.The \"Reverser\" takes a string as input and returns that string in reverse order, with the opposite case.\n",
    "Examples\n",
    "reverse(\"Hello World\") ➞ \"DLROw OLLEh\"\n",
    "\n",
    "reverse(\"ReVeRsE\") ➞ \"eSrEvEr\"\n",
    "\n",
    "reverse(\"Radar\") ➞ \"RADAr\""
   ]
  },
  {
   "cell_type": "code",
   "execution_count": 3,
   "id": "6a34c14d",
   "metadata": {},
   "outputs": [],
   "source": [
    "def reverse(txt):\n",
    "    reversed_txt = txt[::-1]\n",
    "    out_txt = \"\"\n",
    "    for i in reversed_txt:\n",
    "        if i.islower():\n",
    "            out_txt += i.upper()\n",
    "        else:\n",
    "            out_txt += i.lower()\n",
    "    return out_txt"
   ]
  },
  {
   "cell_type": "code",
   "execution_count": 6,
   "id": "1022bac6",
   "metadata": {},
   "outputs": [
    {
     "name": "stdout",
     "output_type": "stream",
     "text": [
      "DLROw OLLEh\n",
      "eSrEvEr\n",
      "RADAr\n"
     ]
    }
   ],
   "source": [
    "print(reverse('Hello World'))\n",
    "print(reverse('ReVeRsE'))\n",
    "print(reverse('Radar'))"
   ]
  },
  {
   "cell_type": "code",
   "execution_count": null,
   "id": "25d65a16",
   "metadata": {},
   "outputs": [],
   "source": [
    ".You can assign variables from lists like this:\n",
    "lst = [1, 2, 3, 4, 5, 6]\n",
    "\n",
    "first = lst[0]\n",
    "\n",
    "middle = lst[1:-1]\n",
    "\n",
    "last = lst[-1]\n",
    "\n",
    "print(first) ➞ outputs 1\n",
    "\n",
    "print(middle) ➞ outputs [2, 3, 4, 5]\n",
    "\n",
    "print(last) ➞ outputs 6\n",
    "\n",
    "With Python 3, you can assign variables from lists in a much more succinct way. Create variables first, middle \n",
    "and last from the given list using destructuring assignment (check the Resources tab for some examples), where:\n",
    "\n",
    "first ➞ 1\n",
    "\n",
    "middle ➞ [2, 3, 4, 5]\n",
    "\n",
    "last ➞ 6\n",
    "\n",
    "Your task is to unpack the list writeyourcodehere into three variables, being first, middle, and last, with \n",
    "middle being everything in between the first and last element. Then print all three variables."
   ]
  },
  {
   "cell_type": "code",
   "execution_count": 7,
   "id": "f2b939a2",
   "metadata": {},
   "outputs": [
    {
     "name": "stdout",
     "output_type": "stream",
     "text": [
      "first ➞ 1\n",
      "middle ➞ [2, 3, 4, 5]\n",
      "last ➞ 6\n"
     ]
    }
   ],
   "source": [
    "first, *middle, last = [1,2,3,4,5,6]\n",
    "print(f'first ➞ {first}')\n",
    "print(f'middle ➞ {middle}')\n",
    "print(f'last ➞ {last}')"
   ]
  },
  {
   "cell_type": "code",
   "execution_count": null,
   "id": "98670cff",
   "metadata": {},
   "outputs": [],
   "source": [
    "4.Write a function that calculates the factorial of a number recursively.\n",
    "Examples\n",
    "factorial(5) ➞ 120\n",
    "\n",
    "factorial(3) ➞ 6\n",
    "\n",
    "factorial(1) ➞ 1\n",
    "\n",
    "factorial(0) ➞ 1"
   ]
  },
  {
   "cell_type": "code",
   "execution_count": 8,
   "id": "f27f7d6a",
   "metadata": {},
   "outputs": [],
   "source": [
    "def factorial(n):\n",
    "    if n == 0:\n",
    "        return 1\n",
    "    else:\n",
    "        return n * factorial(n-1)"
   ]
  },
  {
   "cell_type": "code",
   "execution_count": 9,
   "id": "2c435e14",
   "metadata": {},
   "outputs": [
    {
     "name": "stdout",
     "output_type": "stream",
     "text": [
      "120\n",
      "6\n",
      "1\n",
      "1\n"
     ]
    }
   ],
   "source": [
    "print(factorial(5))\n",
    "print(factorial(3))\n",
    "print(factorial(1))\n",
    "print(factorial(0))"
   ]
  },
  {
   "cell_type": "code",
   "execution_count": null,
   "id": "5e1c0195",
   "metadata": {},
   "outputs": [],
   "source": [
    "5.Write a function that moves all elements of one type to the end of the list.\n",
    "Examples\n",
    "move_to_end([1, 3, 2, 4, 4, 1], 1) ➞ [3, 2, 4, 4, 1, 1]\n",
    "\n",
    "Move all the 1s to the end of the array.\n",
    "move_to_end([7, 8, 9, 1, 2, 3, 4], 9) ➞ [7, 8, 1, 2, 3, 4, 9]\n",
    "\n",
    "move_to_end([\"a\", \"a\", \"a\", \"b\"], \"a\") ➞ [\"b\", \"a\", \"a\", \"a\"]"
   ]
  },
  {
   "cell_type": "code",
   "execution_count": 10,
   "id": "ef3de52c",
   "metadata": {},
   "outputs": [],
   "source": [
    "def move_to_end(lst, el):\n",
    "    count = lst.count(el)\n",
    "    lst = [i for i in lst if i != el]\n",
    "    lst += [el]*count\n",
    "    return lst"
   ]
  },
  {
   "cell_type": "code",
   "execution_count": 11,
   "id": "b8e2eadb",
   "metadata": {},
   "outputs": [
    {
     "name": "stdout",
     "output_type": "stream",
     "text": [
      "[3, 2, 4, 4, 1, 1]\n",
      "[7, 8, 1, 2, 3, 4, 9]\n",
      "['b', 'a', 'a', 'a']\n"
     ]
    }
   ],
   "source": [
    "print(move_to_end([1, 3, 2, 4, 4, 1], 1))\n",
    "print(move_to_end([7, 8, 9, 1, 2, 3, 4], 9))\n",
    "print(move_to_end([\"a\", \"a\", \"a\", \"b\"], \"a\"))"
   ]
  },
  {
   "cell_type": "code",
   "execution_count": null,
   "id": "2abdfd00",
   "metadata": {},
   "outputs": [],
   "source": []
  }
 ],
 "metadata": {
  "kernelspec": {
   "display_name": "Python 3 (ipykernel)",
   "language": "python",
   "name": "python3"
  },
  "language_info": {
   "codemirror_mode": {
    "name": "ipython",
    "version": 3
   },
   "file_extension": ".py",
   "mimetype": "text/x-python",
   "name": "python",
   "nbconvert_exporter": "python",
   "pygments_lexer": "ipython3",
   "version": "3.9.13"
  }
 },
 "nbformat": 4,
 "nbformat_minor": 5
}
