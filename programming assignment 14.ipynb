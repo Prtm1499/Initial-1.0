{
 "cells": [
  {
   "cell_type": "code",
   "execution_count": null,
   "id": "18f9d135",
   "metadata": {},
   "outputs": [],
   "source": [
    "Define a class with a generator which can iterate the numbers, which are divisible by 7, between a given range 0 \n",
    "and n."
   ]
  },
  {
   "cell_type": "code",
   "execution_count": 3,
   "id": "c1173b5d",
   "metadata": {},
   "outputs": [
    {
     "name": "stdout",
     "output_type": "stream",
     "text": [
      "0 7 14 21 28 35 42 49 56 63 70 77 84 91 98 "
     ]
    }
   ],
   "source": [
    "class div_gen:\n",
    "    def __init__(self,in_num):\n",
    "        self.in_num = in_num\n",
    "    def get_numbers(self):\n",
    "        for i in range(0,self.in_num+1):\n",
    "            if i%7 == 0:\n",
    "                yield i\n",
    "output = div_gen(100)\n",
    "for i in output.get_numbers():\n",
    "    print(i,end=' ')"
   ]
  },
  {
   "cell_type": "code",
   "execution_count": null,
   "id": "4744db9b",
   "metadata": {},
   "outputs": [],
   "source": [
    "2.Write a program to compute the frequency of the words from the input. The output should output after sorting \n",
    "the key alphanumerically. Suppose the following input is supplied to the program: New to Python or choosing \n",
    "between Python 2 and Python 3? Read Python 2 or Python 3. Then, the output should be: 2:2 3.:1 3?:1 New:1 \n",
    "Python:5 Read:1 and:1 between:1 choosing:1 or:2 to:1"
   ]
  },
  {
   "cell_type": "code",
   "execution_count": 6,
   "id": "68d15f27",
   "metadata": {},
   "outputs": [
    {
     "name": "stdout",
     "output_type": "stream",
     "text": [
      "Enter the Input String: New to Python or choosing between Python 2 and Python 3? Read Python 2 or Python 3.\n",
      "2:2 3.:1 3?:1 New:1 Python:5 Read:1 and:1 between:1 choosing:1 or:2 to:1 "
     ]
    }
   ],
   "source": [
    "def frequency_check():\n",
    "    in_string = input(\"Enter the Input String: \")\n",
    "    frequency = {}\n",
    "    for i in in_string.split(\" \"):\n",
    "        if(frequency.get(i) == None):\n",
    "            frequency[i] = 1\n",
    "        else:\n",
    "            frequency[i]+=1\n",
    "    for i in sorted(frequency):\n",
    "        print(f'{i}:{frequency[i]}',end = ' ')\n",
    "frequency_check()"
   ]
  },
  {
   "cell_type": "code",
   "execution_count": null,
   "id": "6bfa8875",
   "metadata": {},
   "outputs": [],
   "source": [
    "3.Define a class Person and its two child classes: Male and Female. All classes have a method \"getGender\" which \n",
    "can print \"Male\" for Male class and \"Female\" for Female class."
   ]
  },
  {
   "cell_type": "code",
   "execution_count": 10,
   "id": "5efdf982",
   "metadata": {},
   "outputs": [],
   "source": [
    "            class Person:\n",
    "    def getGender(self):\n",
    "        pass\n",
    "class Male(Person):\n",
    "    def getGender(self):\n",
    "        print(\"Male\")\n",
    "class Female(Person):\n",
    "    def getGender(self):\n",
    "        print(\"Female\")"
   ]
  },
  {
   "cell_type": "code",
   "execution_count": 11,
   "id": "27c15779",
   "metadata": {},
   "outputs": [
    {
     "name": "stdout",
     "output_type": "stream",
     "text": [
      "Male\n",
      "None\n",
      "Female\n",
      "None\n"
     ]
    }
   ],
   "source": [
    "print(Male().getGender())\n",
    "print(Female().getGender())"
   ]
  },
  {
   "cell_type": "code",
   "execution_count": null,
   "id": "c0305a60",
   "metadata": {},
   "outputs": [],
   "source": [
    "4.Please write a program to generate all sentences where subject is in [\"I\", \"You\"] and verb is in \n",
    "[\"Play\", \"Love\"] and the object is in [\"Hockey\",\"Football\"]."
   ]
  },
  {
   "cell_type": "code",
   "execution_count": 12,
   "id": "0348ffc1",
   "metadata": {},
   "outputs": [],
   "source": [
    "def generate_sentences():\n",
    "    subjects = [\"I\", \"You\"]\n",
    "    verbs = [\"Play\", \"Love\"]\n",
    "    objects = [\"Hockey\", \"Football\"]\n",
    "    for subject in subjects:\n",
    "        for verb in verbs:\n",
    "            for obj in objects:\n",
    "                sentence = f\"{subject} {verb} {obj}.\"\n",
    "                print(sentence)"
   ]
  },
  {
   "cell_type": "code",
   "execution_count": 13,
   "id": "b9bab1bf",
   "metadata": {},
   "outputs": [
    {
     "name": "stdout",
     "output_type": "stream",
     "text": [
      "I Play Hockey.\n",
      "I Play Football.\n",
      "I Love Hockey.\n",
      "I Love Football.\n",
      "You Play Hockey.\n",
      "You Play Football.\n",
      "You Love Hockey.\n",
      "You Love Football.\n"
     ]
    }
   ],
   "source": [
    "generate_sentences()"
   ]
  },
  {
   "cell_type": "code",
   "execution_count": null,
   "id": "fa5e251d",
   "metadata": {},
   "outputs": [],
   "source": [
    "5.Please write a program to compress and decompress the string \"hello world!hello world!hello world!hello world!\"."
   ]
  },
  {
   "cell_type": "code",
   "execution_count": 17,
   "id": "732d2ae4",
   "metadata": {},
   "outputs": [
    {
     "name": "stdout",
     "output_type": "stream",
     "text": [
      "b'x\\x9c\\xcbH\\xcd\\xc9\\xc9W(\\xcf/\\xcaIQ\\xcc \\x82\\r\\x00\\xbd[\\x11\\xf5'\n",
      "b'hello world!hello world!hello world!hello world!'\n"
     ]
    }
   ],
   "source": [
    "import zlib\n",
    "\n",
    "# Compression\n",
    "string = b\"hello world!hello world!hello world!hello world!\"\n",
    "compressed_string = zlib.compress(string)\n",
    "print(compressed_string)\n",
    "\n",
    "# Decompression\n",
    "decompressed_string = zlib.decompress(compressed_string)\n",
    "print(decompressed_string)"
   ]
  },
  {
   "cell_type": "code",
   "execution_count": null,
   "id": "2179933f",
   "metadata": {},
   "outputs": [],
   "source": [
    "6.Please write a binary search function which searches an item in a sorted list. The function should return the \n",
    "index of element to be searched in the list."
   ]
  },
  {
   "cell_type": "code",
   "execution_count": 21,
   "id": "73861667",
   "metadata": {},
   "outputs": [
    {
     "name": "stdout",
     "output_type": "stream",
     "text": [
      "First occurrence of 4 is present at 2\n"
     ]
    }
   ],
   "source": [
    "from bisect import bisect_left\n",
    " \n",
    "def BinarySearch(a, x):\n",
    "    i = bisect_left(a, x)\n",
    "    if i != len(a) and a[i] == x:\n",
    "        return i\n",
    "    else:\n",
    "        return -1\n",
    " \n",
    "a  = [1, 2, 4, 4, 8]\n",
    "x = int(4)\n",
    "res = BinarySearch(a, x)\n",
    "if res == -1:\n",
    "    print(x, \"is absent\")\n",
    "else:\n",
    "    print(\"First occurrence of\", x, \"is present at\", res)"
   ]
  },
  {
   "cell_type": "code",
   "execution_count": null,
   "id": "b7182bfc",
   "metadata": {},
   "outputs": [],
   "source": []
  }
 ],
 "metadata": {
  "kernelspec": {
   "display_name": "Python 3 (ipykernel)",
   "language": "python",
   "name": "python3"
  },
  "language_info": {
   "codemirror_mode": {
    "name": "ipython",
    "version": 3
   },
   "file_extension": ".py",
   "mimetype": "text/x-python",
   "name": "python",
   "nbconvert_exporter": "python",
   "pygments_lexer": "ipython3",
   "version": "3.9.13"
  }
 },
 "nbformat": 4,
 "nbformat_minor": 5
}
