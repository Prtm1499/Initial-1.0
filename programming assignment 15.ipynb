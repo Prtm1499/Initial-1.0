{
 "cells": [
  {
   "cell_type": "code",
   "execution_count": null,
   "id": "cb3eba75",
   "metadata": {},
   "outputs": [],
   "source": [
    "1.Please write a program using generator to print the numbers which can be divisible by 5 and 7 between 0 and n \n",
    "in comma separated form while n is input by console. Example: If the following n is given as input to the \n",
    "program: 100 Then, the output of the program should be: 0,35,70"
   ]
  },
  {
   "cell_type": "code",
   "execution_count": 3,
   "id": "19cb02b9",
   "metadata": {},
   "outputs": [
    {
     "name": "stdout",
     "output_type": "stream",
     "text": [
      "0 35 70 "
     ]
    }
   ],
   "source": [
    "def show_div_num(in_num):\n",
    "    for i in range(0,in_num):\n",
    "        if(i%5 == 0) and (i%7 == 0):\n",
    "            yield i\n",
    "for i in show_div_num(100):\n",
    "    print(i,end = ' ')"
   ]
  },
  {
   "cell_type": "code",
   "execution_count": null,
   "id": "fb261d3c",
   "metadata": {},
   "outputs": [],
   "source": [
    "2.Please write a program using generator to print the even numbers between 0 and n in comma separated form while \n",
    "n is input by console. Example: If the following n is given as input to the program: 10 Then, the output of the \n",
    "program should be: 0,2,4,6,8,10"
   ]
  },
  {
   "cell_type": "code",
   "execution_count": 4,
   "id": "2fa7e455",
   "metadata": {},
   "outputs": [
    {
     "name": "stdout",
     "output_type": "stream",
     "text": [
      "Enter a number: 10\n",
      "0,2,4,6,8,10,"
     ]
    }
   ],
   "source": [
    "def show_even_num(in_num):\n",
    "    for i in range(0, in_num+1):\n",
    "        if i % 2 == 0:\n",
    "            yield i\n",
    "for i in show_even_num(int(input(\"Enter a number: \"))):\n",
    "    print(i, end=\",\")"
   ]
  },
  {
   "cell_type": "code",
   "execution_count": null,
   "id": "f5d032ee",
   "metadata": {},
   "outputs": [],
   "source": [
    "3.The Fibonacci Sequence is computed based on the following formula, Please write a program using list \n",
    "comprehension to print the Fibonacci Sequence in comma separated form with a given n input by console.\n",
    "f(n)=0 if n=0\n",
    "\n",
    "f(n)=1 if n=1\n",
    "\n",
    "f(n)=f(n-1)+f(n-2) if n>1\n",
    "\n",
    "Example: If the following n is given as input to the program: 7 Then, the output of the program \n",
    "should be: 0,1,1,2,3,5,8,13"
   ]
  },
  {
   "cell_type": "code",
   "execution_count": 6,
   "id": "1033e123",
   "metadata": {},
   "outputs": [
    {
     "name": "stdout",
     "output_type": "stream",
     "text": [
      "[0, 1, 1, 2, 3, 5, 8, 13, 21, 34, 55, 89, 144, 233, 377, 610, 987, 1597, 2584, 4181]\n"
     ]
    }
   ],
   "source": [
    "def genFibnacci(in_num):\n",
    "    if in_num == 0:\n",
    "        return 0\n",
    "    elif in_num == 1:\n",
    "        return 1\n",
    "    else:\n",
    "        return genFibnacci(in_num-1)+genFibnacci(in_num-2)\n",
    "    \n",
    "print([genFibnacci(x) for x in range(20)])"
   ]
  },
  {
   "cell_type": "code",
   "execution_count": null,
   "id": "f39cc012",
   "metadata": {},
   "outputs": [],
   "source": [
    "4.Assuming that we have some email addresses in the \"username@companyname.com\" format, please write program to \n",
    "print the user name of a given email address. Both user names and company names are composed of letters only.\n",
    "Example: If the following email address is given as input to the program: john@google.com Then, the output of \n",
    "the program should be: john"
   ]
  },
  {
   "cell_type": "code",
   "execution_count": 8,
   "id": "ad833f90",
   "metadata": {},
   "outputs": [
    {
     "name": "stdout",
     "output_type": "stream",
     "text": [
      "Enter Email Address:john@google.com\n",
      "Username of john@google.com is john\n"
     ]
    }
   ],
   "source": [
    "def getUsernames():\n",
    "    in_string = input('Enter Email Address:')\n",
    "    out_string = in_string.split('@')\n",
    "    print(f'Username of {in_string} is {out_string[0]}')\n",
    "\n",
    "getUsernames()"
   ]
  },
  {
   "cell_type": "code",
   "execution_count": null,
   "id": "ee38362a",
   "metadata": {},
   "outputs": [],
   "source": [
    "5.Define a class named Shape and its subclass Square. The Square class has an init function which takes a length \n",
    "as argument. Both classes have a area function which can print the area of the shape where Shape's area is 0 by \n",
    "default."
   ]
  },
  {
   "cell_type": "code",
   "execution_count": 9,
   "id": "158ea501",
   "metadata": {},
   "outputs": [
    {
     "name": "stdout",
     "output_type": "stream",
     "text": [
      "100\n"
     ]
    }
   ],
   "source": [
    "class Shape:\n",
    "    def area(self):\n",
    "        return 0\n",
    "class Square(Shape):\n",
    "    def __init__(self, length):\n",
    "        self.length = length\n",
    "    def area(self):\n",
    "        return self.length*self.length\n",
    "\n",
    "square = Square(10)\n",
    "print(square.area())"
   ]
  },
  {
   "cell_type": "code",
   "execution_count": null,
   "id": "de32b0bb",
   "metadata": {},
   "outputs": [],
   "source": []
  }
 ],
 "metadata": {
  "kernelspec": {
   "display_name": "Python 3 (ipykernel)",
   "language": "python",
   "name": "python3"
  },
  "language_info": {
   "codemirror_mode": {
    "name": "ipython",
    "version": 3
   },
   "file_extension": ".py",
   "mimetype": "text/x-python",
   "name": "python",
   "nbconvert_exporter": "python",
   "pygments_lexer": "ipython3",
   "version": "3.9.13"
  }
 },
 "nbformat": 4,
 "nbformat_minor": 5
}
