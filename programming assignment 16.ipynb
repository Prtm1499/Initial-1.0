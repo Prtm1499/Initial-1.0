{
 "cells": [
  {
   "cell_type": "code",
   "execution_count": null,
   "id": "54c4ff18",
   "metadata": {},
   "outputs": [],
   "source": [
    "1.Write a function that stutters a word as if someone is struggling to read it. The first two letters are repeated\n",
    "twice with an ellipsis ... and space after each, and then the word is pronounced with a question mark ?.\n",
    "Examples:\n",
    "stutter(\"incredible\") ➞ \"in... in... incredible?\"\n",
    "\n",
    "stutter(\"enthusiastic\") ➞ \"en... en... enthusiastic?\"\n",
    "\n",
    "stutter(\"outstanding\") ➞ \"ou... ou... outstanding?\"\n",
    "\n",
    "Hint :- Assume all input is in lower case and at least two characters long."
   ]
  },
  {
   "cell_type": "code",
   "execution_count": 1,
   "id": "3d5ba378",
   "metadata": {},
   "outputs": [
    {
     "name": "stdout",
     "output_type": "stream",
     "text": [
      "Enter the word to stutter: incredible\n",
      "in... in... incredible?\n",
      "Enter the word to stutter: enthusiastic\n",
      "en... en... enthusiastic?\n",
      "Enter the word to stutter: outstanding\n",
      "ou... ou... outstanding?\n"
     ]
    }
   ],
   "source": [
    "def shutterword():\n",
    "    in_string = input ('Enter the word to stutter: ')\n",
    "    stuttered_word = in_string[:2] + '... ' + in_string[:2] + '... ' + in_string + '?'\n",
    "    return stuttered_word\n",
    "\n",
    "for i in range(3):\n",
    "    print(shutterword())"
   ]
  },
  {
   "cell_type": "code",
   "execution_count": null,
   "id": "379f1650",
   "metadata": {},
   "outputs": [],
   "source": [
    "2.Create a function that takes an angle in radians and returns the corresponding angle in degrees rounded to one \n",
    "decimal place.\n",
    "Examples:\n",
    "radians_to_degrees(1) ➞ 57.3\n",
    "\n",
    "radians_to_degrees(20) ➞ 1145.9\n",
    "\n",
    "radians_to_degrees(50) ➞ 2864.8"
   ]
  },
  {
   "cell_type": "code",
   "execution_count": 2,
   "id": "b62614d4",
   "metadata": {},
   "outputs": [
    {
     "name": "stdout",
     "output_type": "stream",
     "text": [
      "Enter the angle in Radians: 1\n",
      "1 radian(s) ➞ 57.3 degrees\n",
      "Enter the angle in Radians: 20\n",
      "20 radian(s) ➞ 1145.9 degrees\n",
      "Enter the angle in Radians: 50\n",
      "50 radian(s) ➞ 2864.8 degrees\n"
     ]
    }
   ],
   "source": [
    "import math\n",
    "def radianToDegree():\n",
    "    in_num = int(input('Enter the angle in Radians: '))\n",
    "    out_num = (180/math.pi)*in_num\n",
    "    print(f'{in_num} radian(s) ➞ {out_num:.1f} degrees')\n",
    "\n",
    "for x in range(3):\n",
    "    radianToDegree()"
   ]
  },
  {
   "cell_type": "code",
   "execution_count": null,
   "id": "23256e8a",
   "metadata": {},
   "outputs": [],
   "source": [
    "3. In this challenge, establish if a given integer num is a Curzon number. If 1 plus 2 elevated to num is exactly \n",
    "divisible by 1 plus 2 multiplied by num, then num is a Curzon number. Given a non-negative integer num, implement \n",
    "a function that returns True if num is a Curzon number, or False otherwise.\n",
    "Examples:\n",
    "is_curzon(5) ➞ True\n",
    "\n",
    "2 ** 5 + 1 = 33\n",
    "2 * 5 + 1 = 11\n",
    "33 is a multiple of 11\n",
    "is_curzon(10) ➞ False\n",
    "\n",
    "2 ** 10 + 1 = 1025\n",
    "2 * 10 + 1 = 21\n",
    "1025 is not a multiple of 21\n",
    "is_curzon(14) ➞ True\n",
    "\n",
    "2 ** 14 + 1 = 16385\n",
    "2 * 14 + 1 = 29\n",
    "16385 is a multiple of 29"
   ]
  },
  {
   "cell_type": "code",
   "execution_count": 9,
   "id": "c8d5fe84",
   "metadata": {},
   "outputs": [
    {
     "name": "stdout",
     "output_type": "stream",
     "text": [
      "Enter a number: 5\n",
      "5 is a curzon number\n",
      "Enter a number: 10\n",
      "10 is not a curzon number\n",
      "Enter a number: 15\n",
      "15 is not a curzon number\n"
     ]
    }
   ],
   "source": [
    "def check_curzon():\n",
    "    in_num = int(input('Enter a number: '))\n",
    "    if ((2**in_num)+1)%((2*in_num)+1) == 0:\n",
    "        print(f'{in_num} is a curzon number')\n",
    "    else:\n",
    "        print(f'{in_num} is not a curzon number')\n",
    "\n",
    "for i in range(3):\n",
    "    check_curzon()"
   ]
  },
  {
   "cell_type": "code",
   "execution_count": null,
   "id": "1c2b9b77",
   "metadata": {},
   "outputs": [],
   "source": [
    "4.Given the side length x find the area of a hexagon.\n",
    "Examples:\n",
    "area_of_hexagon(1) ➞ 2.6\n",
    "\n",
    "area_of_hexagon(2) ➞ 10.4\n",
    "\n",
    "area_of_hexagon(3) ➞ 23.4"
   ]
  },
  {
   "cell_type": "code",
   "execution_count": 12,
   "id": "5424f4a4",
   "metadata": {},
   "outputs": [
    {
     "name": "stdout",
     "output_type": "stream",
     "text": [
      "Enter the side lenght of a Hexagon: 1\n",
      "Area for Hexagon of sidelenght 1 ➞ 2.6\n",
      "Enter the side lenght of a Hexagon: 2\n",
      "Area for Hexagon of sidelenght 2 ➞ 10.4\n",
      "Enter the side lenght of a Hexagon: 3\n",
      "Area for Hexagon of sidelenght 3 ➞ 23.4\n"
     ]
    }
   ],
   "source": [
    "import math \n",
    "def area_of_hexagon():\n",
    "    in_num = int(input('Enter the side lenght of a Hexagon: '))\n",
    "    out_num = ((3*math.sqrt(3)/2))*(pow(in_num,2))\n",
    "    print(f'Area for Hexagon of sidelenght {in_num} ➞ {out_num:.1f}')\n",
    "    \n",
    "for i in range(3):\n",
    "    area_of_hexagon()"
   ]
  },
  {
   "cell_type": "code",
   "execution_count": null,
   "id": "0fa1883e",
   "metadata": {},
   "outputs": [],
   "source": [
    "5. Create a function that returns a base-2 (binary) representation of a base-10 (decimal) string number. To \n",
    "   convert is simple:\n",
    "((2) means base-2 and (10) means base-10)\n",
    "\n",
    "010101001(2) = 1 + 8 + 32 + 128.\n",
    "\n",
    "Going from right to left, the value of the most right bit is 1, now from that every bit to the left will be x2 \n",
    "the value, value of an 8 bit binary numbers are (256, 128, 64, 32, 16, 8, 4, 2, 1).\n",
    "\n",
    "Examples:\n",
    "binary(1) ➞ \"1\"\n",
    "\n",
    "1*1 = 1\n",
    "binary(5) ➞ \"101\"\n",
    "\n",
    "11 + 14 = 5\n",
    "binary(10) ➞ \"1010\"\n",
    "\n",
    "12 + 18 = 10"
   ]
  },
  {
   "cell_type": "code",
   "execution_count": null,
   "id": "5a11b4ac",
   "metadata": {},
   "outputs": [
    {
     "name": "stdout",
     "output_type": "stream",
     "text": [
      "Enter a Number:1\n",
      "Binary of 1 ➞ 1\n"
     ]
    }
   ],
   "source": [
    "def get_binary():\n",
    "    in_num = int(input(\"Enter a Number:\"))\n",
    "    out_num = bin(in_num).replace('0b','')\n",
    "    print(f'Binary of {in_num} ➞ {out_num}')\n",
    "\n",
    "for i in range(3):\n",
    "    get_binary()"
   ]
  },
  {
   "cell_type": "code",
   "execution_count": null,
   "id": "85aa105a",
   "metadata": {},
   "outputs": [],
   "source": []
  }
 ],
 "metadata": {
  "kernelspec": {
   "display_name": "Python 3 (ipykernel)",
   "language": "python",
   "name": "python3"
  },
  "language_info": {
   "codemirror_mode": {
    "name": "ipython",
    "version": 3
   },
   "file_extension": ".py",
   "mimetype": "text/x-python",
   "name": "python",
   "nbconvert_exporter": "python",
   "pygments_lexer": "ipython3",
   "version": "3.9.13"
  }
 },
 "nbformat": 4,
 "nbformat_minor": 5
}
