{
 "cells": [
  {
   "cell_type": "code",
   "execution_count": null,
   "id": "b3db58bd",
   "metadata": {},
   "outputs": [],
   "source": [
    "In the below elements which of them are values or an expression? eg:- values can be\n",
    "integer or string and expressions will be mathematical operators.\n",
    "* = expression\n",
    "'hello'= value\n",
    "-87.8 = value\n",
    "- = expression\n",
    "/ = expression\n",
    "+ = expression\n",
    "6 = value"
   ]
  },
  {
   "cell_type": "code",
   "execution_count": null,
   "id": "5030aed2",
   "metadata": {},
   "outputs": [],
   "source": [
    "2. What is the difference between string and variable?\n",
    "\n",
    "string- in the string you can save information of the variable. The information can be stored within special characters like \"\" and ''.\n",
    "\n",
    "variable- variable is used to store information within it."
   ]
  },
  {
   "cell_type": "code",
   "execution_count": null,
   "id": "279a2e60",
   "metadata": {},
   "outputs": [],
   "source": [
    " Describe three different data types.\n",
    "\n",
    "1.Integer= This is used to represent whole numbers the numbers.\n",
    "2.Float= Float is used to represent floating values (with decimal values also).\n",
    "3.Complex number= Complex number is used to represent complex class. It contains real and imaginary part within it."
   ]
  },
  {
   "cell_type": "code",
   "execution_count": null,
   "id": "a1c60401",
   "metadata": {},
   "outputs": [],
   "source": [
    "What is an expression made up of? What do all expressions do?\n",
    "\n",
    "The expression is made up of variables, values, calls and operaters to call functions. With the help of python all expressions by interpreting gives results on the display."
   ]
  },
  {
   "cell_type": "code",
   "execution_count": null,
   "id": "385b2c52",
   "metadata": {},
   "outputs": [],
   "source": [
    "This assignment statements, like spam = 10. What is the difference between an\n",
    "expression and a statement?\n",
    "\n",
    "1. Expression: The expression is made up of variables, values, calls and operaters to call functions with the help of interpreter gives results.\n",
    "    \n",
    "2. Statement : The statemen is standalone unit of execution and it not depends on anything."
   ]
  },
  {
   "cell_type": "code",
   "execution_count": null,
   "id": "9dd77645",
   "metadata": {},
   "outputs": [],
   "source": [
    "After running the following code, what does the variable bacon contain?\n",
    "bacon = 22\n",
    "bacon + 1"
   ]
  },
  {
   "cell_type": "code",
   "execution_count": 2,
   "id": "fb3453a3",
   "metadata": {},
   "outputs": [],
   "source": [
    "bacon = 22"
   ]
  },
  {
   "cell_type": "code",
   "execution_count": 3,
   "id": "bb3c8f07",
   "metadata": {},
   "outputs": [
    {
     "data": {
      "text/plain": [
       "23"
      ]
     },
     "execution_count": 3,
     "metadata": {},
     "output_type": "execute_result"
    }
   ],
   "source": [
    "bacon+1"
   ]
  },
  {
   "cell_type": "code",
   "execution_count": null,
   "id": "1c98a17e",
   "metadata": {},
   "outputs": [],
   "source": [
    "The variable bacon is set to 22 .The expression bacon + 1 does not reassign the value in bacon."
   ]
  },
  {
   "cell_type": "code",
   "execution_count": null,
   "id": "3988f81d",
   "metadata": {},
   "outputs": [],
   "source": [
    "What should the values of the following two terms be?\n",
    "'spam' + 'spamspam'\n",
    "'spam' * 3\n",
    "\n",
    "These both expressions are of string \n",
    "\n",
    "'spam' + 'spamspam'= string concencation= adding together\n",
    "spam' * 3 = string multiplication= by using operatoer (*) we can multiply value\n"
   ]
  },
  {
   "cell_type": "code",
   "execution_count": 4,
   "id": "6af79811",
   "metadata": {},
   "outputs": [
    {
     "data": {
      "text/plain": [
       "'spamspamspam'"
      ]
     },
     "execution_count": 4,
     "metadata": {},
     "output_type": "execute_result"
    }
   ],
   "source": [
    "'spam' + 'spamspam'"
   ]
  },
  {
   "cell_type": "code",
   "execution_count": 9,
   "id": "7b1bd4ba",
   "metadata": {},
   "outputs": [
    {
     "data": {
      "text/plain": [
       "'spamspamspam'"
      ]
     },
     "execution_count": 9,
     "metadata": {},
     "output_type": "execute_result"
    }
   ],
   "source": [
    "'spam' * 3"
   ]
  },
  {
   "cell_type": "code",
   "execution_count": null,
   "id": "263102a2",
   "metadata": {},
   "outputs": [],
   "source": [
    "Why is eggs a valid variable name while 100 is invalid?\n",
    "\n",
    "As per python,Variable names cannot begin with a number. \n",
    "\n",
    "e.g below"
   ]
  },
  {
   "cell_type": "code",
   "execution_count": 15,
   "id": "3fe82d23",
   "metadata": {},
   "outputs": [],
   "source": [
    "egg = 'ineuron'"
   ]
  },
  {
   "cell_type": "code",
   "execution_count": 16,
   "id": "35b2d2a5",
   "metadata": {
    "scrolled": false
   },
   "outputs": [
    {
     "data": {
      "text/plain": [
       "'ineuron'"
      ]
     },
     "execution_count": 16,
     "metadata": {},
     "output_type": "execute_result"
    }
   ],
   "source": [
    "egg"
   ]
  },
  {
   "cell_type": "code",
   "execution_count": 12,
   "id": "f03a3734",
   "metadata": {},
   "outputs": [
    {
     "ename": "SyntaxError",
     "evalue": "cannot assign to literal (3710862205.py, line 1)",
     "output_type": "error",
     "traceback": [
      "\u001b[0;36m  File \u001b[0;32m\"/var/folders/8j/k15gnhjj3dd5_4grkxz5xwk40000gn/T/ipykernel_2534/3710862205.py\"\u001b[0;36m, line \u001b[0;32m1\u001b[0m\n\u001b[0;31m    100 = egg\u001b[0m\n\u001b[0m    ^\u001b[0m\n\u001b[0;31mSyntaxError\u001b[0m\u001b[0;31m:\u001b[0m cannot assign to literal\n"
     ]
    }
   ],
   "source": [
    "100 = egg"
   ]
  },
  {
   "cell_type": "code",
   "execution_count": null,
   "id": "8f0cd192",
   "metadata": {},
   "outputs": [],
   "source": [
    "What three functions can be used to get the integer, floating-point number, or string\n",
    "version of a value?\n",
    "\n",
    "The int(),float(),and str() functions will evaluate to the integer,floating-point number,string version of the value.\n",
    "\n",
    "1. int () = converts givens input into integer\n",
    "2. float () = converts given input into float value.\n",
    "3. str () = converts given input into string."
   ]
  },
  {
   "cell_type": "code",
   "execution_count": null,
   "id": "3d23ee7a",
   "metadata": {},
   "outputs": [],
   "source": [
    "Why does this expression cause an error? How can you fix it?\n",
    "'I have eaten' + 99 + 'burritos.'\n",
    "\n",
    "The given expression gives error becuause 99 (integer) is not string value. The strings can be concatenated to other strings with the + operator. "
   ]
  },
  {
   "cell_type": "code",
   "execution_count": 17,
   "id": "1ed1e73c",
   "metadata": {},
   "outputs": [
    {
     "ename": "TypeError",
     "evalue": "can only concatenate str (not \"int\") to str",
     "output_type": "error",
     "traceback": [
      "\u001b[0;31m---------------------------------------------------------------------------\u001b[0m",
      "\u001b[0;31mTypeError\u001b[0m                                 Traceback (most recent call last)",
      "\u001b[0;32m/var/folders/8j/k15gnhjj3dd5_4grkxz5xwk40000gn/T/ipykernel_2534/3116421743.py\u001b[0m in \u001b[0;36m<module>\u001b[0;34m\u001b[0m\n\u001b[0;32m----> 1\u001b[0;31m \u001b[0;34m'I have eaten'\u001b[0m \u001b[0;34m+\u001b[0m \u001b[0;36m99\u001b[0m \u001b[0;34m+\u001b[0m \u001b[0;34m'burritos.'\u001b[0m\u001b[0;34m\u001b[0m\u001b[0;34m\u001b[0m\u001b[0m\n\u001b[0m",
      "\u001b[0;31mTypeError\u001b[0m: can only concatenate str (not \"int\") to str"
     ]
    }
   ],
   "source": [
    "'I have eaten' + 99 + 'burritos.'"
   ]
  },
  {
   "cell_type": "code",
   "execution_count": 24,
   "id": "763a66e6",
   "metadata": {},
   "outputs": [
    {
     "data": {
      "text/plain": [
       "'I have eaten 99 burritos.'"
      ]
     },
     "execution_count": 24,
     "metadata": {},
     "output_type": "execute_result"
    }
   ],
   "source": [
    "'I have eaten ' + str(99) + ' burritos.'"
   ]
  },
  {
   "cell_type": "code",
   "execution_count": null,
   "id": "3d3bfbe8",
   "metadata": {},
   "outputs": [],
   "source": []
  }
 ],
 "metadata": {
  "kernelspec": {
   "display_name": "Python 3 (ipykernel)",
   "language": "python",
   "name": "python3"
  },
  "language_info": {
   "codemirror_mode": {
    "name": "ipython",
    "version": 3
   },
   "file_extension": ".py",
   "mimetype": "text/x-python",
   "name": "python",
   "nbconvert_exporter": "python",
   "pygments_lexer": "ipython3",
   "version": "3.9.13"
  }
 },
 "nbformat": 4,
 "nbformat_minor": 5
}
