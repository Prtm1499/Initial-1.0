{
 "cells": [
  {
   "cell_type": "code",
   "execution_count": null,
   "id": "e618ad2b",
   "metadata": {},
   "outputs": [],
   "source": [
    "1. What does RGBA stand for ?\n",
    "\n",
    "Ans: RGBA stands for Red, Gree, Blue and Alpha."
   ]
  },
  {
   "cell_type": "code",
   "execution_count": null,
   "id": "3345dfe4",
   "metadata": {},
   "outputs": [],
   "source": [
    "2. From the Pillow module, how do you get the RGBA value of any images ?\n",
    "\n",
    "Ans: ImageColor.getcolor () is used to give the RGBA value of any images."
   ]
  },
  {
   "cell_type": "code",
   "execution_count": null,
   "id": "dee7d4d3",
   "metadata": {},
   "outputs": [],
   "source": [
    "3. What is a box tuple, and how does it work ?\n",
    "\n",
    "Ans: A box tuple is tuple of four values. The first value is the X-coordinate of top left corner, the second value is Y-coordinate\n",
    "     of top left corner, the third value is width of the box and fourth value is height of the box."
   ]
  },
  {
   "cell_type": "code",
   "execution_count": null,
   "id": "b1d7fc4e",
   "metadata": {},
   "outputs": [],
   "source": [
    "4. Use your image and load in notebook then, How can you find out the width and height of an Image object ?"
   ]
  },
  {
   "cell_type": "code",
   "execution_count": 11,
   "id": "ad4b85d4",
   "metadata": {},
   "outputs": [
    {
     "ename": "NameError",
     "evalue": "name 'elephant' is not defined",
     "output_type": "error",
     "traceback": [
      "\u001b[0;31m---------------------------------------------------------------------------\u001b[0m",
      "\u001b[0;31mNameError\u001b[0m                                 Traceback (most recent call last)",
      "\u001b[0;32m/var/folders/8j/k15gnhjj3dd5_4grkxz5xwk40000gn/T/ipykernel_4637/3950684227.py\u001b[0m in \u001b[0;36m<module>\u001b[0;34m\u001b[0m\n\u001b[1;32m      1\u001b[0m \u001b[0;31m#Example Program\u001b[0m\u001b[0;34m\u001b[0m\u001b[0;34m\u001b[0m\u001b[0m\n\u001b[1;32m      2\u001b[0m \u001b[0;32mfrom\u001b[0m \u001b[0mPIL\u001b[0m \u001b[0;32mimport\u001b[0m \u001b[0mImage\u001b[0m\u001b[0;34m\u001b[0m\u001b[0;34m\u001b[0m\u001b[0m\n\u001b[0;32m----> 3\u001b[0;31m \u001b[0mpic\u001b[0m \u001b[0;34m=\u001b[0m \u001b[0melephant\u001b[0m\u001b[0;34m.\u001b[0m\u001b[0mopen\u001b[0m\u001b[0;34m(\u001b[0m\u001b[0;34m'elephant.webp'\u001b[0m\u001b[0;34m)\u001b[0m\u001b[0;34m\u001b[0m\u001b[0;34m\u001b[0m\u001b[0m\n\u001b[0m\u001b[1;32m      4\u001b[0m \u001b[0mprint\u001b[0m\u001b[0;34m(\u001b[0m\u001b[0;34mf'Width, Height -> {pic.size}'\u001b[0m\u001b[0;34m)\u001b[0m \u001b[0;31m# Approach 1\u001b[0m\u001b[0;34m\u001b[0m\u001b[0;34m\u001b[0m\u001b[0m\n\u001b[1;32m      5\u001b[0m \u001b[0mprint\u001b[0m\u001b[0;34m(\u001b[0m\u001b[0;34mf'Width, Height -> {pic.width},{pic.height}'\u001b[0m\u001b[0;34m)\u001b[0m \u001b[0;31m# Approach 2\u001b[0m\u001b[0;34m\u001b[0m\u001b[0;34m\u001b[0m\u001b[0m\n",
      "\u001b[0;31mNameError\u001b[0m: name 'elephant' is not defined"
     ]
    }
   ],
   "source": [
    "#Example Program\n",
    "from PIL import Image\n",
    "pic = elephant.open('elephant.webp')\n",
    "print(f'Width, Height -> {pic.size}') # Approach 1\n",
    "print(f'Width, Height -> {pic.width},{pic.height}') # Approach 2\n",
    "width,height = pic.size\n",
    "print(f'Width, Height -> {width},{height}') # Approach 3"
   ]
  },
  {
   "cell_type": "code",
   "execution_count": null,
   "id": "b464f4f8",
   "metadata": {},
   "outputs": [],
   "source": [
    "5. What method would you call to get Image object for a 100×100 image, excluding the lower-left quarter of it ?"
   ]
  },
  {
   "cell_type": "code",
   "execution_count": null,
   "id": "c705b101",
   "metadata": {},
   "outputs": [],
   "source": [
    "from PIL import Image\n",
    "img = elephant.open('Desktop')\n",
    "new_img = img.crop((0,50,50,50))"
   ]
  },
  {
   "cell_type": "code",
   "execution_count": null,
   "id": "f496f621",
   "metadata": {},
   "outputs": [],
   "source": [
    "6. After making changes to an Image object, how could you save it as an image file ?"
   ]
  },
  {
   "cell_type": "code",
   "execution_count": null,
   "id": "b5b6dc81",
   "metadata": {},
   "outputs": [],
   "source": [
    "#Example Program\n",
    "from PIL import Image\n",
    "pic = Image.open('pic.jpg')\n",
    "pic.save('pic2.jpg')"
   ]
  },
  {
   "cell_type": "code",
   "execution_count": null,
   "id": "730f8bb2",
   "metadata": {},
   "outputs": [],
   "source": [
    "7. What module contains Pillow’s shape-drawing code ?\n",
    "\n",
    "Ans: ImageDraw"
   ]
  },
  {
   "cell_type": "code",
   "execution_count": null,
   "id": "f72a0f57",
   "metadata": {},
   "outputs": [],
   "source": [
    "8. Image objects do not have drawing methods. What kind of object does? How do you get this kind of object ?\n",
    "\n",
    "Ans: ImageDraw objects have shape-drawing methods such as point(), line(), or rectangle().They are returned by passing the \n",
    "     Image object to the ImageDraw.Draw() function."
   ]
  }
 ],
 "metadata": {
  "kernelspec": {
   "display_name": "Python 3 (ipykernel)",
   "language": "python",
   "name": "python3"
  },
  "language_info": {
   "codemirror_mode": {
    "name": "ipython",
    "version": 3
   },
   "file_extension": ".py",
   "mimetype": "text/x-python",
   "name": "python",
   "nbconvert_exporter": "python",
   "pygments_lexer": "ipython3",
   "version": "3.9.13"
  }
 },
 "nbformat": 4,
 "nbformat_minor": 5
}
