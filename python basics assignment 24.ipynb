{
 "cells": [
  {
   "cell_type": "code",
   "execution_count": null,
   "id": "aacf9096",
   "metadata": {},
   "outputs": [],
   "source": [
    "1. What is the relationship between def statements and lambda expressions ?"
   ]
  },
  {
   "cell_type": "code",
   "execution_count": null,
   "id": "0691bbf8",
   "metadata": {},
   "outputs": [],
   "source": [
    "def statement is used to create a normal function whereas lambda expressions are used to create Anonymous functions which can be \n",
    "assigned to a variable and can be called using the variable later in function.\n",
    "\n",
    "Lambda's body is a single expression and not a block of statements like def statement. The lambda expression's body is similar \n",
    "to what we wouldd put in a def body's return statement. We simply type the result as an expression instead of explicitly returning \n",
    "it. Because it is limited to an expression, a lambda is less general than a def statement."
   ]
  },
  {
   "cell_type": "code",
   "execution_count": null,
   "id": "9db0af3c",
   "metadata": {},
   "outputs": [],
   "source": [
    "2. What is the benefit of lambda ?"
   ]
  },
  {
   "cell_type": "code",
   "execution_count": null,
   "id": "fab90a10",
   "metadata": {},
   "outputs": [],
   "source": [
    "The benefit of lambda is that it is a one line fuction. It is a single expression and not block of statements. It is one line \n",
    "function which can be assigned to a variable and called later in function."
   ]
  },
  {
   "cell_type": "code",
   "execution_count": null,
   "id": "1e2cb83e",
   "metadata": {},
   "outputs": [],
   "source": [
    "3. Compare and contrast map, filter and reduce."
   ]
  },
  {
   "cell_type": "code",
   "execution_count": null,
   "id": "18273734",
   "metadata": {},
   "outputs": [],
   "source": [
    "The difference between map, filter and reduce is that:\n",
    "    1. map: It is used to apply function to each element of list.\n",
    "    2. filter: It is used to filter out elements of list.\n",
    "    3. reduce: It is used to apply function to each element of list and return a single value."
   ]
  },
  {
   "cell_type": "code",
   "execution_count": null,
   "id": "34627d02",
   "metadata": {},
   "outputs": [],
   "source": [
    "4. What are function annotations, and how are they used ?"
   ]
  },
  {
   "cell_type": "code",
   "execution_count": null,
   "id": "e44a7c52",
   "metadata": {},
   "outputs": [],
   "source": [
    "The funcation annotations are used to specify the type of the function. The type of the function is specified by the return type\n",
    "and the type of argument passed to the function."
   ]
  },
  {
   "cell_type": "code",
   "execution_count": null,
   "id": "000bcdb8",
   "metadata": {},
   "outputs": [],
   "source": [
    "5. What are recursive functions, and how are they used ?"
   ]
  },
  {
   "cell_type": "code",
   "execution_count": null,
   "id": "757b6996",
   "metadata": {},
   "outputs": [],
   "source": [
    "The recursive functions are used to solve the problem of function calling itself. The recursive function is function which \n",
    "calls itself."
   ]
  },
  {
   "cell_type": "code",
   "execution_count": null,
   "id": "42033d88",
   "metadata": {},
   "outputs": [],
   "source": [
    "6. What are some general design guidelines for coding functions ?"
   ]
  },
  {
   "cell_type": "code",
   "execution_count": null,
   "id": "e0a51595",
   "metadata": {},
   "outputs": [],
   "source": [
    "1.Use 4-space indentation and no tabs.\n",
    "\n",
    "2.Use docstrings\n",
    "\n",
    "3.Wrap linethat they don’t exceed 79 characters\n",
    "\n",
    "4.Use of regular and updated comments are valuable to both the coders and users\n",
    "\n",
    "5.Use of trailing commas : in case of tuple -> ('good',)\n",
    "\n",
    "6.Use Python’s default UTF-8 or ASCII encodings and not any fancy encodings\n",
    "\n",
    "7.Naming Conventions 8.Characters that should not be used for identifiers : ‘l’ (lowercase letter el), ‘O’ (uppercase letter oh), ‘I’ (uppercase letter eye) as single character variable names as these are similar to the numerals one and zero.\n",
    "\n",
    "8.Don’t use non-ASCII characters in identifiers\n",
    "\n",
    "9.Name your classes and functions consistently\n",
    "\n",
    "10.While naming of function of methods always use self for the first argument"
   ]
  },
  {
   "cell_type": "code",
   "execution_count": null,
   "id": "388d1a22",
   "metadata": {},
   "outputs": [],
   "source": [
    "7. Name three or more ways that functions can communicate results to a caller."
   ]
  },
  {
   "cell_type": "code",
   "execution_count": null,
   "id": "410773b3",
   "metadata": {},
   "outputs": [],
   "source": [
    "1.Function can return single value\n",
    "\n",
    "2.Can return multiple values, tuple\n",
    "\n",
    "3.can return class object\n",
    "\n",
    "4.can return function object\n",
    "\n",
    "5.can return list,dictionary"
   ]
  }
 ],
 "metadata": {
  "kernelspec": {
   "display_name": "Python 3 (ipykernel)",
   "language": "python",
   "name": "python3"
  },
  "language_info": {
   "codemirror_mode": {
    "name": "ipython",
    "version": 3
   },
   "file_extension": ".py",
   "mimetype": "text/x-python",
   "name": "python",
   "nbconvert_exporter": "python",
   "pygments_lexer": "ipython3",
   "version": "3.9.13"
  }
 },
 "nbformat": 4,
 "nbformat_minor": 5
}
