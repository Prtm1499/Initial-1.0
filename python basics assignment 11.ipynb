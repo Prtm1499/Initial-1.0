{
 "cells": [
  {
   "cell_type": "code",
   "execution_count": null,
   "id": "a07a09eb",
   "metadata": {},
   "outputs": [],
   "source": [
    "1. Create an assert statement that throws an AssertionError if the variable spam is a negative integer."
   ]
  },
  {
   "cell_type": "code",
   "execution_count": 5,
   "id": "a9214017",
   "metadata": {},
   "outputs": [
    {
     "ename": "AssertionError",
     "evalue": "Variable Spam should not be a negative number",
     "output_type": "error",
     "traceback": [
      "\u001b[0;31m---------------------------------------------------------------------------\u001b[0m",
      "\u001b[0;31mAssertionError\u001b[0m                            Traceback (most recent call last)",
      "\u001b[0;32m/var/folders/8j/k15gnhjj3dd5_4grkxz5xwk40000gn/T/ipykernel_3445/2141549858.py\u001b[0m in \u001b[0;36m<module>\u001b[0;34m\u001b[0m\n\u001b[1;32m      1\u001b[0m \u001b[0mspam\u001b[0m \u001b[0;34m=\u001b[0m \u001b[0;34m-\u001b[0m\u001b[0;36m1\u001b[0m\u001b[0;34m\u001b[0m\u001b[0;34m\u001b[0m\u001b[0m\n\u001b[0;32m----> 2\u001b[0;31m \u001b[0;32massert\u001b[0m \u001b[0mspam\u001b[0m \u001b[0;34m>=\u001b[0m\u001b[0;36m0\u001b[0m\u001b[0;34m,\u001b[0m \u001b[0;34m'Variable Spam should not be a negative number'\u001b[0m\u001b[0;34m\u001b[0m\u001b[0;34m\u001b[0m\u001b[0m\n\u001b[0m",
      "\u001b[0;31mAssertionError\u001b[0m: Variable Spam should not be a negative number"
     ]
    }
   ],
   "source": [
    "spam = -1\n",
    "assert spam >=0, 'Variable Spam should not be a negative number'"
   ]
  },
  {
   "cell_type": "code",
   "execution_count": null,
   "id": "3bdfb2e2",
   "metadata": {},
   "outputs": [],
   "source": [
    "2. Write an assert statement that triggers an AssertionError if the variables eggs and bacon contain strings that are the same \n",
    "   as each other, even if their cases are different (that is, 'hello' and 'hello' are considered the same, and 'goodbye' and \n",
    "   'GOODbye' are also considered the same)."
   ]
  },
  {
   "cell_type": "code",
   "execution_count": 14,
   "id": "12f4372d",
   "metadata": {},
   "outputs": [],
   "source": [
    "def raise_assert(egg,bacon):\n",
    "    eggs = 'hello'\n",
    "    bacon = 'GOODbye'\n",
    "    assert (eggs == bacon) , 'eggs and bacon should not be same' "
   ]
  },
  {
   "cell_type": "code",
   "execution_count": 15,
   "id": "cd987382",
   "metadata": {
    "scrolled": true
   },
   "outputs": [
    {
     "ename": "AssertionError",
     "evalue": "eggs and bacon should not be same",
     "output_type": "error",
     "traceback": [
      "\u001b[0;31m---------------------------------------------------------------------------\u001b[0m",
      "\u001b[0;31mAssertionError\u001b[0m                            Traceback (most recent call last)",
      "\u001b[0;32m/var/folders/8j/k15gnhjj3dd5_4grkxz5xwk40000gn/T/ipykernel_3445/1731780412.py\u001b[0m in \u001b[0;36m<module>\u001b[0;34m\u001b[0m\n\u001b[0;32m----> 1\u001b[0;31m \u001b[0mraise_assert\u001b[0m\u001b[0;34m(\u001b[0m\u001b[0;34m'hello'\u001b[0m\u001b[0;34m,\u001b[0m\u001b[0;34m'HELLO'\u001b[0m\u001b[0;34m)\u001b[0m\u001b[0;34m\u001b[0m\u001b[0;34m\u001b[0m\u001b[0m\n\u001b[0m",
      "\u001b[0;32m/var/folders/8j/k15gnhjj3dd5_4grkxz5xwk40000gn/T/ipykernel_3445/1512597594.py\u001b[0m in \u001b[0;36mraise_assert\u001b[0;34m(egg, bacon)\u001b[0m\n\u001b[1;32m      2\u001b[0m     \u001b[0meggs\u001b[0m \u001b[0;34m=\u001b[0m \u001b[0;34m'hello'\u001b[0m\u001b[0;34m\u001b[0m\u001b[0;34m\u001b[0m\u001b[0m\n\u001b[1;32m      3\u001b[0m     \u001b[0mbacon\u001b[0m \u001b[0;34m=\u001b[0m \u001b[0;34m'GOODbye'\u001b[0m\u001b[0;34m\u001b[0m\u001b[0;34m\u001b[0m\u001b[0m\n\u001b[0;32m----> 4\u001b[0;31m     \u001b[0;32massert\u001b[0m \u001b[0;34m(\u001b[0m\u001b[0meggs\u001b[0m \u001b[0;34m==\u001b[0m \u001b[0mbacon\u001b[0m\u001b[0;34m)\u001b[0m \u001b[0;34m,\u001b[0m \u001b[0;34m'eggs and bacon should not be same'\u001b[0m\u001b[0;34m\u001b[0m\u001b[0;34m\u001b[0m\u001b[0m\n\u001b[0m",
      "\u001b[0;31mAssertionError\u001b[0m: eggs and bacon should not be same"
     ]
    }
   ],
   "source": [
    "raise_assert('hello','HELLO')"
   ]
  },
  {
   "cell_type": "code",
   "execution_count": 16,
   "id": "52805cf1",
   "metadata": {
    "scrolled": true
   },
   "outputs": [
    {
     "ename": "AssertionError",
     "evalue": "eggs and bacon should not be same",
     "output_type": "error",
     "traceback": [
      "\u001b[0;31m---------------------------------------------------------------------------\u001b[0m",
      "\u001b[0;31mAssertionError\u001b[0m                            Traceback (most recent call last)",
      "\u001b[0;32m/var/folders/8j/k15gnhjj3dd5_4grkxz5xwk40000gn/T/ipykernel_3445/4052838577.py\u001b[0m in \u001b[0;36m<module>\u001b[0;34m\u001b[0m\n\u001b[0;32m----> 1\u001b[0;31m \u001b[0mraise_assert\u001b[0m\u001b[0;34m(\u001b[0m\u001b[0;34m'goodbye'\u001b[0m\u001b[0;34m,\u001b[0m\u001b[0;34m'GOODbye'\u001b[0m\u001b[0;34m)\u001b[0m\u001b[0;34m\u001b[0m\u001b[0;34m\u001b[0m\u001b[0m\n\u001b[0m",
      "\u001b[0;32m/var/folders/8j/k15gnhjj3dd5_4grkxz5xwk40000gn/T/ipykernel_3445/1512597594.py\u001b[0m in \u001b[0;36mraise_assert\u001b[0;34m(egg, bacon)\u001b[0m\n\u001b[1;32m      2\u001b[0m     \u001b[0meggs\u001b[0m \u001b[0;34m=\u001b[0m \u001b[0;34m'hello'\u001b[0m\u001b[0;34m\u001b[0m\u001b[0;34m\u001b[0m\u001b[0m\n\u001b[1;32m      3\u001b[0m     \u001b[0mbacon\u001b[0m \u001b[0;34m=\u001b[0m \u001b[0;34m'GOODbye'\u001b[0m\u001b[0;34m\u001b[0m\u001b[0;34m\u001b[0m\u001b[0m\n\u001b[0;32m----> 4\u001b[0;31m     \u001b[0;32massert\u001b[0m \u001b[0;34m(\u001b[0m\u001b[0meggs\u001b[0m \u001b[0;34m==\u001b[0m \u001b[0mbacon\u001b[0m\u001b[0;34m)\u001b[0m \u001b[0;34m,\u001b[0m \u001b[0;34m'eggs and bacon should not be same'\u001b[0m\u001b[0;34m\u001b[0m\u001b[0;34m\u001b[0m\u001b[0m\n\u001b[0m",
      "\u001b[0;31mAssertionError\u001b[0m: eggs and bacon should not be same"
     ]
    }
   ],
   "source": [
    "raise_assert('goodbye','GOODbye')"
   ]
  },
  {
   "cell_type": "code",
   "execution_count": null,
   "id": "75381d1b",
   "metadata": {},
   "outputs": [],
   "source": [
    "3. Create an assert statement that throws an AssertionError every time."
   ]
  },
  {
   "cell_type": "code",
   "execution_count": 17,
   "id": "8fd697b1",
   "metadata": {},
   "outputs": [
    {
     "ename": "AssertionError",
     "evalue": "Always Shows Assertion Error",
     "output_type": "error",
     "traceback": [
      "\u001b[0;31m---------------------------------------------------------------------------\u001b[0m",
      "\u001b[0;31mAssertionError\u001b[0m                            Traceback (most recent call last)",
      "\u001b[0;32m/var/folders/8j/k15gnhjj3dd5_4grkxz5xwk40000gn/T/ipykernel_3445/1503883157.py\u001b[0m in \u001b[0;36m<module>\u001b[0;34m\u001b[0m\n\u001b[1;32m      1\u001b[0m \u001b[0;32mdef\u001b[0m \u001b[0massert_always\u001b[0m\u001b[0;34m(\u001b[0m\u001b[0;34m)\u001b[0m\u001b[0;34m:\u001b[0m\u001b[0;34m\u001b[0m\u001b[0;34m\u001b[0m\u001b[0m\n\u001b[1;32m      2\u001b[0m     \u001b[0;32massert\u001b[0m \u001b[0;32mFalse\u001b[0m\u001b[0;34m,\u001b[0m \u001b[0;34m'Always Shows Assertion Error'\u001b[0m\u001b[0;34m\u001b[0m\u001b[0;34m\u001b[0m\u001b[0m\n\u001b[0;32m----> 3\u001b[0;31m \u001b[0massert_always\u001b[0m\u001b[0;34m(\u001b[0m\u001b[0;34m)\u001b[0m\u001b[0;34m\u001b[0m\u001b[0;34m\u001b[0m\u001b[0m\n\u001b[0m",
      "\u001b[0;32m/var/folders/8j/k15gnhjj3dd5_4grkxz5xwk40000gn/T/ipykernel_3445/1503883157.py\u001b[0m in \u001b[0;36massert_always\u001b[0;34m()\u001b[0m\n\u001b[1;32m      1\u001b[0m \u001b[0;32mdef\u001b[0m \u001b[0massert_always\u001b[0m\u001b[0;34m(\u001b[0m\u001b[0;34m)\u001b[0m\u001b[0;34m:\u001b[0m\u001b[0;34m\u001b[0m\u001b[0;34m\u001b[0m\u001b[0m\n\u001b[0;32m----> 2\u001b[0;31m     \u001b[0;32massert\u001b[0m \u001b[0;32mFalse\u001b[0m\u001b[0;34m,\u001b[0m \u001b[0;34m'Always Shows Assertion Error'\u001b[0m\u001b[0;34m\u001b[0m\u001b[0;34m\u001b[0m\u001b[0m\n\u001b[0m\u001b[1;32m      3\u001b[0m \u001b[0massert_always\u001b[0m\u001b[0;34m(\u001b[0m\u001b[0;34m)\u001b[0m\u001b[0;34m\u001b[0m\u001b[0;34m\u001b[0m\u001b[0m\n",
      "\u001b[0;31mAssertionError\u001b[0m: Always Shows Assertion Error"
     ]
    }
   ],
   "source": [
    "def assert_always():\n",
    "    assert False, 'Always Shows Assertion Error'\n",
    "assert_always()"
   ]
  },
  {
   "cell_type": "code",
   "execution_count": null,
   "id": "acc63397",
   "metadata": {},
   "outputs": [],
   "source": [
    "4. What are the two lines that must be present in your software in order to call logging.debug() ?\n",
    "\n",
    "Ans: logging.basicConfig(filename = 'log.txt', level = logging.DEBUG, format = '%(asctime)s:%(levelname)s:%(message)s') "
   ]
  },
  {
   "cell_type": "code",
   "execution_count": null,
   "id": "7bf31514",
   "metadata": {},
   "outputs": [],
   "source": [
    "5. What are the two lines that your program must have in order to have logging.debug() send a logging message to a file \n",
    "   named programLog.txt ?"
   ]
  },
  {
   "cell_type": "code",
   "execution_count": 18,
   "id": "c74dc1f8",
   "metadata": {},
   "outputs": [],
   "source": [
    "import logging\n",
    "logging.basicConfig(filename = 'application_log.txt',level=logging.DEBUG, format=' %(asctime)s - %(levelname)s - %(message)s')\n",
    "logging.debug(\"Data Inserted Successfully\")\n",
    "logging.debug('Connection Closed Successfully')"
   ]
  },
  {
   "cell_type": "code",
   "execution_count": 19,
   "id": "d59b0e44",
   "metadata": {},
   "outputs": [
    {
     "name": "stdout",
     "output_type": "stream",
     "text": [
      " 2023-01-31 22:07:30,761 - DEBUG - Data Inserted Successfully\n",
      "\n",
      " 2023-01-31 22:07:30,761 - DEBUG - Connection Closed Successfully\n",
      "\n"
     ]
    }
   ],
   "source": [
    "file = open(\"./application_log.txt\",\"r\")\n",
    "for record in file.readlines():\n",
    "    print(record)"
   ]
  },
  {
   "cell_type": "code",
   "execution_count": null,
   "id": "79715381",
   "metadata": {},
   "outputs": [],
   "source": [
    "6. What are the five levels of logging ?\n",
    "\n",
    "Ans: DEBUG, INFO, WARNING, ERROR, CRITICAL"
   ]
  },
  {
   "cell_type": "code",
   "execution_count": null,
   "id": "634f7de6",
   "metadata": {},
   "outputs": [],
   "source": [
    "7. What line of code would you add to your software to disable all logging messages ?\n",
    "\n",
    "Ans: logging.disable = True "
   ]
  },
  {
   "cell_type": "code",
   "execution_count": null,
   "id": "ba1f5717",
   "metadata": {},
   "outputs": [],
   "source": [
    "8.Why is using logging messages better than using print() to display the same message ?\n",
    "\n",
    "Ans: Because logging messages are more flexible and can be used to log message in different levels."
   ]
  },
  {
   "cell_type": "code",
   "execution_count": null,
   "id": "6d9f8712",
   "metadata": {},
   "outputs": [],
   "source": [
    "9. What are the differences between the Step Over, Step In, and Step Out buttons in the debugger ?\n",
    "\n",
    "Ans: Step Over: It will execute the next line of code.\n",
    "     Step In : It will execute in the current line of code.\n",
    "     Step Out: It will execute the current line of code and then go to next line of code."
   ]
  },
  {
   "cell_type": "code",
   "execution_count": null,
   "id": "16438aee",
   "metadata": {},
   "outputs": [],
   "source": [
    "10. After you click Continue, when will the debugger stop ?\n",
    "\n",
    "Ans: This will cause the program to continue running normally, without pausing for debugging untill it terminates or reaches \n",
    "     a breakpoint."
   ]
  },
  {
   "cell_type": "code",
   "execution_count": null,
   "id": "f1f07670",
   "metadata": {},
   "outputs": [],
   "source": [
    "11. What is the concept of a breakpoint ?\n",
    "\n",
    "Ans: A breakpoint is a special line of code that is used to stop the program and allow the user to debug it."
   ]
  }
 ],
 "metadata": {
  "kernelspec": {
   "display_name": "Python 3 (ipykernel)",
   "language": "python",
   "name": "python3"
  },
  "language_info": {
   "codemirror_mode": {
    "name": "ipython",
    "version": 3
   },
   "file_extension": ".py",
   "mimetype": "text/x-python",
   "name": "python",
   "nbconvert_exporter": "python",
   "pygments_lexer": "ipython3",
   "version": "3.9.13"
  }
 },
 "nbformat": 4,
 "nbformat_minor": 5
}
