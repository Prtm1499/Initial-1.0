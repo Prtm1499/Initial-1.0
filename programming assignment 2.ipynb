{
 "cells": [
  {
   "cell_type": "code",
   "execution_count": null,
   "id": "7fbfd2dd",
   "metadata": {},
   "outputs": [],
   "source": [
    "1. Write a Python program to convert kilometers to miles ?"
   ]
  },
  {
   "cell_type": "code",
   "execution_count": 1,
   "id": "5e0ef24d",
   "metadata": {},
   "outputs": [],
   "source": [
    "def km_to_miles(km):\n",
    "    miles = km * 0.621271\n",
    "    return miles"
   ]
  },
  {
   "cell_type": "code",
   "execution_count": 2,
   "id": "742e7aee",
   "metadata": {},
   "outputs": [
    {
     "name": "stdout",
     "output_type": "stream",
     "text": [
      "6.21271\n"
     ]
    }
   ],
   "source": [
    "print(km_to_miles(10))"
   ]
  },
  {
   "cell_type": "code",
   "execution_count": null,
   "id": "919f1e80",
   "metadata": {},
   "outputs": [],
   "source": [
    "2. Write a Python program to convert Celsius to Fahrenheit ?"
   ]
  },
  {
   "cell_type": "code",
   "execution_count": 4,
   "id": "6a0c07f5",
   "metadata": {},
   "outputs": [
    {
     "name": "stdout",
     "output_type": "stream",
     "text": [
      "Enter the temperature in celcius: 12\n",
      "The temperature in farehneit is:  53.6\n"
     ]
    }
   ],
   "source": [
    "celsius = float(input(\"Enter the temperature in celcius: \"))\n",
    "farehneit = (celsius * 1.8) + 32\n",
    "print(\"The temperature in farehneit is: \", farehneit)"
   ]
  },
  {
   "cell_type": "code",
   "execution_count": null,
   "id": "ba835457",
   "metadata": {},
   "outputs": [],
   "source": [
    "3. Write a Python program to display calendar ?"
   ]
  },
  {
   "cell_type": "code",
   "execution_count": 1,
   "id": "3ef751c8",
   "metadata": {},
   "outputs": [],
   "source": [
    "import calendar\n",
    "\n",
    "def getcalendar():\n",
    "    year = int(input(\"Enter the year: \"))\n",
    "    print(calendar.calendar(year))"
   ]
  },
  {
   "cell_type": "code",
   "execution_count": 2,
   "id": "de2e80d5",
   "metadata": {},
   "outputs": [
    {
     "name": "stdout",
     "output_type": "stream",
     "text": [
      "Enter the year: 2023\n",
      "                                  2023\n",
      "\n",
      "      January                   February                   March\n",
      "Mo Tu We Th Fr Sa Su      Mo Tu We Th Fr Sa Su      Mo Tu We Th Fr Sa Su\n",
      "                   1             1  2  3  4  5             1  2  3  4  5\n",
      " 2  3  4  5  6  7  8       6  7  8  9 10 11 12       6  7  8  9 10 11 12\n",
      " 9 10 11 12 13 14 15      13 14 15 16 17 18 19      13 14 15 16 17 18 19\n",
      "16 17 18 19 20 21 22      20 21 22 23 24 25 26      20 21 22 23 24 25 26\n",
      "23 24 25 26 27 28 29      27 28                     27 28 29 30 31\n",
      "30 31\n",
      "\n",
      "       April                      May                       June\n",
      "Mo Tu We Th Fr Sa Su      Mo Tu We Th Fr Sa Su      Mo Tu We Th Fr Sa Su\n",
      "                1  2       1  2  3  4  5  6  7                1  2  3  4\n",
      " 3  4  5  6  7  8  9       8  9 10 11 12 13 14       5  6  7  8  9 10 11\n",
      "10 11 12 13 14 15 16      15 16 17 18 19 20 21      12 13 14 15 16 17 18\n",
      "17 18 19 20 21 22 23      22 23 24 25 26 27 28      19 20 21 22 23 24 25\n",
      "24 25 26 27 28 29 30      29 30 31                  26 27 28 29 30\n",
      "\n",
      "        July                     August                  September\n",
      "Mo Tu We Th Fr Sa Su      Mo Tu We Th Fr Sa Su      Mo Tu We Th Fr Sa Su\n",
      "                1  2          1  2  3  4  5  6                   1  2  3\n",
      " 3  4  5  6  7  8  9       7  8  9 10 11 12 13       4  5  6  7  8  9 10\n",
      "10 11 12 13 14 15 16      14 15 16 17 18 19 20      11 12 13 14 15 16 17\n",
      "17 18 19 20 21 22 23      21 22 23 24 25 26 27      18 19 20 21 22 23 24\n",
      "24 25 26 27 28 29 30      28 29 30 31               25 26 27 28 29 30\n",
      "31\n",
      "\n",
      "      October                   November                  December\n",
      "Mo Tu We Th Fr Sa Su      Mo Tu We Th Fr Sa Su      Mo Tu We Th Fr Sa Su\n",
      "                   1             1  2  3  4  5                   1  2  3\n",
      " 2  3  4  5  6  7  8       6  7  8  9 10 11 12       4  5  6  7  8  9 10\n",
      " 9 10 11 12 13 14 15      13 14 15 16 17 18 19      11 12 13 14 15 16 17\n",
      "16 17 18 19 20 21 22      20 21 22 23 24 25 26      18 19 20 21 22 23 24\n",
      "23 24 25 26 27 28 29      27 28 29 30               25 26 27 28 29 30 31\n",
      "30 31\n",
      "\n"
     ]
    }
   ],
   "source": [
    "getcalendar()"
   ]
  },
  {
   "cell_type": "code",
   "execution_count": null,
   "id": "83f12a6a",
   "metadata": {},
   "outputs": [],
   "source": [
    "4. Write a Python program to solve quadratic equation ?"
   ]
  },
  {
   "cell_type": "code",
   "execution_count": 3,
   "id": "f7000f34",
   "metadata": {},
   "outputs": [],
   "source": [
    "import cmath\n",
    "\n",
    "def quadratic_equation():\n",
    "    a = float(input(\"Enter the value of a: \"))\n",
    "    b = float(input(\"Enter the value of b: \"))\n",
    "    c = float(input(\"Enter the value of c: \"))\n",
    "    d = (b**2) - (4*a*c)\n",
    "    sol1 = (-b + cmath.sqrt(d))/(2*a)\n",
    "    sol2 = (-b - cmath.sqrt(d))/(2*a)\n",
    "    print(\"The solutions are: \", sol1, \"and\", sol2)"
   ]
  },
  {
   "cell_type": "code",
   "execution_count": 4,
   "id": "a17a966e",
   "metadata": {},
   "outputs": [
    {
     "name": "stdout",
     "output_type": "stream",
     "text": [
      "Enter the value of a: 12\n",
      "Enter the value of b: 12\n",
      "Enter the value of c: 76\n",
      "The solutions are:  (-0.5+2.4664414311581235j) and (-0.5-2.4664414311581235j)\n"
     ]
    }
   ],
   "source": [
    "quadratic_equation()"
   ]
  },
  {
   "cell_type": "code",
   "execution_count": null,
   "id": "f8a4b866",
   "metadata": {},
   "outputs": [],
   "source": [
    "5. Write a Python program to swap two variables without temp variable ?"
   ]
  },
  {
   "cell_type": "code",
   "execution_count": 5,
   "id": "768a32d8",
   "metadata": {},
   "outputs": [],
   "source": [
    "def swap_variables():\n",
    "    a = int(input(\"Enter the value of a: \"))\n",
    "    b = int(input(\"Enter the value of b: \"))\n",
    "    a, b = b, a\n",
    "    print(\"The values after swapping are: \", a, \"and\", b)"
   ]
  },
  {
   "cell_type": "code",
   "execution_count": 6,
   "id": "46d8e780",
   "metadata": {},
   "outputs": [
    {
     "name": "stdout",
     "output_type": "stream",
     "text": [
      "Enter the value of a: 12\n",
      "Enter the value of b: 34\n",
      "The values after swapping are:  34 and 12\n"
     ]
    }
   ],
   "source": [
    "swap_variables()"
   ]
  },
  {
   "cell_type": "code",
   "execution_count": null,
   "id": "d394695f",
   "metadata": {},
   "outputs": [],
   "source": []
  }
 ],
 "metadata": {
  "kernelspec": {
   "display_name": "Python 3 (ipykernel)",
   "language": "python",
   "name": "python3"
  },
  "language_info": {
   "codemirror_mode": {
    "name": "ipython",
    "version": 3
   },
   "file_extension": ".py",
   "mimetype": "text/x-python",
   "name": "python",
   "nbconvert_exporter": "python",
   "pygments_lexer": "ipython3",
   "version": "3.9.13"
  }
 },
 "nbformat": 4,
 "nbformat_minor": 5
}
