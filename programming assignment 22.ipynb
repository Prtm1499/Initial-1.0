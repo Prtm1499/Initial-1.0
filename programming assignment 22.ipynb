{
 "cells": [
  {
   "cell_type": "code",
   "execution_count": null,
   "id": "2aee4bbf",
   "metadata": {},
   "outputs": [],
   "source": [
    "1.Create a function that takes three parameters where:\n",
    " x is the start of the range (inclusive).\n",
    "\n",
    " y is the end of the range (inclusive).\n",
    "\n",
    " n is the divisor to be checked against.\n",
    "\n",
    "Return an ordered list with numbers in the range that are divisible by the third parameter n.\n",
    "\n",
    "Return an empty list if there are no numbers that are divisible by n.\n",
    "\n",
    "Examples\n",
    "list_operation(1, 10, 3) ➞ [3, 6, 9]\n",
    "\n",
    "list_operation(7, 9, 2) ➞ [8]\n",
    "\n",
    "list_operation(15, 20, 7) ➞ []"
   ]
  },
  {
   "cell_type": "code",
   "execution_count": 1,
   "id": "a0c7dce4",
   "metadata": {},
   "outputs": [],
   "source": [
    "def list_operation(x, y, n):\n",
    "    result = []\n",
    "    for i in range(x, y+1):\n",
    "        if i % n == 0:\n",
    "            result.append(i)\n",
    "    return result"
   ]
  },
  {
   "cell_type": "code",
   "execution_count": 2,
   "id": "3faf1a8c",
   "metadata": {},
   "outputs": [
    {
     "name": "stdout",
     "output_type": "stream",
     "text": [
      "[3, 6, 9]\n",
      "[8]\n",
      "[]\n"
     ]
    }
   ],
   "source": [
    "print(list_operation(1, 10, 3))\n",
    "print(list_operation(7, 9, 2))\n",
    "print(list_operation(15, 20, 7))"
   ]
  },
  {
   "cell_type": "code",
   "execution_count": null,
   "id": "b681c809",
   "metadata": {},
   "outputs": [],
   "source": [
    "2.Create a function that takes in two lists and returns True if the second list follows the first list by one \n",
    "element, and False otherwise. In other words, determine if the second list is the first list shifted to the right \n",
    "by 1.\n",
    "Examples\n",
    "simon_says([1, 2], [5, 1]) ➞ True\n",
    "\n",
    "simon_says([1, 2], [5, 5]) ➞ False\n",
    "\n",
    "simon_says([1, 2, 3, 4, 5], [0, 1, 2, 3, 4]) ➞ True\n",
    "\n",
    "simon_says([1, 2, 3, 4, 5], [5, 5, 1, 2, 3]) ➞ False\n",
    "\n",
    "Notes\n",
    " Both input lists will be of the same length, and will have a minimum length of 2.\n",
    "\n",
    " The values of the 0-indexed element in the second list and the n-1th indexed element in the first list do not \n",
    "matter."
   ]
  },
  {
   "cell_type": "code",
   "execution_count": 3,
   "id": "84953463",
   "metadata": {},
   "outputs": [],
   "source": [
    "def simon_says(lst1, lst2):\n",
    "    return lst1[:-1] == lst2[1:]"
   ]
  },
  {
   "cell_type": "code",
   "execution_count": 6,
   "id": "9653c13a",
   "metadata": {},
   "outputs": [
    {
     "name": "stdout",
     "output_type": "stream",
     "text": [
      "True\n",
      "False\n",
      "True\n",
      "False\n"
     ]
    }
   ],
   "source": [
    "print(simon_says([1, 2], [5, 1]))\n",
    "print(simon_says([1, 2], [5, 5]))\n",
    "print(simon_says([1, 2, 3, 4, 5], [0, 1, 2, 3, 4]))\n",
    "print(simon_says([1, 2,3, 4, 5], [5, 5, 1, 2, 3]))"
   ]
  },
  {
   "cell_type": "code",
   "execution_count": null,
   "id": "6cf5f3d7",
   "metadata": {},
   "outputs": [],
   "source": [
    "3.A group of friends have decided to start a secret society. The name will be the first letter of each of their \n",
    "names, sorted in alphabetical order. Create a function that takes in a list of names and returns the name of the \n",
    "secret society.\n",
    "\n",
    "Examples\n",
    "society_name([\"Adam\", \"Sarah\", \"Malcolm\"]) ➞ \"AMS\"\n",
    "\n",
    "society_name([\"Harry\", \"Newt\", \"Luna\", \"Cho\"]) ➞ \"CHLN\"\n",
    "\n",
    "society_name([\"Phoebe\", \"Chandler\", \"Rachel\", \"Ross\", \"Monica\", \"Joey\"])"
   ]
  },
  {
   "cell_type": "code",
   "execution_count": 9,
   "id": "79b07ec0",
   "metadata": {},
   "outputs": [],
   "source": [
    "def society_name(names):\n",
    "    secret_name = \"\"\n",
    "    for name in names:\n",
    "        secret_name += name[0]\n",
    "    return ''.join(sorted(secret_name))"
   ]
  },
  {
   "cell_type": "code",
   "execution_count": 10,
   "id": "1e4de924",
   "metadata": {},
   "outputs": [
    {
     "name": "stdout",
     "output_type": "stream",
     "text": [
      "AMS\n",
      "CHLN\n",
      "CJMPRR\n"
     ]
    }
   ],
   "source": [
    "print(society_name([\"Adam\", \"Sarah\", \"Malcolm\"]))\n",
    "print(society_name([\"Harry\", \"Newt\", \"Luna\", \"Cho\"]))\n",
    "print(society_name([\"Phoebe\", \"Chandler\", \"Rachel\", \"Ross\", \"Monica\", \"Joey\"]))"
   ]
  },
  {
   "cell_type": "code",
   "execution_count": null,
   "id": "b8862ef8",
   "metadata": {},
   "outputs": [],
   "source": [
    "4.An isogram is a word that has no duplicate letters. Create a function that takes a string and returns either \n",
    "True or False depending on whether or not it's an \"isogram\".\n",
    "Examples\n",
    "is_isogram(\"Algorism\") ➞ True\n",
    "\n",
    "is_isogram(\"PasSword\") ➞ False\n",
    "\n",
    "Not case sensitive.\n",
    "is_isogram(\"Consecutive\") ➞ False\n",
    "\n",
    "Notes\n",
    " Ignore letter case (should not be case sensitive).\n",
    "\n",
    " All test cases contain valid one word strings."
   ]
  },
  {
   "cell_type": "code",
   "execution_count": 11,
   "id": "e9f03747",
   "metadata": {},
   "outputs": [],
   "source": [
    "def is_isogram(string):\n",
    "    string = string.lower()\n",
    "    for letter in string:\n",
    "        if string.count(letter) > 1:\n",
    "            return False\n",
    "    return True"
   ]
  },
  {
   "cell_type": "code",
   "execution_count": 12,
   "id": "a98bbe37",
   "metadata": {},
   "outputs": [
    {
     "name": "stdout",
     "output_type": "stream",
     "text": [
      "True\n",
      "False\n",
      "False\n"
     ]
    }
   ],
   "source": [
    "print (is_isogram(\"Algorism\"))\n",
    "print(is_isogram(\"PasSword\"))\n",
    "print(is_isogram(\"Consecutive\"))"
   ]
  },
  {
   "cell_type": "code",
   "execution_count": null,
   "id": "85372791",
   "metadata": {},
   "outputs": [],
   "source": [
    "5.Create a function that takes a string and returns True or False, depending on whether the characters are in \n",
    "order or not.\n",
    "Examples\n",
    "is_in_order(\"abc\") ➞ True\n",
    "\n",
    "is_in_order(\"edabit\") ➞ False\n",
    "\n",
    "is_in_order(\"123\") ➞ True\n",
    "\n",
    "is_in_order(\"xyzz\") ➞ True\n",
    "\n",
    "Notes\n",
    "You don't have to handle empty strings."
   ]
  },
  {
   "cell_type": "code",
   "execution_count": 13,
   "id": "afa52f4b",
   "metadata": {},
   "outputs": [],
   "source": [
    "def is_in_order(txt):\n",
    "    return txt == ''.join(sorted(txt))"
   ]
  },
  {
   "cell_type": "code",
   "execution_count": 14,
   "id": "f40a3316",
   "metadata": {},
   "outputs": [
    {
     "name": "stdout",
     "output_type": "stream",
     "text": [
      "True\n",
      "False\n",
      "True\n",
      "True\n"
     ]
    }
   ],
   "source": [
    "print(is_in_order(\"abc\"))\n",
    "print(is_in_order(\"edabit\"))\n",
    "print(is_in_order(\"123\"))\n",
    "print(is_in_order(\"xyzz\"))"
   ]
  },
  {
   "cell_type": "code",
   "execution_count": null,
   "id": "0d03fe10",
   "metadata": {},
   "outputs": [],
   "source": []
  }
 ],
 "metadata": {
  "kernelspec": {
   "display_name": "Python 3 (ipykernel)",
   "language": "python",
   "name": "python3"
  },
  "language_info": {
   "codemirror_mode": {
    "name": "ipython",
    "version": 3
   },
   "file_extension": ".py",
   "mimetype": "text/x-python",
   "name": "python",
   "nbconvert_exporter": "python",
   "pygments_lexer": "ipython3",
   "version": "3.9.13"
  }
 },
 "nbformat": 4,
 "nbformat_minor": 5
}
