{
 "cells": [
  {
   "cell_type": "code",
   "execution_count": null,
   "id": "4d46b6d8",
   "metadata": {},
   "outputs": [],
   "source": [
    "1. Write a Python Program to Find the Factorial of a Number ?"
   ]
  },
  {
   "cell_type": "code",
   "execution_count": 1,
   "id": "3599ecd8",
   "metadata": {},
   "outputs": [],
   "source": [
    "def factorial(n):\n",
    "    if n == 0:\n",
    "        return 1\n",
    "    else :\n",
    "        return n * factorial(n-1)"
   ]
  },
  {
   "cell_type": "code",
   "execution_count": 2,
   "id": "86e1ce8b",
   "metadata": {},
   "outputs": [
    {
     "name": "stdout",
     "output_type": "stream",
     "text": [
      "120\n"
     ]
    }
   ],
   "source": [
    "print(factorial(5))"
   ]
  },
  {
   "cell_type": "code",
   "execution_count": null,
   "id": "6fb997e8",
   "metadata": {},
   "outputs": [],
   "source": [
    "2. Write a Python Program to Display the multiplication Table ?"
   ]
  },
  {
   "cell_type": "code",
   "execution_count": 7,
   "id": "69941ac9",
   "metadata": {},
   "outputs": [],
   "source": [
    "def multiplication_table(n):\n",
    "    for i in range(1,10):\n",
    "        print (n, \"x\", i, \"=\", n*i)"
   ]
  },
  {
   "cell_type": "code",
   "execution_count": 8,
   "id": "e7187acb",
   "metadata": {},
   "outputs": [
    {
     "name": "stdout",
     "output_type": "stream",
     "text": [
      "23 x 1 = 23\n",
      "23 x 2 = 46\n",
      "23 x 3 = 69\n",
      "23 x 4 = 92\n",
      "23 x 5 = 115\n",
      "23 x 6 = 138\n",
      "23 x 7 = 161\n",
      "23 x 8 = 184\n",
      "23 x 9 = 207\n"
     ]
    }
   ],
   "source": [
    "multiplication_table(23)"
   ]
  },
  {
   "cell_type": "code",
   "execution_count": null,
   "id": "93b77837",
   "metadata": {},
   "outputs": [],
   "source": [
    "3. Write a Python Program to Print the Fibonacci sequence ?"
   ]
  },
  {
   "cell_type": "code",
   "execution_count": 9,
   "id": "d7b0094a",
   "metadata": {},
   "outputs": [],
   "source": [
    "def fibonacci(n):\n",
    "    if n == 0:\n",
    "        return 0\n",
    "    elif n == 1:\n",
    "        return 1\n",
    "    else:\n",
    "        return fibonacci(n-1) + fibonacci(n-2)"
   ]
  },
  {
   "cell_type": "code",
   "execution_count": 14,
   "id": "b0ffd749",
   "metadata": {},
   "outputs": [
    {
     "name": "stdout",
     "output_type": "stream",
     "text": [
      "0\n",
      "1\n",
      "1\n",
      "2\n",
      "3\n"
     ]
    }
   ],
   "source": [
    "for i in range(5):\n",
    "    print(fibonacci(i))"
   ]
  },
  {
   "cell_type": "code",
   "execution_count": null,
   "id": "1c4295ef",
   "metadata": {},
   "outputs": [],
   "source": [
    "4. Write a Python Program to Check Armstrong Number ?"
   ]
  },
  {
   "cell_type": "code",
   "execution_count": 16,
   "id": "7386ac34",
   "metadata": {},
   "outputs": [],
   "source": [
    "def armstrong_number(n):\n",
    "    sum = 0\n",
    "    temp = n\n",
    "    while temp > 0:\n",
    "        digit = temp % 10\n",
    "        sum += digit ** 3\n",
    "        temp //= 10\n",
    "    if n == sum:\n",
    "        print(n, \"is an Armstrong number\")\n",
    "    else:\n",
    "        print(n, \"is not an Armstrong number\")"
   ]
  },
  {
   "cell_type": "code",
   "execution_count": 19,
   "id": "e5faff33",
   "metadata": {},
   "outputs": [
    {
     "name": "stdout",
     "output_type": "stream",
     "text": [
      "15 is not an Armstrong number\n"
     ]
    }
   ],
   "source": [
    "armstrong_number(15)"
   ]
  },
  {
   "cell_type": "code",
   "execution_count": null,
   "id": "a62c2ae3",
   "metadata": {},
   "outputs": [],
   "source": [
    "5. Write a Python Program to Find Armstrong Number in an Interval ?"
   ]
  },
  {
   "cell_type": "code",
   "execution_count": 20,
   "id": "5d619ee8",
   "metadata": {},
   "outputs": [],
   "source": [
    "def armstrong_number(n):\n",
    "    for i in range(n):\n",
    "        sum = 0\n",
    "        temp = i\n",
    "        while temp > 0:\n",
    "            digit = temp % 10\n",
    "            sum += digit ** 3\n",
    "            temp //= 10\n",
    "        if i == sum:\n",
    "            print(i, \"is an Armstrong number\")\n",
    "        else:\n",
    "            print(i, \"is not an Armstrong number\")"
   ]
  },
  {
   "cell_type": "code",
   "execution_count": 22,
   "id": "ace2aea7",
   "metadata": {},
   "outputs": [
    {
     "name": "stdout",
     "output_type": "stream",
     "text": [
      "0 is an Armstrong number\n",
      "1 is an Armstrong number\n",
      "2 is not an Armstrong number\n",
      "3 is not an Armstrong number\n",
      "4 is not an Armstrong number\n",
      "5 is not an Armstrong number\n",
      "6 is not an Armstrong number\n",
      "7 is not an Armstrong number\n",
      "8 is not an Armstrong number\n",
      "9 is not an Armstrong number\n"
     ]
    }
   ],
   "source": [
    "armstrong_number(10)"
   ]
  },
  {
   "cell_type": "code",
   "execution_count": null,
   "id": "baa7b628",
   "metadata": {},
   "outputs": [],
   "source": [
    "6. Write a Python Program to Find the Sum of Natural Numbers ?"
   ]
  },
  {
   "cell_type": "code",
   "execution_count": 23,
   "id": "feabe031",
   "metadata": {},
   "outputs": [],
   "source": [
    "def sum_of_natural_numbers(n):\n",
    "    sum = 0\n",
    "    for i in range(1, n+1):\n",
    "        sum += i\n",
    "    return sum"
   ]
  },
  {
   "cell_type": "code",
   "execution_count": 25,
   "id": "8be6d3b8",
   "metadata": {},
   "outputs": [
    {
     "name": "stdout",
     "output_type": "stream",
     "text": [
      "528\n"
     ]
    }
   ],
   "source": [
    "print(sum_of_natural_numbers(32))"
   ]
  },
  {
   "cell_type": "code",
   "execution_count": null,
   "id": "1f7c8328",
   "metadata": {},
   "outputs": [],
   "source": []
  }
 ],
 "metadata": {
  "kernelspec": {
   "display_name": "Python 3 (ipykernel)",
   "language": "python",
   "name": "python3"
  },
  "language_info": {
   "codemirror_mode": {
    "name": "ipython",
    "version": 3
   },
   "file_extension": ".py",
   "mimetype": "text/x-python",
   "name": "python",
   "nbconvert_exporter": "python",
   "pygments_lexer": "ipython3",
   "version": "3.9.13"
  }
 },
 "nbformat": 4,
 "nbformat_minor": 5
}
