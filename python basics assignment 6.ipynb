{
 "cells": [
  {
   "cell_type": "code",
   "execution_count": null,
   "id": "50f413c8",
   "metadata": {},
   "outputs": [],
   "source": [
    "1. What are escape characters, and how do you use them ?\n",
    "\n",
    "Ans: Escape characters used to escape special characters from the string. \n",
    "     E.g : \\n is used to print new line."
   ]
  },
  {
   "cell_type": "code",
   "execution_count": null,
   "id": "c4a3037c",
   "metadata": {},
   "outputs": [],
   "source": [
    "2. What do the escape characters n and t stand for ?\n",
    "\n",
    "Ans: 1. \\n used to print new line.\n",
    "     2. \\t used to print tab."
   ]
  },
  {
   "cell_type": "code",
   "execution_count": null,
   "id": "becc95bf",
   "metadata": {},
   "outputs": [],
   "source": [
    "3. What is the way to include backslash characters in a string ?\n",
    "\n",
    "Ans: Use double backslash (\\\\)."
   ]
  },
  {
   "cell_type": "code",
   "execution_count": null,
   "id": "3b7c1d3a",
   "metadata": {},
   "outputs": [],
   "source": [
    "4. The string \"Howl's Moving Castle\" is a correct value. Why isn't the single quote character in the word \n",
    "   Howl's not escaped a problem ?\n",
    "\n",
    "Ans: The single quote character in the word Howl's is not escaped. The single quote character is used to define the string."
   ]
  },
  {
   "cell_type": "code",
   "execution_count": null,
   "id": "66bad776",
   "metadata": {},
   "outputs": [],
   "source": [
    "5. How do you write a string of newlines if you don't want to use the n character ?\n",
    "\n",
    "Ans: Use the \\n escape character."
   ]
  },
  {
   "cell_type": "code",
   "execution_count": null,
   "id": "195383ec",
   "metadata": {},
   "outputs": [],
   "source": [
    "6.What are the values of the given expressions ?\n",
    "'Hello, world!'[1]\n",
    "'Hello, world!'[0:5]\n",
    "'Hello, world!'[:5]\n",
    "'Hello, world!'[3:]\n",
    "\n",
    "Ans: 1. e\n",
    "     2. ello\n",
    "     3. Hello\n",
    "     4. lo world"
   ]
  },
  {
   "cell_type": "code",
   "execution_count": null,
   "id": "7f6ce7f3",
   "metadata": {},
   "outputs": [],
   "source": [
    "7.What are the values of the following expressions ?\n",
    "'Hello'.upper()\n",
    "'Hello'.upper().isupper()\n",
    "'Hello'.upper().lower()\n",
    "\n",
    "Ans: 1. 'HELLO'\n",
    "     2. True\n",
    "     3. 'hello'"
   ]
  },
  {
   "cell_type": "code",
   "execution_count": null,
   "id": "47c305cc",
   "metadata": {},
   "outputs": [],
   "source": [
    "8.What are the values of the following expressions ?\n",
    "'Remember, remember, the fifith of July.'.split()\n",
    "-'.join('There can only one'.split())\n",
    "\n",
    "Ans: 1. ['Remember' , 'remember' , 'the' , 'fifith' , 'of' , 'July']\n",
    "     2. 'There can only one'"
   ]
  },
  {
   "cell_type": "code",
   "execution_count": null,
   "id": "385f7029",
   "metadata": {},
   "outputs": [],
   "source": [
    "9.What are the methods for right-justifying, left-justifying and centering a string ?\n",
    "\n",
    "Ans: 1. ljust()\n",
    "     2. rjust()\n",
    "     3. center()"
   ]
  },
  {
   "cell_type": "code",
   "execution_count": null,
   "id": "f9a550cf",
   "metadata": {},
   "outputs": [],
   "source": [
    "10.What is the best way to remove whitespace characters from the start or end ?\n",
    "\n",
    "Ans: 1. lstrip - for left\n",
    "     2. rstrp - for right used to remove whitespace characters."
   ]
  }
 ],
 "metadata": {
  "kernelspec": {
   "display_name": "Python 3 (ipykernel)",
   "language": "python",
   "name": "python3"
  },
  "language_info": {
   "codemirror_mode": {
    "name": "ipython",
    "version": 3
   },
   "file_extension": ".py",
   "mimetype": "text/x-python",
   "name": "python",
   "nbconvert_exporter": "python",
   "pygments_lexer": "ipython3",
   "version": "3.9.13"
  }
 },
 "nbformat": 4,
 "nbformat_minor": 5
}
