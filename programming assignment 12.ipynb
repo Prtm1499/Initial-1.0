{
 "cells": [
  {
   "cell_type": "code",
   "execution_count": null,
   "id": "a2a7aa65",
   "metadata": {},
   "outputs": [],
   "source": [
    "1. Write a Python program to Extract Unique values dictionary values ?"
   ]
  },
  {
   "cell_type": "code",
   "execution_count": 4,
   "id": "36798349",
   "metadata": {},
   "outputs": [],
   "source": [
    "def unique(dict):\n",
    "    unique_values = []\n",
    "    for value in dict.values():\n",
    "        if value not in unique_values:\n",
    "            unique_values.append(value)\n",
    "    return unique_values"
   ]
  },
  {
   "cell_type": "code",
   "execution_count": 5,
   "id": "3a902951",
   "metadata": {},
   "outputs": [
    {
     "name": "stdout",
     "output_type": "stream",
     "text": [
      "[1, 2, 3]\n"
     ]
    }
   ],
   "source": [
    "print(unique({'a': 1, 'b': 2, 'c': 1, 'd': 3}))"
   ]
  },
  {
   "cell_type": "code",
   "execution_count": null,
   "id": "39696775",
   "metadata": {},
   "outputs": [],
   "source": [
    "2. Write a Python program to find the sum of all items in a dictionary ?"
   ]
  },
  {
   "cell_type": "code",
   "execution_count": 10,
   "id": "8f8a3b2c",
   "metadata": {},
   "outputs": [],
   "source": [
    "def sum_dict(dict):\n",
    "    sum = 0\n",
    "    for value in dict.values():\n",
    "        sum += value\n",
    "    return sum"
   ]
  },
  {
   "cell_type": "code",
   "execution_count": 11,
   "id": "49acf117",
   "metadata": {},
   "outputs": [
    {
     "name": "stdout",
     "output_type": "stream",
     "text": [
      "10\n"
     ]
    }
   ],
   "source": [
    "print(sum_dict({'a': 1, 'b': 2, 'c': 3, 'd': 4}))"
   ]
  },
  {
   "cell_type": "code",
   "execution_count": null,
   "id": "f62feefc",
   "metadata": {},
   "outputs": [],
   "source": [
    "3. Write a Python program to Merging two Dictionaries ?"
   ]
  },
  {
   "cell_type": "code",
   "execution_count": 12,
   "id": "20097493",
   "metadata": {},
   "outputs": [],
   "source": [
    "def merge_dicts(dict1, dict2):\n",
    "    merged_dict = dict1.copy()\n",
    "    merged_dict.update(dict2)\n",
    "    return merged_dict"
   ]
  },
  {
   "cell_type": "code",
   "execution_count": 13,
   "id": "1f6a8889",
   "metadata": {},
   "outputs": [
    {
     "name": "stdout",
     "output_type": "stream",
     "text": [
      "{'a': 1, 'b': 2, 'c': 3, 'd': 4}\n"
     ]
    }
   ],
   "source": [
    "print(merge_dicts({'a': 1, 'b': 2}, {'c': 3, 'd': 4}))"
   ]
  },
  {
   "cell_type": "code",
   "execution_count": null,
   "id": "2fa7a8b9",
   "metadata": {},
   "outputs": [],
   "source": [
    "4. Write a Python program to convert key-values list to flat dictionary ?"
   ]
  },
  {
   "cell_type": "code",
   "execution_count": 14,
   "id": "f4c816fa",
   "metadata": {},
   "outputs": [],
   "source": [
    "def list_to_dict(lst):\n",
    "    flat_dict = {}\n",
    "    for i in range(0, len(lst), 2):\n",
    "        flat_dict[lst[i]] = lst[i+1]\n",
    "    return flat_dict"
   ]
  },
  {
   "cell_type": "code",
   "execution_count": 15,
   "id": "92e5bb63",
   "metadata": {},
   "outputs": [
    {
     "name": "stdout",
     "output_type": "stream",
     "text": [
      "{'a': 1, 'b': 2, 'c': 3}\n"
     ]
    }
   ],
   "source": [
    "print(list_to_dict(['a', 1, 'b', 2, 'c', 3]))"
   ]
  },
  {
   "cell_type": "code",
   "execution_count": null,
   "id": "9c72b309",
   "metadata": {},
   "outputs": [],
   "source": [
    "5. Write a Python program to insertion at the beginning in OrderedDict ?"
   ]
  },
  {
   "cell_type": "code",
   "execution_count": 27,
   "id": "c2b468c8",
   "metadata": {},
   "outputs": [
    {
     "name": "stdout",
     "output_type": "stream",
     "text": [
      "Resultant Dictionary: OrderedDict([('D', 92), ('A', 4), ('B', 7), ('C', 13)])\n"
     ]
    }
   ],
   "source": [
    "from collections import OrderedDict\n",
    "dict_1 = OrderedDict([('A',4), ('B',7), ('C',13)])\n",
    "insrt = OrderedDict([('D',92)])\n",
    "final = OrderedDict(list(insrt.items()) + list(dict_1.items()))\n",
    "\n",
    "print(\"Resultant Dictionary:\", final)"
   ]
  },
  {
   "cell_type": "code",
   "execution_count": null,
   "id": "063cda05",
   "metadata": {},
   "outputs": [],
   "source": [
    "6. Write a Python program to check order of character in string using OrderedDict() ?"
   ]
  },
  {
   "cell_type": "code",
   "execution_count": 28,
   "id": "9a02ef31",
   "metadata": {},
   "outputs": [],
   "source": [
    "from collections import OrderedDict\n",
    "def check_order(string, pattern):\n",
    "    dict = OrderedDict.fromkeys(string)\n",
    "    pattern_length = 0\n",
    "    for key,value in dict.items():\n",
    "        if (key == pattern[pattern_length]):\n",
    "            pattern_length += 1\n",
    "        if (pattern_length == len(pattern)):\n",
    "            return True\n",
    "    return False"
   ]
  },
  {
   "cell_type": "code",
   "execution_count": 29,
   "id": "00bbec68",
   "metadata": {},
   "outputs": [
    {
     "name": "stdout",
     "output_type": "stream",
     "text": [
      "True\n",
      "False\n",
      "True\n"
     ]
    }
   ],
   "source": [
    "print(check_order('hello world', 'hlo'))\n",
    "print(check_order('hello world', 'lho'))\n",
    "print(check_order('hello world', 'he'))"
   ]
  },
  {
   "cell_type": "code",
   "execution_count": null,
   "id": "866416fb",
   "metadata": {},
   "outputs": [],
   "source": [
    "7. Write a Python program to sort Python Dictionaries by Key or Value ?"
   ]
  },
  {
   "cell_type": "code",
   "execution_count": 36,
   "id": "f1523361",
   "metadata": {},
   "outputs": [
    {
     "name": "stdout",
     "output_type": "stream",
     "text": [
      "{'Banana': 60, 'Grape': 13, 'Mango': 100, 'PineApple': 22}\n",
      "{'Grape': 13, 'PineApple': 22, 'Banana': 60, 'Mango': 100}\n"
     ]
    }
   ],
   "source": [
    "d_items = {'Peach':60,'Apple':22,'Kiwi':60,'M':13}\n",
    "\n",
    "def sort_dict(in_dict,sort_type):\n",
    "    if sort_type == 'key':\n",
    "        print(dict(sorted(in_dict.items(), key=lambda x:x[0], reverse=False)))\n",
    "    else:\n",
    "        print(dict(sorted(in_dict.items(), key=lambda x:x[1], reverse=False)))\n",
    "        \n",
    "sort_dict(d_items,'key')        \n",
    "sort_dict(d_items,'value')"
   ]
  },
  {
   "cell_type": "code",
   "execution_count": null,
   "id": "d4d9671b",
   "metadata": {},
   "outputs": [],
   "source": []
  }
 ],
 "metadata": {
  "kernelspec": {
   "display_name": "Python 3 (ipykernel)",
   "language": "python",
   "name": "python3"
  },
  "language_info": {
   "codemirror_mode": {
    "name": "ipython",
    "version": 3
   },
   "file_extension": ".py",
   "mimetype": "text/x-python",
   "name": "python",
   "nbconvert_exporter": "python",
   "pygments_lexer": "ipython3",
   "version": "3.9.13"
  }
 },
 "nbformat": 4,
 "nbformat_minor": 5
}
