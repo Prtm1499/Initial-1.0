{
 "cells": [
  {
   "cell_type": "code",
   "execution_count": null,
   "id": "aff31980",
   "metadata": {},
   "outputs": [],
   "source": [
    "1. Is the Python Standard Library included with PyInputPlus ?\n",
    "\n",
    "Ans: No, PyInputPlus is not a part of Python Standard Library, it needs to be installed explicitly using the command \n",
    "     !pip install PyInputPlus."
   ]
  },
  {
   "cell_type": "code",
   "execution_count": null,
   "id": "64a050fb",
   "metadata": {},
   "outputs": [],
   "source": [
    "2. Why is PyInputPlus commonly imported with import pyinputplus as pypi ?\n",
    "\n",
    "Ans: You can import the module with import pyinputplus as pyip so that you can enter a shorter name when calling the module's \n",
    "     functions."
   ]
  },
  {
   "cell_type": "code",
   "execution_count": null,
   "id": "8967060c",
   "metadata": {},
   "outputs": [],
   "source": [
    "3. How do you distinguish between inputInt() and inputFloat() ?\n",
    "\n",
    "Ans: inputInt () and inputFloat() are the fucations that are used to get input from the users respectively. \n",
    "     inputInt() is used to get input from the user and convert it to an integer.\n",
    "     inputFloat() is used to get input from the user and convert it to an float."
   ]
  },
  {
   "cell_type": "code",
   "execution_count": null,
   "id": "397356de",
   "metadata": {},
   "outputs": [],
   "source": [
    "4. Using PyInputPlus, how do you ensure that the user enters a whole number between 0 and 99 ?\n",
    "\n",
    "Ans: You can use the function inputInt(min=0, max=99) to user enters a whole number between 0 to 99."
   ]
  },
  {
   "cell_type": "code",
   "execution_count": null,
   "id": "7e1a119a",
   "metadata": {},
   "outputs": [],
   "source": [
    "5. What is transferred to the keyword arguments allowRegexes and blockRegexes ?\n",
    "\n",
    "Ans: The use of allowRegexes and blockRegexes keyword arguments to take list of regular expression strings to determine what the \n",
    "     pyinputplus function will reject or accept valid input."
   ]
  },
  {
   "cell_type": "code",
   "execution_count": null,
   "id": "3611e2e5",
   "metadata": {},
   "outputs": [],
   "source": [
    "6. If a blank input is entered three times, what does inputStr(limit=3) do ?\n",
    "\n",
    "Ans: inputStr(limit=3) will keep asking the user to enter a string until the user enters string that is not blank."
   ]
  },
  {
   "cell_type": "code",
   "execution_count": null,
   "id": "19cd43c6",
   "metadata": {},
   "outputs": [],
   "source": [
    "7. If blank input is entered three times, what does inputStr(limit=3, default='hello') do ?\n",
    "\n",
    "Ans: inputStr(limit=3, default='hello') will keep asking the user to enter the string until the user enters the string is blank.\n",
    "     If user enters the string is blank, the default string will be returned. "
   ]
  }
 ],
 "metadata": {
  "kernelspec": {
   "display_name": "Python 3 (ipykernel)",
   "language": "python",
   "name": "python3"
  },
  "language_info": {
   "codemirror_mode": {
    "name": "ipython",
    "version": 3
   },
   "file_extension": ".py",
   "mimetype": "text/x-python",
   "name": "python",
   "nbconvert_exporter": "python",
   "pygments_lexer": "ipython3",
   "version": "3.9.13"
  }
 },
 "nbformat": 4,
 "nbformat_minor": 5
}
