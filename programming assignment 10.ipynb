{
 "cells": [
  {
   "cell_type": "code",
   "execution_count": null,
   "id": "9d25c924",
   "metadata": {},
   "outputs": [],
   "source": [
    "1. Write a Python program to find sum of elements in list ?"
   ]
  },
  {
   "cell_type": "code",
   "execution_count": 1,
   "id": "39757107",
   "metadata": {},
   "outputs": [],
   "source": [
    "def sum_of_list(list):\n",
    "    sum = 0\n",
    "    for i in list:\n",
    "        sum += i\n",
    "    return sum"
   ]
  },
  {
   "cell_type": "code",
   "execution_count": 2,
   "id": "071ef636",
   "metadata": {},
   "outputs": [
    {
     "name": "stdout",
     "output_type": "stream",
     "text": [
      "15\n"
     ]
    }
   ],
   "source": [
    "print(sum_of_list([1, 2, 3, 4, 5]))"
   ]
  },
  {
   "cell_type": "code",
   "execution_count": null,
   "id": "fb15a851",
   "metadata": {},
   "outputs": [],
   "source": [
    "2. Write a Python program to Multiply all numbers in the list ?"
   ]
  },
  {
   "cell_type": "code",
   "execution_count": 1,
   "id": "a3f0495d",
   "metadata": {},
   "outputs": [],
   "source": [
    "def multiple_of_list(list):\n",
    "    result = 1\n",
    "    for i in list:\n",
    "        result *= i\n",
    "    return result"
   ]
  },
  {
   "cell_type": "code",
   "execution_count": 2,
   "id": "c51ac421",
   "metadata": {},
   "outputs": [
    {
     "name": "stdout",
     "output_type": "stream",
     "text": [
      "120\n"
     ]
    }
   ],
   "source": [
    "print(multiple_of_list([1, 2, 3, 4, 5]))"
   ]
  },
  {
   "cell_type": "code",
   "execution_count": null,
   "id": "5f629e0f",
   "metadata": {},
   "outputs": [],
   "source": [
    "3. Write a Python program to find smallest number in a list ?"
   ]
  },
  {
   "cell_type": "code",
   "execution_count": 3,
   "id": "6cd80b6d",
   "metadata": {},
   "outputs": [],
   "source": [
    "def smallest_number(list):\n",
    "    min_num = list[0]\n",
    "    for i in list:\n",
    "        if i < min_num:\n",
    "            min_num = i\n",
    "    return min_num"
   ]
  },
  {
   "cell_type": "code",
   "execution_count": 4,
   "id": "4d2beb0d",
   "metadata": {},
   "outputs": [
    {
     "name": "stdout",
     "output_type": "stream",
     "text": [
      "1\n"
     ]
    }
   ],
   "source": [
    "print(smallest_number([5, 2, 8, 1, 9]))"
   ]
  },
  {
   "cell_type": "code",
   "execution_count": null,
   "id": "2d11b163",
   "metadata": {},
   "outputs": [],
   "source": [
    "4. Write a Python program to find largest number in a list ?"
   ]
  },
  {
   "cell_type": "code",
   "execution_count": 5,
   "id": "398e0371",
   "metadata": {},
   "outputs": [],
   "source": [
    "def largest_number(list):\n",
    "    max_num = list[0]\n",
    "    for i in list:\n",
    "        if i > max_num:\n",
    "            max_num = i\n",
    "    return max_num"
   ]
  },
  {
   "cell_type": "code",
   "execution_count": 6,
   "id": "adbd0dcd",
   "metadata": {},
   "outputs": [
    {
     "name": "stdout",
     "output_type": "stream",
     "text": [
      "9\n"
     ]
    }
   ],
   "source": [
    "print(largest_number([5, 2, 8, 1, 9]))"
   ]
  },
  {
   "cell_type": "code",
   "execution_count": null,
   "id": "c5ee3729",
   "metadata": {},
   "outputs": [],
   "source": [
    "5. Write a Python program to find second largest number in a list ?"
   ]
  },
  {
   "cell_type": "code",
   "execution_count": 7,
   "id": "ca362ec9",
   "metadata": {},
   "outputs": [],
   "source": [
    "def second_largest(list):\n",
    "    max_num = list[0]\n",
    "    second_max = None\n",
    "    for i in list:\n",
    "        if i > max_num:\n",
    "            second_max = max_num\n",
    "            max_num = i\n",
    "        elif second_max is None or i > second_max:\n",
    "            second_max = i\n",
    "    return second_max"
   ]
  },
  {
   "cell_type": "code",
   "execution_count": 8,
   "id": "0411aa1b",
   "metadata": {},
   "outputs": [
    {
     "name": "stdout",
     "output_type": "stream",
     "text": [
      "8\n"
     ]
    }
   ],
   "source": [
    "print(second_largest([5, 2, 8, 1, 9]))"
   ]
  },
  {
   "cell_type": "code",
   "execution_count": null,
   "id": "9ec48f0e",
   "metadata": {},
   "outputs": [],
   "source": [
    "6. Write a Python program to find N largest elements from a list ?"
   ]
  },
  {
   "cell_type": "code",
   "execution_count": 13,
   "id": "4e48eb69",
   "metadata": {},
   "outputs": [],
   "source": [
    "def n_largest(list, n):\n",
    "    sorted_list = sorted(list, reverse=True)\n",
    "    return sorted_list[:n]"
   ]
  },
  {
   "cell_type": "code",
   "execution_count": 14,
   "id": "4443e0e2",
   "metadata": {},
   "outputs": [
    {
     "name": "stdout",
     "output_type": "stream",
     "text": [
      "[9, 8, 5]\n"
     ]
    }
   ],
   "source": [
    "print(n_largest([5, 2, 8, 1, 9], 3))"
   ]
  },
  {
   "cell_type": "code",
   "execution_count": null,
   "id": "a4baed33",
   "metadata": {},
   "outputs": [],
   "source": [
    "7. Write a Python program to print even numbers in a list ?"
   ]
  },
  {
   "cell_type": "code",
   "execution_count": 15,
   "id": "4ef0b8f8",
   "metadata": {},
   "outputs": [],
   "source": [
    "def even_number(list):\n",
    "    even_list = []\n",
    "    for i in list:\n",
    "        if i % 2 == 0:\n",
    "            even_list.append(i)\n",
    "    return even_list"
   ]
  },
  {
   "cell_type": "code",
   "execution_count": 16,
   "id": "5bf39bc6",
   "metadata": {},
   "outputs": [
    {
     "name": "stdout",
     "output_type": "stream",
     "text": [
      "[2, 4, 6, 8]\n"
     ]
    }
   ],
   "source": [
    "print(even_number([1, 2, 3, 4, 5, 6, 7, 8, 9]))"
   ]
  },
  {
   "cell_type": "code",
   "execution_count": null,
   "id": "edf0a8ce",
   "metadata": {},
   "outputs": [],
   "source": [
    "8. Write a Python program to print odd numbers in a List ?"
   ]
  },
  {
   "cell_type": "code",
   "execution_count": 19,
   "id": "3a36bfe7",
   "metadata": {},
   "outputs": [],
   "source": [
    "def odd_number(list):\n",
    "    odd_list = []\n",
    "    for i in list:\n",
    "        if i % 2 != 0:\n",
    "            odd_list.append(i)\n",
    "    return odd_list"
   ]
  },
  {
   "cell_type": "code",
   "execution_count": 20,
   "id": "9a7c1d94",
   "metadata": {},
   "outputs": [
    {
     "name": "stdout",
     "output_type": "stream",
     "text": [
      "[1, 3, 5, 7, 9]\n"
     ]
    }
   ],
   "source": [
    "print(odd_number([1, 2, 3, 4, 5, 6, 7, 8, 9]))"
   ]
  },
  {
   "cell_type": "code",
   "execution_count": null,
   "id": "dcf55e23",
   "metadata": {},
   "outputs": [],
   "source": [
    "9. Write a Python program to Remove empty List from List ?"
   ]
  },
  {
   "cell_type": "code",
   "execution_count": 21,
   "id": "366de125",
   "metadata": {},
   "outputs": [],
   "source": [
    "def remove_empty_list(list):\n",
    "    new_list = [i for i in list if i]\n",
    "    return new_list"
   ]
  },
  {
   "cell_type": "code",
   "execution_count": 22,
   "id": "5b9b8d1e",
   "metadata": {},
   "outputs": [
    {
     "name": "stdout",
     "output_type": "stream",
     "text": [
      "[1, 2, 3, [4, 5], 6]\n"
     ]
    }
   ],
   "source": [
    "print(remove_empty_list([1, [], 2, [], 3, [4, 5], [], 6]))"
   ]
  },
  {
   "cell_type": "code",
   "execution_count": null,
   "id": "2f9349ed",
   "metadata": {},
   "outputs": [],
   "source": [
    "10. Write a Python program to Cloning or Copying a list ?"
   ]
  },
  {
   "cell_type": "code",
   "execution_count": 23,
   "id": "054eb3b6",
   "metadata": {},
   "outputs": [],
   "source": [
    "def copy_list(list):\n",
    "    new_list = list.copy()\n",
    "    return new_list"
   ]
  },
  {
   "cell_type": "code",
   "execution_count": 24,
   "id": "34b4f9bc",
   "metadata": {},
   "outputs": [
    {
     "name": "stdout",
     "output_type": "stream",
     "text": [
      "[1, 2, 3, 4, 5]\n"
     ]
    }
   ],
   "source": [
    "print(copy_list([1, 2, 3, 4, 5]))"
   ]
  },
  {
   "cell_type": "code",
   "execution_count": null,
   "id": "d5cc6435",
   "metadata": {},
   "outputs": [],
   "source": [
    "11. Write a Python program to Count occurrences of an element in a list ?"
   ]
  },
  {
   "cell_type": "code",
   "execution_count": 25,
   "id": "3e8a63db",
   "metadata": {},
   "outputs": [],
   "source": [
    "def count_occurrences(list, element):\n",
    "    count = 0\n",
    "    for i in list:\n",
    "        if i == element:\n",
    "            count += 1\n",
    "    return count"
   ]
  },
  {
   "cell_type": "code",
   "execution_count": 26,
   "id": "c5b5df57",
   "metadata": {},
   "outputs": [
    {
     "name": "stdout",
     "output_type": "stream",
     "text": [
      "3\n"
     ]
    }
   ],
   "source": [
    "print(count_occurrences([1, 2, 3, 4, 5, 2, 3, 2], 2))"
   ]
  },
  {
   "cell_type": "code",
   "execution_count": null,
   "id": "096eb94b",
   "metadata": {},
   "outputs": [],
   "source": []
  }
 ],
 "metadata": {
  "kernelspec": {
   "display_name": "Python 3 (ipykernel)",
   "language": "python",
   "name": "python3"
  },
  "language_info": {
   "codemirror_mode": {
    "name": "ipython",
    "version": 3
   },
   "file_extension": ".py",
   "mimetype": "text/x-python",
   "name": "python",
   "nbconvert_exporter": "python",
   "pygments_lexer": "ipython3",
   "version": "3.9.13"
  }
 },
 "nbformat": 4,
 "nbformat_minor": 5
}
