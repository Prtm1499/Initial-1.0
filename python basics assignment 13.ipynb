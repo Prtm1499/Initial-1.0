{
 "cells": [
  {
   "cell_type": "code",
   "execution_count": null,
   "id": "11000c75",
   "metadata": {},
   "outputs": [],
   "source": [
    "1. What advantages do Excel spreadsheets have over CSV spreadsheets ?\n",
    "\n",
    "Ans: Excel spreadsheets have many advantages over CSV spreadsheets: \n",
    "     1. The excel spreadsheets are more powerful than CSV spreadsheets. It can analyze more complex data.\n",
    "     2. An Excel not only stores data but can also do operations on the data using macros, formulas etc.\n",
    "     3. CSV files are plain-text files, Does not contain formatting, formulas, macros, etc. It is also known as flat files."
   ]
  },
  {
   "cell_type": "code",
   "execution_count": null,
   "id": "73ea143c",
   "metadata": {},
   "outputs": [],
   "source": [
    "2.What do you pass to csv.reader() and csv.writer() to create reader and writer objects ?"
   ]
  },
  {
   "cell_type": "code",
   "execution_count": null,
   "id": "34c2ed92",
   "metadata": {},
   "outputs": [],
   "source": [
    "import csv\n",
    "with open('A1B2.csv','r') as file:\n",
    "    csv_file = csv.reader(file,delimiter=',')\n",
    "    for ele in csv_file:\n",
    "        print(ele)"
   ]
  },
  {
   "cell_type": "code",
   "execution_count": null,
   "id": "a569a3d2",
   "metadata": {},
   "outputs": [],
   "source": [
    "3. What modes do File objects for reader and writer objects need to be opened in ?\n",
    "\n",
    "Ans: For csv.reader(iterable_file_object), the file objects needed to be opened in read mode mode='r' \n",
    "     Whereas for csv.writer(iterable_file_object) the file objects needed to be opened in write mode mode='w' "
   ]
  },
  {
   "cell_type": "code",
   "execution_count": null,
   "id": "49233744",
   "metadata": {},
   "outputs": [],
   "source": [
    "4. What method takes a list argument and writes it to a CSV file ?\n",
    "\n",
    "Ans: csv.writer(file_object_list)"
   ]
  },
  {
   "cell_type": "code",
   "execution_count": null,
   "id": "9e81c03e",
   "metadata": {},
   "outputs": [],
   "source": [
    "5. What do the keyword arguments delimiter and line terminator do ?\n",
    "\n",
    "Ans: delimiter=','We can use any Character as per our needs if required.\n",
    "     line terminator='\\n' Line Terminator comes at end of line by default it is newline and can be changed accourding \n",
    "     to Requirement."
   ]
  },
  {
   "cell_type": "code",
   "execution_count": null,
   "id": "8c7a4caa",
   "metadata": {},
   "outputs": [],
   "source": [
    "6. What function takes a string of JSON data and returns a Python data structure ?\n",
    "\n",
    "Ans: json.loads(json_string)"
   ]
  },
  {
   "cell_type": "code",
   "execution_count": 8,
   "id": "f55aa674",
   "metadata": {},
   "outputs": [
    {
     "name": "stdout",
     "output_type": "stream",
     "text": [
      "{\n",
      "    \"Name\": \"Pritam Mahangade\",\n",
      "    \"Qualification\": \"BPharm\",\n",
      "    \"Stream\": \"Pharmacovigilance\"\n",
      "}\n",
      "Type of json_string is <class 'str'>\n",
      "json.loads(json_string)\n",
      "Type of json_string is <class 'str'>\n"
     ]
    }
   ],
   "source": [
    "json_string ='''{\n",
    "    \"Name\": \"Pritam Mahangade\",\n",
    "    \"Qualification\": \"BPharm\",\n",
    "    \"Stream\": \"Pharmacovigilance\"\n",
    "}'''\n",
    "print(json_string)\n",
    "print(f'Type of json_string is {type(json_string)}')\n",
    "my_details = 'json.loads(json_string)'\n",
    "print(my_details)\n",
    "print(f'Type of json_string is {type(my_details)}')"
   ]
  },
  {
   "cell_type": "code",
   "execution_count": null,
   "id": "827487b3",
   "metadata": {},
   "outputs": [],
   "source": [
    "7. What function takes a Python data structure and returns a string of JSON data ?\n",
    "\n",
    "Ans: json.dumps(python_object)"
   ]
  },
  {
   "cell_type": "code",
   "execution_count": 1,
   "id": "2dbbd734",
   "metadata": {},
   "outputs": [
    {
     "name": "stdout",
     "output_type": "stream",
     "text": [
      "{'Name': 'Pritam Mahangade', 'Qualification': 'BPharm', 'Stream': 'Pharmacovigilance'}\n",
      "Type of json_string_dump is <class 'dict'>\n",
      "{'Name': 'Pritam Mahangade', 'Qualification': 'BPharm', 'Stream': 'Pharmacovigilance'}\n",
      "Type of json_string_dump is <class 'dict'>\n"
     ]
    }
   ],
   "source": [
    "json_string_dump ={\n",
    "    \"Name\": \"Pritam Mahangade\",\n",
    "    \"Qualification\": \"BPharm\",\n",
    "    \"Stream\": \"Pharmacovigilance\"\n",
    "}\n",
    "print(json_string_dump)\n",
    "print(f'Type of json_string_dump is {type(json_string_dump)}')\n",
    "'json_string_dump = json.dumps(my_details, indent=4, sort_keys=True)'\n",
    "print(json_string_dump)\n",
    "print(f'Type of json_string_dump is {type(json_string_dump)}')"
   ]
  },
  {
   "cell_type": "code",
   "execution_count": null,
   "id": "56f5c2bf",
   "metadata": {},
   "outputs": [],
   "source": []
  }
 ],
 "metadata": {
  "kernelspec": {
   "display_name": "Python 3 (ipykernel)",
   "language": "python",
   "name": "python3"
  },
  "language_info": {
   "codemirror_mode": {
    "name": "ipython",
    "version": 3
   },
   "file_extension": ".py",
   "mimetype": "text/x-python",
   "name": "python",
   "nbconvert_exporter": "python",
   "pygments_lexer": "ipython3",
   "version": "3.9.13"
  }
 },
 "nbformat": 4,
 "nbformat_minor": 5
}
