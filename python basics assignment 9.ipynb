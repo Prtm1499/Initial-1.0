{
 "cells": [
  {
   "cell_type": "code",
   "execution_count": null,
   "id": "cb1ae4a0",
   "metadata": {},
   "outputs": [],
   "source": [
    "1. To what does a relative path refer ?\n",
    "\n",
    "Ans: A relative path is a path that is relative to the current working directory. "
   ]
  },
  {
   "cell_type": "code",
   "execution_count": null,
   "id": "bc3bb70c",
   "metadata": {},
   "outputs": [],
   "source": [
    "2. What does an absolute path start with your operating system ?\n",
    "\n",
    "Ans: The absoulte path start with the root directory of the operating system. "
   ]
  },
  {
   "cell_type": "code",
   "execution_count": null,
   "id": "1aeec067",
   "metadata": {},
   "outputs": [],
   "source": [
    "3. What do the functions os.getcwd() and os.chdir() do ?\n",
    "\n",
    "Ans: os.getcwd() returns the current working directory.\n",
    "     os.chdir() changes the current working directory."
   ]
  },
  {
   "cell_type": "code",
   "execution_count": null,
   "id": "2fad9ed2",
   "metadata": {},
   "outputs": [],
   "source": [
    "4. What are the . and .. folders ?\n",
    "\n",
    "Ans: The . folder is the current folder.\n",
    "     The .. folder is the parent folder."
   ]
  },
  {
   "cell_type": "code",
   "execution_count": null,
   "id": "601b85f8",
   "metadata": {},
   "outputs": [],
   "source": [
    "5. In C:\\bacon\\eggs\\spam.txt, which part is the dir name, and which part is the base name ?\n",
    "\n",
    "Ans: The dir name is C:\\bacon\\eggs.\n",
    "     The base name is spam.txt"
   ]
  },
  {
   "cell_type": "code",
   "execution_count": null,
   "id": "43766371",
   "metadata": {},
   "outputs": [],
   "source": [
    "6. What are the three “mode” arguments that can be passed to the open() function ?\n",
    "\n",
    "Ans: The mode argument can be used to specify the mode in which the file is to be opened. \n",
    "     1. ‘r’ – Read Mode: This is the default mode for open(). The file is opened and a pointer is positioned at the beginning of the file’s content.\n",
    "     2. ‘w’ – Write Mode: Using this mode will overwrite any existing content in a file. If the given file does not exist, a new one will be created.\n",
    "     3. ‘r+’ – Read/Write Mode: Use this mode if you need to simultaneously read and write to a file.\n",
    "     4. ‘a’ – Append Mode: With this mode the user can append the data without overwriting any already existing data in the file.\n",
    "     5. ‘a+’ – Append and Read Mode: In this mode you can read and append the data without overwriting the original file.\n",
    "     6. ‘x’ – Exclusive Creating Mode: This mode is for the sole purpose of creating new files. Use this mode if you know the file to be written doesn’t exist beforehand."
   ]
  },
  {
   "cell_type": "code",
   "execution_count": null,
   "id": "126cf719",
   "metadata": {},
   "outputs": [],
   "source": [
    "7. What happens if an existing file is opened in write mode ?\n",
    "\n",
    "Ans: If the existing file is opened in write mode then exting content will get overwritten. If the file is opened in append mode\n",
    "     then new content will appened to exting content and new file will be created. "
   ]
  },
  {
   "cell_type": "code",
   "execution_count": null,
   "id": "1a60ad11",
   "metadata": {},
   "outputs": [],
   "source": [
    "8. How do you tell the difference between read() and readlines() ?\n",
    "\n",
    "Ans: read() reads the entire file and return string.\n",
    "     readlines() reads the entire file and return the list of string."
   ]
  },
  {
   "cell_type": "code",
   "execution_count": null,
   "id": "e5ef18c8",
   "metadata": {},
   "outputs": [],
   "source": [
    "9. What data structure does a shelf value resemble ?\n",
    "\n",
    "Ans: A shelf value is dictionary with key and values."
   ]
  }
 ],
 "metadata": {
  "kernelspec": {
   "display_name": "Python 3 (ipykernel)",
   "language": "python",
   "name": "python3"
  },
  "language_info": {
   "codemirror_mode": {
    "name": "ipython",
    "version": 3
   },
   "file_extension": ".py",
   "mimetype": "text/x-python",
   "name": "python",
   "nbconvert_exporter": "python",
   "pygments_lexer": "ipython3",
   "version": "3.9.13"
  }
 },
 "nbformat": 4,
 "nbformat_minor": 5
}
