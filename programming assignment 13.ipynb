{
 "cells": [
  {
   "cell_type": "code",
   "execution_count": null,
   "id": "2a32d37a",
   "metadata": {},
   "outputs": [],
   "source": [
    "1.Write a program that calculates and prints the value according to the given formula:\n",
    "Q = Square root of [(2 * C * D)/H] Following are the fixed values of C and H: C is 50. H is 30. D is the variable whose values \n",
    "    should be input to your program in a comma-separated sequence. Example Let us assume the following comma separated input \n",
    "    sequence is given to the program: 100,150,180 The output of the program should be: 18,22,24"
   ]
  },
  {
   "cell_type": "code",
   "execution_count": 3,
   "id": "ceaccdb1",
   "metadata": {},
   "outputs": [
    {
     "name": "stdout",
     "output_type": "stream",
     "text": [
      "Enter comma separated values of D: 12,13,15\n",
      "6,7,7\n"
     ]
    }
   ],
   "source": [
    "import math \n",
    "C = 50\n",
    "H = 30\n",
    "D = input(\"Enter comma separated values of D: \")\n",
    "D_list = D.split(\",\")\n",
    "Q_list = []\n",
    "for d in D_list:\n",
    "    Q = round(math.sqrt((2 * C * int(d))/H))\n",
    "    Q_list.append(str(Q))\n",
    "print(\",\".join(Q_list))"
   ]
  },
  {
   "cell_type": "code",
   "execution_count": null,
   "id": "fda79e83",
   "metadata": {},
   "outputs": [],
   "source": [
    "2.Write a program which takes 2 digits, X,Y as input and generates a 2-dimensional array. The element value in the i-th row and \n",
    "j-th column of the array should be i*j. Note: i=0,1.., X-1; j=0,1,¡Y-1. Example Suppose the following inputs are given to the \n",
    "program: 3,5 Then, the output of the program should be: [[0, 0, 0, 0, 0], [0, 1, 2, 3, 4], [0, 2, 4, 6, 8]]"
   ]
  },
  {
   "cell_type": "code",
   "execution_count": 15,
   "id": "60a64fee",
   "metadata": {},
   "outputs": [
    {
     "name": "stdout",
     "output_type": "stream",
     "text": [
      "Enter the No. of Rows:3\n",
      "Enter the No. of Columns:7\n",
      "[[0, 0, 0, 0, 0, 0, 0], [0, 1, 2, 3, 4, 5, 6], [0, 2, 4, 6, 8, 10, 12]]\n"
     ]
    }
   ],
   "source": [
    "import array as arr\n",
    "def generateArray():\n",
    "    X = int(input('Enter the No. of Rows:'))\n",
    "    Y = int(input('Enter the No. of Columns:'))\n",
    "    out_Array = []\n",
    "    for ele in range(X):\n",
    "        out_Array.insert(X,[])\n",
    "        for sub_ele in range(Y):\n",
    "            out_Array[ele].append(ele*sub_ele)\n",
    "    print(out_Array)\n",
    "\n",
    "generateArray()"
   ]
  },
  {
   "cell_type": "code",
   "execution_count": null,
   "id": "3162da85",
   "metadata": {},
   "outputs": [],
   "source": [
    "3.Write a program that accepts a comma separated sequence of words as input and prints the words in a comma-separated sequence \n",
    "after sorting them alphabetically. Suppose the following input is supplied to the program: without,hello,bag,world Then, the \n",
    "output should be: bag,hello,without,world"
   ]
  },
  {
   "cell_type": "code",
   "execution_count": 16,
   "id": "ff7b0152",
   "metadata": {},
   "outputs": [
    {
     "name": "stdout",
     "output_type": "stream",
     "text": [
      "Enter comma separated words: without,hello,bag,world\n",
      "bag,hello,without,world\n"
     ]
    }
   ],
   "source": [
    "words = input('Enter comma separated words: ')\n",
    "word_list = words.split(',')\n",
    "word_list.sort()\n",
    "sorted_words = ','.join(word_list)\n",
    "print(sorted_words)"
   ]
  },
  {
   "cell_type": "code",
   "execution_count": null,
   "id": "1fd551d8",
   "metadata": {},
   "outputs": [],
   "source": [
    "4.Write a program that accepts a sequence of whitespace separated words as input and prints the words after removing all duplicate \n",
    " words and sorting them alphanumerically. Suppose the following input is supplied to the program: hello world and practice makes \n",
    " perfect and hello world again Then, the output should be: again and hello makes perfect practice world"
   ]
  },
  {
   "cell_type": "code",
   "execution_count": 17,
   "id": "62f17576",
   "metadata": {},
   "outputs": [
    {
     "name": "stdout",
     "output_type": "stream",
     "text": [
      "Enter whitespace separated words: hello world and practice makes perfect and hello world again\n",
      "again and hello makes perfect practice world\n"
     ]
    }
   ],
   "source": [
    "phrase = input('Enter whitespace separated words: ')\n",
    "word_list = phrase.split()\n",
    "unique_words = list(set(word_list))\n",
    "unique_words.sort()\n",
    "sorted_words = ' '.join(unique_words)\n",
    "print(sorted_words)"
   ]
  },
  {
   "cell_type": "code",
   "execution_count": null,
   "id": "a0ec6a7b",
   "metadata": {},
   "outputs": [],
   "source": [
    "5.Write a program that accepts a sentence and calculate the number of letters and digits. Suppose the following \n",
    "input is supplied to the program: hello world! 123 Then, the output should be: LETTERS 10 DIGITS 3"
   ]
  },
  {
   "cell_type": "code",
   "execution_count": 19,
   "id": "a1343f6c",
   "metadata": {},
   "outputs": [
    {
     "name": "stdout",
     "output_type": "stream",
     "text": [
      "Enter a sentence: hello world! 123\n",
      "LETTERS 10 DIGITS 3\n"
     ]
    }
   ],
   "source": [
    "sentence = input('Enter a sentence: ')\n",
    "letters = 0\n",
    "digits = 0\n",
    "for char in sentence:\n",
    "    if char.isalpha():\n",
    "        letters += 1\n",
    "    elif char.isdigit():\n",
    "        digits += 1\n",
    "print('LETTERS', letters, 'DIGITS', digits)"
   ]
  },
  {
   "cell_type": "code",
   "execution_count": null,
   "id": "37c8f7ae",
   "metadata": {},
   "outputs": [],
   "source": [
    "6.A website requires the users to input username and password to register. Write a program to check the validity \n",
    "of password input by users.\n",
    "Following are the criteria for checking the password:\n",
    "\n",
    "At least 1 letter between [a-z]\n",
    "At least 1 number between [0-9]\n",
    "At least 1 letter between [A-Z]\n",
    "At least 1 character from [$#@]\n",
    "Minimum length of transaction password: 6\n",
    "Maximum length of transaction password: 12\n",
    "Your program should accept a sequence of comma separated passwords and will check them according to the above \n",
    "criteria. Passwords that match the criteria are to be printed, each separated by a comma. Example If the \n",
    "following passwords are given as input to the program: ABd1234@1,a F1\n",
    "#,2w3E*,2We3345 Then, the output of the program should be: ABd1234@1"
   ]
  },
  {
   "cell_type": "code",
   "execution_count": 20,
   "id": "3bd203fd",
   "metadata": {},
   "outputs": [
    {
     "name": "stdout",
     "output_type": "stream",
     "text": [
      "Enter passwords separated by commas: ABd1234@1,a F1\n",
      "ABd1234@1\n"
     ]
    }
   ],
   "source": [
    "import re\n",
    "passwords = input('Enter passwords separated by commas: ').split(',')\n",
    "valid_passwords = []\n",
    "for password in passwords:\n",
    "    if len(password) < 6 or len(password) > 12:\n",
    "        continue\n",
    "    if not re.search('[a-z]', password):\n",
    "        continue\n",
    "    if not re.search('[0-9]', password):\n",
    "        continue\n",
    "    if not re.search('[A-Z]', password):\n",
    "        continue\n",
    "    if not re.search('[$#@]', password):\n",
    "        continue\n",
    "    valid_passwords.append(password)\n",
    "print(','.join(valid_passwords))"
   ]
  },
  {
   "cell_type": "code",
   "execution_count": null,
   "id": "4e62d27d",
   "metadata": {},
   "outputs": [],
   "source": []
  }
 ],
 "metadata": {
  "kernelspec": {
   "display_name": "Python 3 (ipykernel)",
   "language": "python",
   "name": "python3"
  },
  "language_info": {
   "codemirror_mode": {
    "name": "ipython",
    "version": 3
   },
   "file_extension": ".py",
   "mimetype": "text/x-python",
   "name": "python",
   "nbconvert_exporter": "python",
   "pygments_lexer": "ipython3",
   "version": "3.9.13"
  }
 },
 "nbformat": 4,
 "nbformat_minor": 5
}
