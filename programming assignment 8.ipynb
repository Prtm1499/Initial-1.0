{
 "cells": [
  {
   "cell_type": "code",
   "execution_count": null,
   "id": "14c3ec81",
   "metadata": {},
   "outputs": [],
   "source": [
    "1. Write a Python Program to Add Two Matrices ?"
   ]
  },
  {
   "cell_type": "code",
   "execution_count": 6,
   "id": "b2825382",
   "metadata": {},
   "outputs": [
    {
     "name": "stdout",
     "output_type": "stream",
     "text": [
      "[9, 8, 8]\n",
      "[9, 9, 15]\n",
      "[9, 8, 8]\n"
     ]
    }
   ],
   "source": [
    "X = [[2,3,4],[7,5,7],[8,5,3]]\n",
    "Y = [[7,5,4],[2,4,8],[1,3,5]]\n",
    "result = [[0,0,0],[0,0,0],[0,0,0]]\n",
    "for i in range(len(X)):\n",
    "    for j in range(len(X[0])):\n",
    "        result[i][j] = X[i][j] + Y[i][j]\n",
    "for r in result:\n",
    "    print(r)"
   ]
  },
  {
   "cell_type": "code",
   "execution_count": null,
   "id": "32028ad1",
   "metadata": {},
   "outputs": [],
   "source": [
    "2. Write a Python Program to Multiply Two Matrices ?"
   ]
  },
  {
   "cell_type": "code",
   "execution_count": 8,
   "id": "24e4b575",
   "metadata": {},
   "outputs": [
    {
     "name": "stdout",
     "output_type": "stream",
     "text": [
      "[24, 34, 52]\n",
      "[66, 76, 103]\n",
      "[69, 69, 87]\n"
     ]
    }
   ],
   "source": [
    "X = [[2,3,4],[7,5,7],[8,5,3]]\n",
    "Y = [[7,5,4],[2,4,8],[1,3,5]]\n",
    "result = [[0,0,0],[0,0,0],[0,0,0]]\n",
    "for i in range(len(X)):\n",
    "    for j in range(len(Y[0])):\n",
    "        for k in range(len(Y)):\n",
    "            result[i][j] += X[i][k] * Y[k][j]\n",
    "for r in result:\n",
    "    print(r)"
   ]
  },
  {
   "cell_type": "code",
   "execution_count": null,
   "id": "92693098",
   "metadata": {},
   "outputs": [],
   "source": [
    "3. Write a Python Program to Transpose a Matrix ?"
   ]
  },
  {
   "cell_type": "code",
   "execution_count": 9,
   "id": "fc4268b0",
   "metadata": {},
   "outputs": [
    {
     "name": "stdout",
     "output_type": "stream",
     "text": [
      "[2, 7, 8]\n",
      "[3, 5, 5]\n",
      "[4, 7, 3]\n"
     ]
    }
   ],
   "source": [
    "X = [[2,3,4],[7,5,7],[8,5,3]]\n",
    "result = [[0,0,0],[0,0,0],[0,0,0]]\n",
    "for i in range(len(X)):\n",
    "    for j in range(len(X[0])):\n",
    "        result[j][i] = X[i][j]\n",
    "for r in result:\n",
    "    print(r)"
   ]
  },
  {
   "cell_type": "code",
   "execution_count": null,
   "id": "307041fb",
   "metadata": {},
   "outputs": [],
   "source": [
    "4. Write a Python Program to Sort Words in Alphabetic Order ?"
   ]
  },
  {
   "cell_type": "code",
   "execution_count": 17,
   "id": "dcedb19d",
   "metadata": {},
   "outputs": [
    {
     "name": "stdout",
     "output_type": "stream",
     "text": [
      "Enter a string: how are you \n",
      "?\n",
      "are\n",
      "how\n",
      "you\n"
     ]
    }
   ],
   "source": [
    "a = input(\"Enter a string: \")\n",
    "words = s.split()\n",
    "words.sort()\n",
    "for word in words:\n",
    "    print(word)"
   ]
  },
  {
   "cell_type": "code",
   "execution_count": null,
   "id": "c0479729",
   "metadata": {},
   "outputs": [],
   "source": [
    "5. Write a Python Program to Remove Punctuation From a String ?"
   ]
  },
  {
   "cell_type": "code",
   "execution_count": null,
   "id": "4836ec84",
   "metadata": {},
   "outputs": [],
   "source": [
    "a = input(\"Enter a string: \")\n",
    "for char in s:\n",
    "    if char in \"string.punctuation\":\n",
    "        s = s.replace(char, \" \")\n",
    "print(s)"
   ]
  },
  {
   "cell_type": "code",
   "execution_count": null,
   "id": "9ec9dbea",
   "metadata": {},
   "outputs": [],
   "source": []
  }
 ],
 "metadata": {
  "kernelspec": {
   "display_name": "Python 3 (ipykernel)",
   "language": "python",
   "name": "python3"
  },
  "language_info": {
   "codemirror_mode": {
    "name": "ipython",
    "version": 3
   },
   "file_extension": ".py",
   "mimetype": "text/x-python",
   "name": "python",
   "nbconvert_exporter": "python",
   "pygments_lexer": "ipython3",
   "version": "3.9.13"
  }
 },
 "nbformat": 4,
 "nbformat_minor": 5
}
