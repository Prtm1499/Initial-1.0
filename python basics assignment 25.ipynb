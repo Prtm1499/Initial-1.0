{
 "cells": [
  {
   "cell_type": "code",
   "execution_count": null,
   "id": "3bfba423",
   "metadata": {},
   "outputs": [],
   "source": [
    "1) What is the difference between enclosing a list comprehension in square brackets and parentheses ? "
   ]
  },
  {
   "cell_type": "code",
   "execution_count": null,
   "id": "6e83945f",
   "metadata": {},
   "outputs": [],
   "source": [
    "Enclosing a list comprehension in square brackets is a way to make it a list, while enclosing it in parentheses is a way to \n",
    "make it a generator."
   ]
  },
  {
   "cell_type": "code",
   "execution_count": 1,
   "id": "d94a4fd6",
   "metadata": {},
   "outputs": [
    {
     "name": "stdout",
     "output_type": "stream",
     "text": [
      "[0, 1, 2, 3, 4, 5, 6, 7, 8, 9] <class 'list'>\n",
      "<generator object <genexpr> at 0x7f94fb400040> <class 'generator'>\n"
     ]
    }
   ],
   "source": [
    "l = [ele for ele in range(10)]\n",
    "print(l, type(l))\n",
    "g = (ele for ele in range(10))\n",
    "print(g, type(g))"
   ]
  },
  {
   "cell_type": "code",
   "execution_count": null,
   "id": "2c149b8d",
   "metadata": {},
   "outputs": [],
   "source": [
    "2) What is the relationship between generators and iterators ?"
   ]
  },
  {
   "cell_type": "code",
   "execution_count": null,
   "id": "c5d9949c",
   "metadata": {},
   "outputs": [],
   "source": [
    "Generators are iterators, but they are not iterable. \n",
    "\n",
    "An iterator is an object which contains a countable number of values and it is used to iterate over iterable objects like list, \n",
    "tuples etc Using an iterator- iter() keyword is used to create an iterator containing an iterable object. next() keyword is used \n",
    "to call the next element in the iterable object.\n",
    "\n",
    "Generator It is another way of creating iterators in a simple way where it uses the keyword “yield” instead of returning it in \n",
    "a defined function Generators are implemented using a function Here, the yield function returns the data without affecting or \n",
    "exiting the function. It will return a sequence of data in an iterable format where we need to iterate over the sequence to \n",
    "use the data as they won’t store the entire sequence in the memory By using next() function we can iterate the output of \n",
    "generator function"
   ]
  },
  {
   "cell_type": "code",
   "execution_count": null,
   "id": "48ea7ca9",
   "metadata": {},
   "outputs": [],
   "source": [
    "3) What are the signs that a function is a generator function ?"
   ]
  },
  {
   "cell_type": "code",
   "execution_count": null,
   "id": "21ec33e5",
   "metadata": {},
   "outputs": [],
   "source": [
    "A function is generator function if it contains yield "
   ]
  },
  {
   "cell_type": "code",
   "execution_count": null,
   "id": "134b8bf7",
   "metadata": {},
   "outputs": [],
   "source": [
    "4) What is the purpose of a yield statement ?"
   ]
  },
  {
   "cell_type": "code",
   "execution_count": null,
   "id": "b155f348",
   "metadata": {},
   "outputs": [],
   "source": [
    "The purpose of yield statement is to return a value and suspend function. The function will return the value and will be \n",
    "suspened until the next call to next() function."
   ]
  },
  {
   "cell_type": "code",
   "execution_count": null,
   "id": "3a7707d2",
   "metadata": {},
   "outputs": [],
   "source": [
    "5) What is the relationship between map calls and list comprehensions ? Make a comparison and contrast between the two."
   ]
  },
  {
   "cell_type": "code",
   "execution_count": null,
   "id": "803856e0",
   "metadata": {},
   "outputs": [],
   "source": [
    "Map function: Suppose we have a function and we want to compute this function for different values in a single line of code . This is where map() function plays its role. map() function returns a map object(which is an iterator) of the results after applying the given function to each item of a given iterable (list, tuple etc.)\n",
    "\n",
    "If we already have a function defined, it is often good to use map For example, map(sum, myLists) is more neat than [sum(x) for x in myLists]. You gain the elegance of not having to make up a dummy variable (e.g. sum(x) for x... or sum() for ... or sum(readableName) for readableName...) which you have to type twice, just to iterate.\n",
    "\n",
    "List Comprehension: List Comprehension is a substitute for the lambda function, map(), filter() and reduce()\n",
    "\n",
    "Comparision :\n",
    "\n",
    "1.List comprehension is more concise and easier to read as compared to map\n",
    "\n",
    "2.List comprehension allows filtering. In map, we have no such facility For example, to print all even numbers in range of 100, we can write [n for n in range(100) if n%2 == 0]. There is no alternate for it in map\n",
    "\n",
    "3.List comprehension are used when a list of results is required, where as map only returns a map object and does not return any list.\n",
    "\n",
    "4.List comprehension is faster than map when we need to evaluate expressions that are too long or complicated to express\n",
    "\n",
    "5.Map is faster in case of calling an already defined function (as no lambda is required)"
   ]
  }
 ],
 "metadata": {
  "kernelspec": {
   "display_name": "Python 3 (ipykernel)",
   "language": "python",
   "name": "python3"
  },
  "language_info": {
   "codemirror_mode": {
    "name": "ipython",
    "version": 3
   },
   "file_extension": ".py",
   "mimetype": "text/x-python",
   "name": "python",
   "nbconvert_exporter": "python",
   "pygments_lexer": "ipython3",
   "version": "3.9.13"
  }
 },
 "nbformat": 4,
 "nbformat_minor": 5
}
