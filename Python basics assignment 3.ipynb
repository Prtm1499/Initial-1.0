{
 "cells": [
  {
   "cell_type": "code",
   "execution_count": null,
   "id": "936a3d4b",
   "metadata": {},
   "outputs": [],
   "source": [
    "1. Why are functions advantageous to have in your programs ?\n",
    "\n",
    "Ans :Functions used to reduce the need for duplicate code. This makes programs shorter, easier to read, and easier to update. \n",
    "     The main advantage of functions is code reusability."
   ]
  },
  {
   "cell_type": "code",
   "execution_count": null,
   "id": "eef90728",
   "metadata": {},
   "outputs": [],
   "source": [
    "2. When does the code in a function run: when it's specified or when it's called ?\n",
    "\n",
    "Ans : The function works when it is called not when it is specifed."
   ]
  },
  {
   "cell_type": "code",
   "execution_count": null,
   "id": "c21334d3",
   "metadata": {},
   "outputs": [],
   "source": [
    "3. What statement creates a function ?\n",
    "\n",
    "An: The \"def\" statement creats the function."
   ]
  },
  {
   "cell_type": "code",
   "execution_count": null,
   "id": "37479d63",
   "metadata": {},
   "outputs": [],
   "source": [
    "4. What is the difference between a function and a function call ?\n",
    "\n",
    "Ans: A function is an block code which can be used repeatatively.\n",
    "     A function call is an exection of a function."
   ]
  },
  {
   "cell_type": "code",
   "execution_count": null,
   "id": "9ece425c",
   "metadata": {},
   "outputs": [],
   "source": [
    "5. How many global scopes are there in a Python program? How many local scopes ?\n",
    "\n",
    "Ans : There are two types of scopes in the python:\n",
    "        1. Global scopes\n",
    "        2. Local scopes"
   ]
  },
  {
   "cell_type": "code",
   "execution_count": null,
   "id": "2fbee490",
   "metadata": {},
   "outputs": [],
   "source": [
    "6. What happens to variables in a local scope when the function call returns ?\n",
    "\n",
    "Ans: The variabes in the local scope gets destroyed."
   ]
  },
  {
   "cell_type": "code",
   "execution_count": null,
   "id": "21e3617d",
   "metadata": {},
   "outputs": [],
   "source": [
    "7. What is the concept of a return value ? Is it possible to have a return value in an expression ?\n",
    "\n",
    "Ans: A return values is value that can return from a function. The return value can be used as expression."
   ]
  },
  {
   "cell_type": "code",
   "execution_count": null,
   "id": "61dc6677",
   "metadata": {},
   "outputs": [],
   "source": [
    "8. If a function does not have a return statement, what is the return value of a call to that function ?\n",
    "\n",
    "Ans: The return value of the function is None."
   ]
  },
  {
   "cell_type": "code",
   "execution_count": null,
   "id": "54bc9cb4",
   "metadata": {},
   "outputs": [],
   "source": [
    "9. How do you make a function variable refer to the global variable ?\n",
    "\n",
    "Ans: By using global keyword."
   ]
  },
  {
   "cell_type": "code",
   "execution_count": null,
   "id": "4302bd09",
   "metadata": {},
   "outputs": [],
   "source": [
    "10. What is the data type of None ?\n",
    "\n",
    "Ans: None is the special type of data used to represnt abscence value."
   ]
  },
  {
   "cell_type": "code",
   "execution_count": null,
   "id": "57368b44",
   "metadata": {},
   "outputs": [],
   "source": [
    "11. What does the sentence import areallyourpetsnamederic do ?\n",
    "\n",
    "Ans: It imports the all modules from the directory or given path."
   ]
  },
  {
   "cell_type": "code",
   "execution_count": null,
   "id": "63553419",
   "metadata": {},
   "outputs": [],
   "source": [
    "12. If you had a bacon() feature in a spam module, what would you call it after importing spam ?\n",
    "\n",
    "Ans: This function can be called with spam.bacon()."
   ]
  },
  {
   "cell_type": "code",
   "execution_count": null,
   "id": "d1565273",
   "metadata": {},
   "outputs": [],
   "source": [
    "13. What can you do to save a programme from crashing if it encounters an error ?\n",
    "\n",
    "Ans: The try and except block used to handle the error."
   ]
  },
  {
   "cell_type": "code",
   "execution_count": null,
   "id": "91ccabde",
   "metadata": {},
   "outputs": [],
   "source": [
    "14. What is the purpose of the try clause? What is the purpose of the except clause ?\n",
    "\n",
    "Ans: The code that could potentially cause an error goes in the try clause. \n",
    "     The code that executes if an error happens goes in the except clause."
   ]
  }
 ],
 "metadata": {
  "kernelspec": {
   "display_name": "Python 3 (ipykernel)",
   "language": "python",
   "name": "python3"
  },
  "language_info": {
   "codemirror_mode": {
    "name": "ipython",
    "version": 3
   },
   "file_extension": ".py",
   "mimetype": "text/x-python",
   "name": "python",
   "nbconvert_exporter": "python",
   "pygments_lexer": "ipython3",
   "version": "3.9.13"
  }
 },
 "nbformat": 4,
 "nbformat_minor": 5
}
