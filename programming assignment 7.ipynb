{
 "cells": [
  {
   "cell_type": "code",
   "execution_count": null,
   "id": "fb118ebd",
   "metadata": {},
   "outputs": [],
   "source": [
    "1. Write a Python Program to find sum of array ?"
   ]
  },
  {
   "cell_type": "code",
   "execution_count": 1,
   "id": "3ea85f20",
   "metadata": {},
   "outputs": [],
   "source": [
    "def sum_array(arr):\n",
    "    sum = 0\n",
    "    for i in arr:\n",
    "        sum += i\n",
    "    return sum"
   ]
  },
  {
   "cell_type": "code",
   "execution_count": 2,
   "id": "62aed208",
   "metadata": {},
   "outputs": [
    {
     "name": "stdout",
     "output_type": "stream",
     "text": [
      "15\n"
     ]
    }
   ],
   "source": [
    "print(sum_array([1, 2, 3, 4, 5]))"
   ]
  },
  {
   "cell_type": "code",
   "execution_count": null,
   "id": "72057e2f",
   "metadata": {},
   "outputs": [],
   "source": [
    "2. Write a Python Program to find largest element in an array ?"
   ]
  },
  {
   "cell_type": "code",
   "execution_count": 3,
   "id": "23e2c715",
   "metadata": {},
   "outputs": [],
   "source": [
    "def largest(arr):\n",
    "    max = arr[0]\n",
    "    for i in arr:\n",
    "        if i > max:\n",
    "            max = i\n",
    "    return max"
   ]
  },
  {
   "cell_type": "code",
   "execution_count": 4,
   "id": "ae247268",
   "metadata": {},
   "outputs": [
    {
     "name": "stdout",
     "output_type": "stream",
     "text": [
      "5\n"
     ]
    }
   ],
   "source": [
    "print(largest([1, 2, 3, 4, 5]))"
   ]
  },
  {
   "cell_type": "code",
   "execution_count": null,
   "id": "7507d214",
   "metadata": {},
   "outputs": [],
   "source": [
    "3. Write a Python Program for array rotation ?"
   ]
  },
  {
   "cell_type": "code",
   "execution_count": 5,
   "id": "b8b1709b",
   "metadata": {},
   "outputs": [],
   "source": [
    "def rotate(arr, n):\n",
    "    for i in range(n):\n",
    "        temp = arr[0]\n",
    "        for j in range(len(arr)-1):\n",
    "            arr[j] = arr[j+1]\n",
    "        arr[len(arr)-1] = temp\n",
    "    return arr"
   ]
  },
  {
   "cell_type": "code",
   "execution_count": 6,
   "id": "36dee84d",
   "metadata": {},
   "outputs": [
    {
     "name": "stdout",
     "output_type": "stream",
     "text": [
      "[3, 4, 5, 1, 2]\n"
     ]
    }
   ],
   "source": [
    "print(rotate([1, 2, 3, 4, 5], 2))"
   ]
  },
  {
   "cell_type": "code",
   "execution_count": null,
   "id": "98b20b6f",
   "metadata": {},
   "outputs": [],
   "source": [
    "4. Write a Python Program to Split the array and add the first part to the end ?"
   ]
  },
  {
   "cell_type": "code",
   "execution_count": 7,
   "id": "cafa8e08",
   "metadata": {},
   "outputs": [],
   "source": [
    "def split_array(arr):\n",
    "    for i in range(len(arr)//2):\n",
    "        temp = arr[i]\n",
    "        arr[i] = arr[len(arr)-1-i]\n",
    "        arr[len(arr)-1-i] = temp\n",
    "    return arr"
   ]
  },
  {
   "cell_type": "code",
   "execution_count": 8,
   "id": "a4ecd645",
   "metadata": {},
   "outputs": [
    {
     "name": "stdout",
     "output_type": "stream",
     "text": [
      "[5, 4, 3, 2, 1]\n"
     ]
    }
   ],
   "source": [
    "print(split_array([1, 2, 3, 4, 5]))"
   ]
  },
  {
   "cell_type": "code",
   "execution_count": null,
   "id": "631ab08b",
   "metadata": {},
   "outputs": [],
   "source": [
    "5. Write a Python Program to check if given array is Monotonic ?"
   ]
  },
  {
   "cell_type": "code",
   "execution_count": null,
   "id": "fdab52f9",
   "metadata": {},
   "outputs": [],
   "source": [
    "def monotonic(arr):\n",
    "    for i in range(len(arr)-1):\n",
    "        if arr[i] > arr[i+1]:\n",
    "            return False\n",
    "    return True"
   ]
  },
  {
   "cell_type": "code",
   "execution_count": null,
   "id": "5fb1e00e",
   "metadata": {},
   "outputs": [],
   "source": [
    "print(monotonic([1, 2, 3, 4, 5]))"
   ]
  },
  {
   "cell_type": "code",
   "execution_count": null,
   "id": "8b769b73",
   "metadata": {},
   "outputs": [],
   "source": []
  }
 ],
 "metadata": {
  "kernelspec": {
   "display_name": "Python 3 (ipykernel)",
   "language": "python",
   "name": "python3"
  },
  "language_info": {
   "codemirror_mode": {
    "name": "ipython",
    "version": 3
   },
   "file_extension": ".py",
   "mimetype": "text/x-python",
   "name": "python",
   "nbconvert_exporter": "python",
   "pygments_lexer": "ipython3",
   "version": "3.9.13"
  }
 },
 "nbformat": 4,
 "nbformat_minor": 5
}
