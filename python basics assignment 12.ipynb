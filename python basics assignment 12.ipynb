{
 "cells": [
  {
   "cell_type": "code",
   "execution_count": null,
   "id": "32bd7a7c",
   "metadata": {},
   "outputs": [],
   "source": [
    "1. In what modes should the PdfFileReader() and PdfFileWriter() File objects will be opened ?\n",
    "\n",
    "Ans: The PdfFileReader() file obejects will be opened in 'rb' mode.\n",
    "     The PdfFileWriter() file objects will be opened in 'wb' mode."
   ]
  },
  {
   "cell_type": "code",
   "execution_count": null,
   "id": "0497473f",
   "metadata": {},
   "outputs": [],
   "source": [
    "2. From a PdfFileReader object, how do you get a Page object for page 5 ?"
   ]
  },
  {
   "cell_type": "code",
   "execution_count": null,
   "id": "e7fdb8ba",
   "metadata": {},
   "outputs": [],
   "source": [
    "page = reader.getPage(5)"
   ]
  },
  {
   "cell_type": "code",
   "execution_count": null,
   "id": "385fd6c3",
   "metadata": {},
   "outputs": [],
   "source": [
    "3. What PdfFileReader variable stores the number of pages in the PDF document ?\n",
    "\n",
    "Ans: reder.getNumPages()"
   ]
  },
  {
   "cell_type": "code",
   "execution_count": null,
   "id": "23c1e80e",
   "metadata": {},
   "outputs": [],
   "source": [
    "4. If a PdfFileReader object’s PDF is encrypted with the password swordfish, what must you do before you can obtain Page objects \n",
    "   from it ?\n",
    "    \n",
    "Ans: reader.dycrypt('swordfish')"
   ]
  },
  {
   "cell_type": "code",
   "execution_count": null,
   "id": "3a9404ee",
   "metadata": {},
   "outputs": [],
   "source": [
    "5. What methods do you use to rotate a page ?\n",
    "\n",
    "Ans: 1. page.rotateClockwise(90)\n",
    "     2. page.rotateCounterClockwise(90)"
   ]
  },
  {
   "cell_type": "code",
   "execution_count": null,
   "id": "b49e79a0",
   "metadata": {},
   "outputs": [],
   "source": [
    "6. What is the difference between a Run object and a Paragraph object ?\n",
    "\n",
    "Ans: A run object is single text string. Paragraph object is collection of runs. "
   ]
  },
  {
   "cell_type": "code",
   "execution_count": null,
   "id": "fec35f02",
   "metadata": {},
   "outputs": [],
   "source": [
    "7. How do you obtain a list of Paragraph objects for a Document object that’s stored in a variable named doc ?\n",
    "\n",
    "Ans: doc.get_paragraphs()"
   ]
  },
  {
   "cell_type": "code",
   "execution_count": null,
   "id": "9b889b42",
   "metadata": {},
   "outputs": [],
   "source": [
    "#!pip install python-docx\n",
    "a = import docx\n",
    "doc = docx.Document('abc.docx')\n",
    "doc.get_paragraphs\n",
    "#By using doc.get_paragraphs"
   ]
  },
  {
   "cell_type": "code",
   "execution_count": null,
   "id": "44e8d3f1",
   "metadata": {},
   "outputs": [],
   "source": [
    "8. What type of object has bold, underline, italic, strike, and outline variables ?\n",
    "\n",
    "Ans: Run object has bold, underline, italic, strike, and outline variables. The text in a Word document is more than just a \n",
    "     string. It has font, size, color, and other styling information associated with it."
   ]
  },
  {
   "cell_type": "code",
   "execution_count": null,
   "id": "3acb85f0",
   "metadata": {},
   "outputs": [],
   "source": [
    "9. What is the difference between False, True, and None for the bold variable ?\n",
    "\n",
    "Ans: False is used for to not set bold. True used to set bold. None used to set not applicable."
   ]
  },
  {
   "cell_type": "code",
   "execution_count": null,
   "id": "13f16453",
   "metadata": {},
   "outputs": [],
   "source": [
    "10. How do you create a Document object for a new Word document ?"
   ]
  },
  {
   "cell_type": "code",
   "execution_count": null,
   "id": "1803ce12",
   "metadata": {},
   "outputs": [],
   "source": [
    "# Example Program\n",
    "from docx import Document\n",
    "document = Document()\n",
    "document.add_paragraph(\"iNeuron Full Stack DataScience Course\")\n",
    "document.save('mydocument.docx')"
   ]
  },
  {
   "cell_type": "code",
   "execution_count": null,
   "id": "14101c19",
   "metadata": {},
   "outputs": [],
   "source": [
    "11. How do you add a paragraph with the text 'Hello, there' to a Document object stored in a variable named doc ?\n",
    "\n",
    "Ans: doc.add_paragraph('Hello, there')"
   ]
  },
  {
   "cell_type": "code",
   "execution_count": null,
   "id": "5f878b9c",
   "metadata": {},
   "outputs": [],
   "source": [
    "# Example Program\n",
    "from docx import Document\n",
    "doc = Document()\n",
    "doc.add_paragraph('Hello, there')\n",
    "doc.save('hello.docx')"
   ]
  },
  {
   "cell_type": "code",
   "execution_count": null,
   "id": "c8a72f3d",
   "metadata": {},
   "outputs": [],
   "source": [
    "12. What integers represent the levels of headings available in Word documents ?\n",
    "\n",
    "Ans: The levels for a heading in a word document can be specified by using the level attribute inside the add_heading method. \n",
    "     There are a total of 5 levels statring for 0 t0 4. where level 0 makes a headline with the horizontal line below the text, \n",
    "     whereas, the heading level 1 is the main heading. Similarly, the other headings are sub-heading with their's font-sizes in \n",
    "     decreasing order(3,4 and 5)."
   ]
  }
 ],
 "metadata": {
  "kernelspec": {
   "display_name": "Python 3 (ipykernel)",
   "language": "python",
   "name": "python3"
  },
  "language_info": {
   "codemirror_mode": {
    "name": "ipython",
    "version": 3
   },
   "file_extension": ".py",
   "mimetype": "text/x-python",
   "name": "python",
   "nbconvert_exporter": "python",
   "pygments_lexer": "ipython3",
   "version": "3.9.13"
  }
 },
 "nbformat": 4,
 "nbformat_minor": 5
}
