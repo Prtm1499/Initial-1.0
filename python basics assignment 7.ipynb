{
 "cells": [
  {
   "cell_type": "code",
   "execution_count": null,
   "id": "45667915",
   "metadata": {},
   "outputs": [],
   "source": [
    "1. What is the name of the feature responsible for generating Regex objects ?\n",
    "\n",
    "Ans: re.compile () is the feature responsible for generating Regex objects."
   ]
  },
  {
   "cell_type": "code",
   "execution_count": null,
   "id": "e638e2bc",
   "metadata": {},
   "outputs": [],
   "source": [
    "2. Why do raw strings often appear in Regex objects ?\n",
    "\n",
    "Ans: ras strings are used to escape special characters in the string."
   ]
  },
  {
   "cell_type": "code",
   "execution_count": null,
   "id": "dae23363",
   "metadata": {},
   "outputs": [],
   "source": [
    "3. What is the return value of the search() method ?\n",
    "\n",
    "Ans: It returns a match object. If match not found, it returns None."
   ]
  },
  {
   "cell_type": "code",
   "execution_count": null,
   "id": "708d239c",
   "metadata": {},
   "outputs": [],
   "source": [
    "4. From a Match item, how do you get the actual strings that match the pattern ?\n",
    "\n",
    "Ans: The group method () returns the actual string that matched the pattern."
   ]
  },
  {
   "cell_type": "code",
   "execution_count": null,
   "id": "f4bd44f5",
   "metadata": {},
   "outputs": [],
   "source": [
    "5. In the regex which created from the r'(\\d\\d\\d)-(\\d\\d\\d-\\d\\d\\d\\d)', what does group zero cover? Group 2? Group 1 ?\n",
    "\n",
    "Ans: Group 0 covers the entrie string - (\\d\\d\\d)-(\\d\\d\\d-\\d\\d\\d\\d)'. \n",
    "     Group 1 covers the first group - (\\d\\d\\d). \n",
    "     Group 2 covers the second group - (\\d\\d\\d-\\d\\d\\d\\d)."
   ]
  },
  {
   "cell_type": "code",
   "execution_count": null,
   "id": "2cb417de",
   "metadata": {},
   "outputs": [],
   "source": [
    "6. In standard expression syntax, parentheses and intervals have distinct meanings. How can you tell\n",
    "a regex that you want it to fit real parentheses and periods ?\n",
    "\n",
    "Ans: The \\. \\( and \\) escape characters in the raw string passed to re.compile() will match the actual parenthesis characters."
   ]
  },
  {
   "cell_type": "code",
   "execution_count": null,
   "id": "fb11bfc4",
   "metadata": {},
   "outputs": [],
   "source": [
    "7. The findall() method returns a string list or a list of string tuples. What causes it to return one of\n",
    "the two options ?\n",
    "\n",
    "Ans: If the regex pattern has no groups, a list of strings matched is returned. if the regex pattern has groups, a list of \n",
    "     tuple of strings is returned."
   ]
  },
  {
   "cell_type": "code",
   "execution_count": null,
   "id": "0351de1c",
   "metadata": {},
   "outputs": [],
   "source": [
    "8. In standard expressions, what does the | character mean ?\n",
    "\n",
    "Ans: The | character is used to specify the choice between two or more alternatives."
   ]
  },
  {
   "cell_type": "code",
   "execution_count": null,
   "id": "b4157205",
   "metadata": {},
   "outputs": [],
   "source": [
    "9. In regular expressions, what does the character ? stand for ?\n",
    "\n",
    "Ans: In regular Expressions, ? characters represents zero or one match of the preceeding group."
   ]
  },
  {
   "cell_type": "code",
   "execution_count": null,
   "id": "acc22896",
   "metadata": {},
   "outputs": [],
   "source": [
    "10.In regular expressions, what is the difference between the + and * characters ?\n",
    "\n",
    "Ans: The charachet + represent one or more mataching preceding groups.\n",
    "     The character * represent zero or more matching preceding groups."
   ]
  },
  {
   "cell_type": "code",
   "execution_count": null,
   "id": "b318de8d",
   "metadata": {},
   "outputs": [],
   "source": [
    "11. What is the difference between {4} and {4,5} in regular expression ?\n",
    "\n",
    "Ans: The {4} represents excatly 4 matches of the preceding group whereas {4,5} represents minimum 4 and maximum 5 matches."
   ]
  },
  {
   "cell_type": "code",
   "execution_count": null,
   "id": "45a7b36b",
   "metadata": {},
   "outputs": [],
   "source": [
    "12. What do you mean by the \\d, \\w, and \\s shorthand character classes signify in regular expressions ?\n",
    "\n",
    "Ans: The \\d character represents a digit.\n",
    "     The \\w character represents a word character.\n",
    "     The \\s character represents a whitespace character."
   ]
  },
  {
   "cell_type": "code",
   "execution_count": null,
   "id": "60bba22c",
   "metadata": {},
   "outputs": [],
   "source": [
    "13. What do means by \\D, \\W, and \\S shorthand character classes signify in regular expressions ?\n",
    "\n",
    "Ans: The \\D represents a non-digit character.\n",
    "     The \\W represents a non-word character.\n",
    "     The \\S represents a non-whitespace character."
   ]
  },
  {
   "cell_type": "code",
   "execution_count": null,
   "id": "d1c78893",
   "metadata": {},
   "outputs": [],
   "source": [
    "14. What is the difference between .*? and .* ?\n",
    "\n",
    "Ans: The .*? matches the preceding group as few as possible.\n",
    "     The .* matches the as many possible as preceding groups."
   ]
  },
  {
   "cell_type": "code",
   "execution_count": null,
   "id": "15286cad",
   "metadata": {},
   "outputs": [],
   "source": [
    "15. What is the syntax for matching both numbers and lowercase letters with a character class ?\n",
    "\n",
    "Ans: [0-9a-z]"
   ]
  },
  {
   "cell_type": "code",
   "execution_count": null,
   "id": "2062c855",
   "metadata": {},
   "outputs": [],
   "source": [
    "16. What is the procedure for making a normal expression in regax case insensitive ?\n",
    "\n",
    "Ans: re.IGNORECASE is used to make the normal expression insensitive."
   ]
  },
  {
   "cell_type": "code",
   "execution_count": null,
   "id": "0d5341a0",
   "metadata": {},
   "outputs": [],
   "source": [
    "17. What does the . character normally match? What does it match if re.DOTALL is passed as 2nd argument in re.compile() ?\n",
    "\n",
    "Ans: The . character normally matches any expression except the newline.\n",
    "     The re.DOTALL is used to make the . character match any expression including the newline."
   ]
  },
  {
   "cell_type": "code",
   "execution_count": null,
   "id": "b0f1b9d3",
   "metadata": {},
   "outputs": [],
   "source": [
    "18. If numReg = re.compile(r'\\d+'), what will numRegex.sub('X', '11 drummers, 10 pipers, five rings, 4 hen') return ?\n",
    "\n",
    "Ans: X drummers, X pipers, five rings, X hen "
   ]
  },
  {
   "cell_type": "code",
   "execution_count": 1,
   "id": "445e2513",
   "metadata": {},
   "outputs": [
    {
     "data": {
      "text/plain": [
       "'X drummers, X pipers, five rings, X hen'"
      ]
     },
     "execution_count": 1,
     "metadata": {},
     "output_type": "execute_result"
    }
   ],
   "source": [
    "import re\n",
    "numReg = re.compile(r'\\d+')\n",
    "numReg.sub('X', '11 drummers, 10 pipers, five rings, 4 hen')"
   ]
  },
  {
   "cell_type": "code",
   "execution_count": null,
   "id": "bea5e73e",
   "metadata": {},
   "outputs": [],
   "source": [
    "19. What does passing re.VERBOSE as the 2nd argument to re.compile() allow to do ?\n",
    "\n",
    "Ans: It allows to specify the regular expression in more readable way."
   ]
  },
  {
   "cell_type": "code",
   "execution_count": null,
   "id": "6f4ea6e2",
   "metadata": {},
   "outputs": [],
   "source": [
    "20. How would you write a regex that match a number with comma for every three digits? \n",
    "    It must match the given following:\n",
    "    '42',\n",
    "    '1,234', \n",
    "    '6,368,745'\n",
    "    but not the following: \n",
    "    '12,34,567' (which has only two digits between the commas) \n",
    "    '1234' (which lacks commas)\n",
    "    \n",
    "Ans: r'\\d{1,3}(,\\d{3})*$'"
   ]
  },
  {
   "cell_type": "code",
   "execution_count": 8,
   "id": "ff496210",
   "metadata": {},
   "outputs": [
    {
     "name": "stdout",
     "output_type": "stream",
     "text": [
      "Output: 42 = <re.Match object; span=(0, 2), match='42'>\n",
      "Output: 1,234 = <re.Match object; span=(0, 5), match='1,234'>\n",
      "Output: 6,368,745 = <re.Match object; span=(0, 9), match='6,368,745'>\n",
      "Output: 12,34,567 = None\n",
      "Output: 1234 = None\n"
     ]
    }
   ],
   "source": [
    "import re\n",
    "pattern = r'^\\d{1,3}(,\\d{3})*$'\n",
    "pagex = re.compile(pattern)\n",
    "for ele in ['42','1,234', '6,368,745','12,34,567','1234']:\n",
    "    print('Output:',ele, '=', pagex.search(ele))"
   ]
  },
  {
   "cell_type": "code",
   "execution_count": null,
   "id": "9810a87c",
   "metadata": {},
   "outputs": [],
   "source": [
    "21. How would you write a regex that matches the full name of someone whose last name is Watanabe? You can assume that the first name that comes before it will always be one word that begins with a capital letter. The regex must match the following:\n",
    "'Haruto Watanabe'\n",
    "'Alice Watanabe'\n",
    "'RoboCop Watanabe'\n",
    "\n",
    "but not the following:\n",
    "\n",
    "'haruto Watanabe' (where the first name is not capitalized)\n",
    "'Mr. Watanabe' (where the preceding word has a nonletter character)\n",
    "'Watanabe' (which has no first name)\n",
    "'Haruto watanabe' (where Watanabe is not capitalized)\n",
    "\n",
    "Ans: r'^[A-Z] [a-z]* Watanabe$''"
   ]
  },
  {
   "cell_type": "code",
   "execution_count": 7,
   "id": "fc1ba7ac",
   "metadata": {},
   "outputs": [
    {
     "name": "stdout",
     "output_type": "stream",
     "text": [
      "Output:  Haruto Watanabe = <re.Match object; span=(0, 15), match='Haruto Watanabe'>\n",
      "Output:  Alice Watanabe = <re.Match object; span=(0, 14), match='Alice Watanabe'>\n",
      "Output:  RoboCop Watanabe = <re.Match object; span=(4, 16), match='Cop Watanabe'>\n",
      "Output:  haruto Watanabe = None\n",
      "Output:  Mr. Watanabe = None\n",
      "Output:  Watanabe = None\n",
      "Output:  Haruto watanabe = None\n"
     ]
    }
   ],
   "source": [
    "import re\n",
    "pattern = r'[A-Z]{1}[a-z]*\\sWatanabe'\n",
    "namex = re.compile(pattern)\n",
    "for name in ['Haruto Watanabe','Alice Watanabe','RoboCop Watanabe','haruto Watanabe','Mr. Watanabe','Watanabe','Haruto watanabe']:\n",
    "    print('Output: ',name,'=',namex.search(name))"
   ]
  },
  {
   "cell_type": "code",
   "execution_count": null,
   "id": "22d31324",
   "metadata": {},
   "outputs": [],
   "source": [
    "22. How would you write a regex that matches a sentence where the first word is either Alice, Bob,or Carol; the second word is either eats, pets, or throws; the third word is apples, cats, or baseballs; and the sentence ends with a period? This regex should be case-insensitive. It must match the following:\n",
    "'Alice eats apples.'\n",
    "'Bob pets cats.'\n",
    "'Carol throws baseballs.'\n",
    "'Alice throws Apples.'\n",
    "'BOB EATS CATS.'\n",
    "\n",
    "but not the following:\n",
    "\n",
    "'RoboCop eats apples.'\n",
    "'ALICE THROWS FOOTBALLS.'\n",
    "'Carol eats 7 cats.'\n",
    "\n",
    "Ans: r'(Alice|Bob|Carol)\\s(eats|pets|throws)\\s(apples|cats|baseballs)\\.'"
   ]
  },
  {
   "cell_type": "code",
   "execution_count": 6,
   "id": "4b079a0c",
   "metadata": {},
   "outputs": [
    {
     "name": "stdout",
     "output_type": "stream",
     "text": [
      "Output:  Alice eats apples. = <re.Match object; span=(0, 18), match='Alice eats apples.'>\n",
      "Output:  Bob pets cats. = <re.Match object; span=(0, 14), match='Bob pets cats.'>\n",
      "Output:  Carol throws baseballs. = <re.Match object; span=(0, 23), match='Carol throws baseballs.'>\n",
      "Output:  Alice throws Apples. = <re.Match object; span=(0, 20), match='Alice throws Apples.'>\n",
      "Output:  BOB EATS CATS. = <re.Match object; span=(0, 14), match='BOB EATS CATS.'>\n",
      "Output:  RoboCop eats apples. = None\n",
      "Output:  ALICE THROWS FOOTBALLS. = None\n",
      "Output:  Carol eats 7 cats. = None\n"
     ]
    }
   ],
   "source": [
    "import re\n",
    "pattern = r'(Alice|Bob|Carol)\\s(eats|pets|throws)\\s(apples|cats|baseballs)\\.'\n",
    "casex = re.compile(pattern,re.IGNORECASE)\n",
    "for ele in ['Alice eats apples.','Bob pets cats.','Carol throws baseballs.','Alice throws Apples.','BOB EATS CATS.','RoboCop eats apples.'\n",
    ",'ALICE THROWS FOOTBALLS.','Carol eats 7 cats.']:\n",
    "    print('Output: ',ele,'=',casex.search(ele))"
   ]
  },
  {
   "cell_type": "code",
   "execution_count": null,
   "id": "ebba181c",
   "metadata": {},
   "outputs": [],
   "source": []
  }
 ],
 "metadata": {
  "kernelspec": {
   "display_name": "Python 3 (ipykernel)",
   "language": "python",
   "name": "python3"
  },
  "language_info": {
   "codemirror_mode": {
    "name": "ipython",
    "version": 3
   },
   "file_extension": ".py",
   "mimetype": "text/x-python",
   "name": "python",
   "nbconvert_exporter": "python",
   "pygments_lexer": "ipython3",
   "version": "3.9.13"
  }
 },
 "nbformat": 4,
 "nbformat_minor": 5
}
