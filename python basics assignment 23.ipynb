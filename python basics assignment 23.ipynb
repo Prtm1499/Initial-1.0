{
 "cells": [
  {
   "cell_type": "code",
   "execution_count": null,
   "id": "8a7b9bb4",
   "metadata": {},
   "outputs": [],
   "source": [
    "1. What is the result of the code, and why ?\n",
    ">>> def func(a, b=6, c=8):\n",
    "\n",
    "print(a, b, c)\n",
    "\n",
    ">>> func(1, 2)"
   ]
  },
  {
   "cell_type": "code",
   "execution_count": 1,
   "id": "ab3565d8",
   "metadata": {},
   "outputs": [
    {
     "name": "stdout",
     "output_type": "stream",
     "text": [
      "1 2 8\n"
     ]
    },
    {
     "data": {
      "text/plain": [
       "'The given funtion is taking a positional argument and 2 keyword argument. When function call m=is made, parameter passed are \\n   a=1,b=2. When the function is executed , parameter c=8 will be taken by default as its a keyword argument. solution is = 1,2,8'"
      ]
     },
     "execution_count": 1,
     "metadata": {},
     "output_type": "execute_result"
    }
   ],
   "source": [
    "def func(a, b=6, c=8):\n",
    "    print(a, b, c)\n",
    "func(1, 2)\n",
    "\n",
    "'''The given funtion is taking a positional argument and 2 keyword argument. When function call m=is made, parameter passed are \n",
    "   a=1,b=2. When the function is executed , parameter c=8 will be taken by default as its a keyword argument. solution is = 1,2,8'''"
   ]
  },
  {
   "cell_type": "code",
   "execution_count": null,
   "id": "1e6a90c5",
   "metadata": {},
   "outputs": [],
   "source": [
    "2. What is the result of this code, and why ?\n",
    ">>> def func(a, b, c=5):\n",
    "\n",
    "print(a, b, c)\n",
    "\n",
    ">>> func(1, c=3, b=2)"
   ]
  },
  {
   "cell_type": "code",
   "execution_count": 2,
   "id": "eb6953ec",
   "metadata": {},
   "outputs": [
    {
     "name": "stdout",
     "output_type": "stream",
     "text": [
      "1 2 3\n"
     ]
    },
    {
     "data": {
      "text/plain": [
       "' The result of the above code is 1 2 3.It is because the function will use default values only when a value for a argument is \\n    not provided and if the argument name is mentioned while doing a function call, the order of arguments is also ignored by \\n    the python interpreter'"
      ]
     },
     "execution_count": 2,
     "metadata": {},
     "output_type": "execute_result"
    }
   ],
   "source": [
    "def func(a, b, c=5):\n",
    "    print(a, b, c)\n",
    "func(1, c=3, b=2)\n",
    "\n",
    "''' The result of the above code is 1 2 3.It is because the function will use default values only when a value for a argument is \n",
    "    not provided and if the argument name is mentioned while doing a function call, the order of arguments is also ignored by \n",
    "    the python interpreter'''"
   ]
  },
  {
   "cell_type": "code",
   "execution_count": null,
   "id": "0d7544af",
   "metadata": {},
   "outputs": [],
   "source": [
    "3. How about this code: what is its result, and why ?\n",
    ">>> def func(a, *pargs):\n",
    "\n",
    "print(a, pargs)\n",
    "\n",
    ">>> func(1, 2, 3)"
   ]
  },
  {
   "cell_type": "code",
   "execution_count": 3,
   "id": "51ae1926",
   "metadata": {},
   "outputs": [
    {
     "name": "stdout",
     "output_type": "stream",
     "text": [
      "1 (2, 3)\n"
     ]
    },
    {
     "data": {
      "text/plain": [
       "'The result of the code is 1 (2,3). *pargs stands for variable length arguments. This format is used when we are not sure about the number of arguments to be passed to a function. All the values under this argument will be stored in a tuple.'"
      ]
     },
     "execution_count": 3,
     "metadata": {},
     "output_type": "execute_result"
    }
   ],
   "source": [
    "def func(a, *pargs):\n",
    "    print(a,pargs)\n",
    "func(1,2,3)\n",
    "\n",
    "'''The result of the code is 1 (2,3). *pargs stands for variable length arguments. This format is used when we are not sure about the number of arguments to be passed to a function. All the values under this argument will be stored in a tuple.'''"
   ]
  },
  {
   "cell_type": "code",
   "execution_count": null,
   "id": "5e4cb0cd",
   "metadata": {},
   "outputs": [],
   "source": [
    "4. What does this code print, and why ?\n",
    ">>> def func(a, **kargs):\n",
    "\n",
    "print(a, kargs)\n",
    "\n",
    ">>> func(a=1, c=3, b=2)"
   ]
  },
  {
   "cell_type": "code",
   "execution_count": 4,
   "id": "0f1f69d4",
   "metadata": {},
   "outputs": [
    {
     "name": "stdout",
     "output_type": "stream",
     "text": [
      "1 {'c': 3, 'b': 2}\n"
     ]
    },
    {
     "data": {
      "text/plain": [
       "\"The result of the above code is 1 {'c': 3, 'b': 2}. **kargs stands for variable length keyword arguments. This format is used when we want pass key value pairs as input to a function. All these key value pairs will be stored in a dictionary\""
      ]
     },
     "execution_count": 4,
     "metadata": {},
     "output_type": "execute_result"
    }
   ],
   "source": [
    "def func(a,**kargs):\n",
    "    print(a,kargs)\n",
    "func(a=1,c=3,b=2)\n",
    "\n",
    "'''The result of the above code is 1 {'c': 3, 'b': 2}. **kargs stands for variable length keyword arguments. This format is used when we want pass key value pairs as input to a function. All these key value pairs will be stored in a dictionary'''"
   ]
  },
  {
   "cell_type": "code",
   "execution_count": null,
   "id": "4f0bbfd8",
   "metadata": {},
   "outputs": [],
   "source": [
    "5. What gets printed by this, and explain ?\n",
    ">>> def func(a, b, c=8, d=5): print(a, b, c, d)\n",
    "\n",
    ">>> func(1, *(5, 6))"
   ]
  },
  {
   "cell_type": "code",
   "execution_count": 5,
   "id": "7f506352",
   "metadata": {},
   "outputs": [
    {
     "name": "stdout",
     "output_type": "stream",
     "text": [
      "1 5 6 5\n"
     ]
    },
    {
     "data": {
      "text/plain": [
       "'The output of the above is 1 5 6 5. The reason for this function not throwing an error is because, this function expects 4 arguments. The value for a is provided explicitly whereas for arguments b and c, the function will expand *(5,6) and consider the value of b as 5 and value of c as 6. Since the default value of d is provided in function declaration, d value will be 5. However it is recommended to use the feature of positional arguments at the end.'"
      ]
     },
     "execution_count": 5,
     "metadata": {},
     "output_type": "execute_result"
    }
   ],
   "source": [
    "def func(a,b,c=8,d=5):\n",
    "    print(a,b,c,d)\n",
    "func(1,*(5,6))\n",
    "\n",
    "'''The output of the above is 1 5 6 5. The reason for this function not throwing an error is because, this function expects 4 arguments. The value for a is provided explicitly whereas for arguments b and c, the function will expand *(5,6) and consider the value of b as 5 and value of c as 6. Since the default value of d is provided in function declaration, d value will be 5. However it is recommended to use the feature of positional arguments at the end.'''"
   ]
  },
  {
   "cell_type": "code",
   "execution_count": null,
   "id": "f579914a",
   "metadata": {},
   "outputs": [],
   "source": [
    "6. what is the result of this, and explain ?\n",
    ">>> def func(a, b, c): a = 2; b[0] = 'x'; c['a'] = 'y'\n",
    "\n",
    ">>> l=1; m=[1]; n={'a':0}\n",
    "\n",
    ">>> func(l, m, n)\n",
    "\n",
    ">>> l, m, n"
   ]
  },
  {
   "cell_type": "code",
   "execution_count": 7,
   "id": "d9c62ec9",
   "metadata": {},
   "outputs": [
    {
     "data": {
      "text/plain": [
       "(1, ['x'], {'a': 'y'})"
      ]
     },
     "execution_count": 7,
     "metadata": {},
     "output_type": "execute_result"
    }
   ],
   "source": [
    "def func(a, b, c): \n",
    "    a = 2; b[0] = 'x'; c['a'] = 'y'\n",
    "    \n",
    "l=1; m=[1]; n={'a':0}\n",
    "func(l, m, n)\n",
    "\n",
    "l, m, n"
   ]
  },
  {
   "cell_type": "code",
   "execution_count": 8,
   "id": "d717031f",
   "metadata": {},
   "outputs": [
    {
     "data": {
      "text/plain": [
       "\"Here in the code, the list and dict are passed as argument, and those are mutable. Here the list l and parameter b point to the same list in the memory location where as dict n and c point to the same memory location. Any updates to this list will update in the memory locationl = 1 , integer values, immutable, m is list, mutable, n is dict, mutable. output will be = 1,['x'],{'a':'y'}\""
      ]
     },
     "execution_count": 8,
     "metadata": {},
     "output_type": "execute_result"
    }
   ],
   "source": [
    "'''Here in the code, the list and dict are passed as argument, and those are mutable. Here the list l and parameter b point to the same list in the memory location where as dict n and c point to the same memory location. Any updates to this list will update in the memory locationl = 1 , integer values, immutable, m is list, mutable, n is dict, mutable. output will be = 1,['x'],{'a':'y'}'''"
   ]
  },
  {
   "cell_type": "code",
   "execution_count": null,
   "id": "f195112a",
   "metadata": {},
   "outputs": [],
   "source": []
  }
 ],
 "metadata": {
  "kernelspec": {
   "display_name": "Python 3 (ipykernel)",
   "language": "python",
   "name": "python3"
  },
  "language_info": {
   "codemirror_mode": {
    "name": "ipython",
    "version": 3
   },
   "file_extension": ".py",
   "mimetype": "text/x-python",
   "name": "python",
   "nbconvert_exporter": "python",
   "pygments_lexer": "ipython3",
   "version": "3.9.13"
  }
 },
 "nbformat": 4,
 "nbformat_minor": 5
}
