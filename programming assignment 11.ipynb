{
 "cells": [
  {
   "cell_type": "code",
   "execution_count": null,
   "id": "a0016185",
   "metadata": {},
   "outputs": [],
   "source": [
    "1. Write a Python program to find words which are greater than given length k ?"
   ]
  },
  {
   "cell_type": "code",
   "execution_count": 1,
   "id": "3d55e07d",
   "metadata": {},
   "outputs": [],
   "source": [
    "def find_long_words(word_list, k):\n",
    "    long_words = []\n",
    "    for word in word_list:\n",
    "        if len(word) > k:\n",
    "            long_words.append(word)\n",
    "    return long_words"
   ]
  },
  {
   "cell_type": "code",
   "execution_count": 3,
   "id": "10bf46f6",
   "metadata": {},
   "outputs": [
    {
     "name": "stdout",
     "output_type": "stream",
     "text": [
      "['banana', 'orange', 'grapefruit']\n"
     ]
    }
   ],
   "source": [
    "print(find_long_words([\"apple\", \"banana\", \"orange\", \"grapefruit\"], 5))"
   ]
  },
  {
   "cell_type": "code",
   "execution_count": null,
   "id": "2ce8e72c",
   "metadata": {},
   "outputs": [],
   "source": [
    "2. Write a Python program for removing i-th character from a string ?"
   ]
  },
  {
   "cell_type": "code",
   "execution_count": 4,
   "id": "567681bd",
   "metadata": {},
   "outputs": [],
   "source": [
    "def remove_char(string, i):\n",
    "    new_string = string[:i] + string[i+1:]\n",
    "    return new_string"
   ]
  },
  {
   "cell_type": "code",
   "execution_count": 5,
   "id": "c7b5b4d8",
   "metadata": {},
   "outputs": [
    {
     "name": "stdout",
     "output_type": "stream",
     "text": [
      "helo world\n"
     ]
    }
   ],
   "source": [
    "print(remove_char(\"hello world\", 3))"
   ]
  },
  {
   "cell_type": "code",
   "execution_count": null,
   "id": "d4bc8284",
   "metadata": {},
   "outputs": [],
   "source": [
    "3. Write a Python program to split and join a string ?"
   ]
  },
  {
   "cell_type": "code",
   "execution_count": 6,
   "id": "786bcd98",
   "metadata": {},
   "outputs": [],
   "source": [
    "def split_and_join(string):\n",
    "    # Split the string into a list of words\n",
    "    words = string.split()\n",
    "    # Join the words with a hyphen\n",
    "    new_string = \"-\".join(words)\n",
    "    return new_string"
   ]
  },
  {
   "cell_type": "code",
   "execution_count": 7,
   "id": "fd592e5e",
   "metadata": {},
   "outputs": [
    {
     "name": "stdout",
     "output_type": "stream",
     "text": [
      "This-is-a-sample-string\n"
     ]
    }
   ],
   "source": [
    "print(split_and_join(\"This is a sample string\"))"
   ]
  },
  {
   "cell_type": "code",
   "execution_count": null,
   "id": "1bc69a4f",
   "metadata": {},
   "outputs": [],
   "source": [
    "4. Write a Python to check if a given string is binary string or not ?"
   ]
  },
  {
   "cell_type": "code",
   "execution_count": 8,
   "id": "a0d9b1ba",
   "metadata": {},
   "outputs": [],
   "source": [
    "def binary(string):\n",
    "    for char in string:\n",
    "        if char != '0' and char != '1':\n",
    "            return False\n",
    "    return True"
   ]
  },
  {
   "cell_type": "code",
   "execution_count": 9,
   "id": "0fc6d15a",
   "metadata": {},
   "outputs": [
    {
     "name": "stdout",
     "output_type": "stream",
     "text": [
      "True\n",
      "False\n"
     ]
    }
   ],
   "source": [
    "print(binary(\"1010101010\"))\n",
    "print(binary(\"1010101020\"))"
   ]
  },
  {
   "cell_type": "code",
   "execution_count": null,
   "id": "c3dea9ee",
   "metadata": {},
   "outputs": [],
   "source": [
    "5. Write a Python program to find uncommon words from two Strings ?"
   ]
  },
  {
   "cell_type": "code",
   "execution_count": 10,
   "id": "36878675",
   "metadata": {},
   "outputs": [],
   "source": [
    "def uncommon_words(str1, str2):\n",
    "    # Split the strings into lists of words\n",
    "    words1 = str1.split()\n",
    "    words2 = str2.split()\n",
    "    # Find the uncommon words using set operations\n",
    "    uncommon = set(words1).symmetric_difference(set(words2))\n",
    "    return list(uncommon)"
   ]
  },
  {
   "cell_type": "code",
   "execution_count": 11,
   "id": "2302d3fe",
   "metadata": {},
   "outputs": [
    {
     "name": "stdout",
     "output_type": "stream",
     "text": [
      "['is', 'hello', 'beautiful']\n"
     ]
    }
   ],
   "source": [
    "print(uncommon_words(\"hello world\", \"world is beautiful\"))"
   ]
  },
  {
   "cell_type": "code",
   "execution_count": null,
   "id": "89c0e7ce",
   "metadata": {},
   "outputs": [],
   "source": [
    "6. Write a Python to find all duplicate characters in string ?"
   ]
  },
  {
   "cell_type": "code",
   "execution_count": null,
   "id": "db73c911",
   "metadata": {},
   "outputs": [],
   "source": []
  }
 ],
 "metadata": {
  "kernelspec": {
   "display_name": "Python 3 (ipykernel)",
   "language": "python",
   "name": "python3"
  },
  "language_info": {
   "codemirror_mode": {
    "name": "ipython",
    "version": 3
   },
   "file_extension": ".py",
   "mimetype": "text/x-python",
   "name": "python",
   "nbconvert_exporter": "python",
   "pygments_lexer": "ipython3",
   "version": "3.9.13"
  }
 },
 "nbformat": 4,
 "nbformat_minor": 5
}
