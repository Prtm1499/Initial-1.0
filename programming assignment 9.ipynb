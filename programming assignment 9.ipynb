{
 "cells": [
  {
   "cell_type": "code",
   "execution_count": null,
   "id": "77b9811e",
   "metadata": {},
   "outputs": [],
   "source": [
    "1. Write a Python program to check if the given number is a Disarium Number ?"
   ]
  },
  {
   "cell_type": "code",
   "execution_count": 1,
   "id": "da95bb38",
   "metadata": {},
   "outputs": [],
   "source": [
    "def disarium_number(n):\n",
    "    sum = 0\n",
    "    temp = n\n",
    "    while temp > 0:\n",
    "        digit = temp % 10\n",
    "        sum += digit ** 3\n",
    "        temp //= 10\n",
    "    if n == sum:\n",
    "        return True\n",
    "    else:\n",
    "        return False"
   ]
  },
  {
   "cell_type": "code",
   "execution_count": 2,
   "id": "8bdca10f",
   "metadata": {},
   "outputs": [
    {
     "name": "stdout",
     "output_type": "stream",
     "text": [
      "True\n",
      "False\n",
      "False\n"
     ]
    }
   ],
   "source": [
    "print(disarium_number(153))\n",
    "print(disarium_number(121))\n",
    "print(disarium_number(1024))"
   ]
  },
  {
   "cell_type": "code",
   "execution_count": null,
   "id": "840b00e8",
   "metadata": {},
   "outputs": [],
   "source": [
    "2. Write a Python program to print all disarium numbers between 1 to 100 ?"
   ]
  },
  {
   "cell_type": "code",
   "execution_count": 5,
   "id": "111ae7dd",
   "metadata": {},
   "outputs": [
    {
     "data": {
      "text/plain": [
       "[0, 1, 2, 3, 4, 5, 6, 7, 8, 9, 89]"
      ]
     },
     "execution_count": 5,
     "metadata": {},
     "output_type": "execute_result"
    }
   ],
   "source": [
    "def disarium_numbers(start=0,end=100):\n",
    "    output_num = []\n",
    "    for number in range(start,end+1):\n",
    "        sum = 0\n",
    "        for item in range(len(str(number))):\n",
    "            sum = sum + int(str(number)[item])**(item+1)\n",
    "        if sum == number:\n",
    "            output_num.append(number)\n",
    "    return output_num\n",
    "            \n",
    "        \n",
    "disarium_numbers()"
   ]
  },
  {
   "cell_type": "code",
   "execution_count": null,
   "id": "8a15e5f2",
   "metadata": {},
   "outputs": [],
   "source": [
    "3. Write a Python program to check if the given number is Happy Number ?"
   ]
  },
  {
   "cell_type": "code",
   "execution_count": 6,
   "id": "93779d48",
   "metadata": {},
   "outputs": [],
   "source": [
    "def happy_number(n):\n",
    "    sum = 0\n",
    "    temp = n\n",
    "    while temp > 0:\n",
    "        digit = temp % 10\n",
    "        sum += digit ** 2\n",
    "        temp //= 10\n",
    "    if n == sum:\n",
    "        return True\n",
    "    else:\n",
    "        return False"
   ]
  },
  {
   "cell_type": "code",
   "execution_count": 8,
   "id": "1ba492f4",
   "metadata": {},
   "outputs": [
    {
     "name": "stdout",
     "output_type": "stream",
     "text": [
      "False\n",
      "False\n",
      "False\n"
     ]
    }
   ],
   "source": [
    "print(happy_number(7))\n",
    "print(happy_number(11))\n",
    "print(happy_number(98))"
   ]
  },
  {
   "cell_type": "code",
   "execution_count": null,
   "id": "cd08910a",
   "metadata": {},
   "outputs": [],
   "source": [
    "4. Write a Python program to print all happy numbers between 1 and 100 ?"
   ]
  },
  {
   "cell_type": "code",
   "execution_count": 10,
   "id": "8f3d0bbd",
   "metadata": {},
   "outputs": [],
   "source": [
    "def happy_numbers(start=1,end=100):\n",
    "    output_num = []\n",
    "    for number in range(start,end+1):\n",
    "        sum = 0\n",
    "        temp = number\n",
    "        while temp > 0:\n",
    "            digit = temp % 10\n",
    "            sum += digit ** 2\n",
    "            temp //= 10\n",
    "        if number == sum:\n",
    "            output_num.append(number)\n",
    "    return output_num"
   ]
  },
  {
   "cell_type": "code",
   "execution_count": 11,
   "id": "e9a81145",
   "metadata": {},
   "outputs": [
    {
     "name": "stdout",
     "output_type": "stream",
     "text": [
      "[1]\n"
     ]
    }
   ],
   "source": [
    "print(happy_numbers())"
   ]
  },
  {
   "cell_type": "code",
   "execution_count": null,
   "id": "eddf682c",
   "metadata": {},
   "outputs": [],
   "source": [
    "5. Write a Python program to determine whether the given number is a Harshad Number ?"
   ]
  },
  {
   "cell_type": "code",
   "execution_count": 12,
   "id": "3a7248e1",
   "metadata": {},
   "outputs": [
    {
     "name": "stdout",
     "output_type": "stream",
     "text": [
      "True\n",
      "True\n",
      "True\n"
     ]
    }
   ],
   "source": [
    "def harshad_number(n):\n",
    "    sum = 0\n",
    "    temp = n\n",
    "    while temp > 0:\n",
    "        digit = temp % 10\n",
    "        sum += digit\n",
    "        temp //= 10\n",
    "    if n % sum == 0:\n",
    "        return True\n",
    "    else:\n",
    "        return False\n",
    "    \n",
    "print(harshad_number(12))\n",
    "print(harshad_number(18))\n",
    "print(harshad_number(21))"
   ]
  },
  {
   "cell_type": "code",
   "execution_count": null,
   "id": "614df4c1",
   "metadata": {},
   "outputs": [],
   "source": [
    "6. Write a Python program to print all pronic numbers between 1 and 100 ?"
   ]
  },
  {
   "cell_type": "code",
   "execution_count": 13,
   "id": "5beec44b",
   "metadata": {},
   "outputs": [
    {
     "name": "stdout",
     "output_type": "stream",
     "text": [
      "[2, 4, 6, 8, 10, 12, 14, 16, 18, 20, 22, 24, 26, 28, 30, 32, 34, 36, 38, 40, 42, 44, 46, 48, 50, 52, 54, 56, 58, 60, 62, 64, 66, 68, 70, 72, 74, 76, 78, 80, 82, 84, 86, 88, 90, 92, 94, 96, 98, 100]\n"
     ]
    }
   ],
   "source": [
    "def pronic_numbers(start=1,end=100):\n",
    "    output_num = []\n",
    "    for number in range(start,end+1):\n",
    "        if number == 2 * (number // 2):\n",
    "            output_num.append(number)\n",
    "    return output_num\n",
    "\n",
    "print(pronic_numbers())"
   ]
  },
  {
   "cell_type": "code",
   "execution_count": null,
   "id": "afb3f4de",
   "metadata": {},
   "outputs": [],
   "source": []
  }
 ],
 "metadata": {
  "kernelspec": {
   "display_name": "Python 3 (ipykernel)",
   "language": "python",
   "name": "python3"
  },
  "language_info": {
   "codemirror_mode": {
    "name": "ipython",
    "version": 3
   },
   "file_extension": ".py",
   "mimetype": "text/x-python",
   "name": "python",
   "nbconvert_exporter": "python",
   "pygments_lexer": "ipython3",
   "version": "3.9.13"
  }
 },
 "nbformat": 4,
 "nbformat_minor": 5
}
