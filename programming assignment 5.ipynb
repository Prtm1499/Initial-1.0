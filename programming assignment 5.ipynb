{
 "cells": [
  {
   "cell_type": "code",
   "execution_count": null,
   "id": "6bac28e8",
   "metadata": {},
   "outputs": [],
   "source": [
    "1. Write a Python Program to Find LCM ?"
   ]
  },
  {
   "cell_type": "code",
   "execution_count": 2,
   "id": "09125bc1",
   "metadata": {},
   "outputs": [
    {
     "name": "stdout",
     "output_type": "stream",
     "text": [
      "12\n"
     ]
    }
   ],
   "source": [
    "def LCM(a,b):\n",
    "    if a>b:\n",
    "        greater=a\n",
    "    else:\n",
    "        greater=b\n",
    "    while(True):\n",
    "        if((greater%a==0) and (greater%b==0)):\n",
    "            lcm=greater\n",
    "            break\n",
    "        greater+=1\n",
    "    return lcm\n",
    "print(LCM(4,6))"
   ]
  },
  {
   "cell_type": "code",
   "execution_count": null,
   "id": "4004a56d",
   "metadata": {},
   "outputs": [],
   "source": [
    "2. Write a Python Program to Find HCF ?"
   ]
  },
  {
   "cell_type": "code",
   "execution_count": 4,
   "id": "3851c08b",
   "metadata": {},
   "outputs": [
    {
     "name": "stdout",
     "output_type": "stream",
     "text": [
      "5\n"
     ]
    }
   ],
   "source": [
    "def HCF(a,b):\n",
    "    if a>b:\n",
    "        smaller=b\n",
    "    else:\n",
    "        smaller=a\n",
    "    for i in range(1,smaller+1):\n",
    "        if((a%i==0) and (b%i==0)):\n",
    "            hcf=i\n",
    "    return hcf\n",
    "print(HCF(10,15))"
   ]
  },
  {
   "cell_type": "code",
   "execution_count": null,
   "id": "77a40b8c",
   "metadata": {},
   "outputs": [],
   "source": [
    "3. Write a Python Program to Convert Decimal to Binary, Octal and Hexadecimal ?"
   ]
  },
  {
   "cell_type": "code",
   "execution_count": 8,
   "id": "02aec21c",
   "metadata": {},
   "outputs": [
    {
     "name": "stdout",
     "output_type": "stream",
     "text": [
      "Enter a number: 12\n",
      "The decimal value of 12 is:\n",
      "0b1100 in binary.\n",
      "0o14 in octal.\n",
      "0xc in hexadecimal.\n"
     ]
    }
   ],
   "source": [
    "def random(num):\n",
    "    print('The decimal value of', num,'is:')\n",
    "    print(bin(num),'in binary.')\n",
    "    print(oct(num),'in octal.')\n",
    "    print(hex(num),'in hexadecimal.')\n",
    "\n",
    "num = int(input('Enter a number: '))\n",
    "random(num)"
   ]
  },
  {
   "cell_type": "code",
   "execution_count": null,
   "id": "adf24758",
   "metadata": {},
   "outputs": [],
   "source": [
    "4. Write a Python Program To Find ASCII value of a character ?"
   ]
  },
  {
   "cell_type": "code",
   "execution_count": 2,
   "id": "41cb4877",
   "metadata": {},
   "outputs": [
    {
     "name": "stdout",
     "output_type": "stream",
     "text": [
      "Enter a character: f\n",
      "The ASCII value of f is:\n",
      "102\n"
     ]
    }
   ],
   "source": [
    "def ascii(char):\n",
    "    print('The ASCII value of', char, 'is:')\n",
    "    print(ord(char))\n",
    "\n",
    "char = input('Enter a character: ')\n",
    "ascii(char)"
   ]
  },
  {
   "cell_type": "code",
   "execution_count": null,
   "id": "e0621837",
   "metadata": {},
   "outputs": [],
   "source": [
    "5. Write a Python Program to Make a Simple Calculator with 4 basic mathematical operations ?"
   ]
  },
  {
   "cell_type": "code",
   "execution_count": 1,
   "id": "44dd712e",
   "metadata": {},
   "outputs": [
    {
     "name": "stdout",
     "output_type": "stream",
     "text": [
      "Select a Arithmetic Operation:         \n",
      "1.Addition(+)        \n",
      "2.Division(-)        \n",
      "2.Multiplication(*)        \n",
      "4.Division(/)        \n",
      "3.Stop(0)\n",
      "\n",
      "Enter a arithmetic operation -> +\n",
      "\n",
      "Enter 1st Number: 12\n",
      "Enter 2nd Number: 12\n",
      "12+12=24\n",
      "\n",
      "Enter a arithmetic operation -> -\n",
      "\n",
      "Enter 1st Number: 23\n",
      "Enter 2nd Number: 10\n",
      "23-10=13\n",
      "\n",
      "Enter a arithmetic operation -> *\n",
      "\n",
      "Enter 1st Number: 2\n",
      "Enter 2nd Number: 2\n",
      "2*2=4\n",
      "\n",
      "Enter a arithmetic operation -> 2\n",
      "Please enter a valid operator\n",
      "Enter a arithmetic operation -> /\n",
      "\n",
      "Enter 1st Number: 2\n",
      "Enter 2nd Number: 3\n",
      "2/3=0.6666666666666666\n",
      "\n",
      "Enter a arithmetic operation -> 0\n",
      "Program Stopped successfully\n"
     ]
    }
   ],
   "source": [
    "import operator\n",
    "\n",
    "ops = { \"+\": operator.add, \"-\": operator.sub, \"*\":operator.mul, \"/\":operator.truediv } \n",
    "\n",
    "print('Select a Arithmetic Operation: \\\n",
    "        \\n1.Addition(+)\\\n",
    "        \\n2.Division(-)\\\n",
    "        \\n2.Multiplication(*)\\\n",
    "        \\n4.Division(/)\\\n",
    "        \\n3.Stop(0)\\n')\n",
    "   \n",
    "\n",
    "while True:\n",
    "    operator = input('Enter a arithmetic operation -> ')\n",
    "    if operator == '0':\n",
    "        print(\"Program Stopped successfully\")\n",
    "        break\n",
    "    elif operator not in ['+','-','*','/']:\n",
    "        print(\"Please enter a valid operator\")\n",
    "    else:\n",
    "        num_1 = int(input('\\nEnter 1st Number: '))\n",
    "        num_2 = int(input('Enter 2nd Number: '))\n",
    "        print(f'{num_1}{operator}{num_2}={ops[operator](num_1,num_2)}\\n')"
   ]
  },
  {
   "cell_type": "code",
   "execution_count": null,
   "id": "3518d310",
   "metadata": {},
   "outputs": [],
   "source": []
  }
 ],
 "metadata": {
  "kernelspec": {
   "display_name": "Python 3 (ipykernel)",
   "language": "python",
   "name": "python3"
  },
  "language_info": {
   "codemirror_mode": {
    "name": "ipython",
    "version": 3
   },
   "file_extension": ".py",
   "mimetype": "text/x-python",
   "name": "python",
   "nbconvert_exporter": "python",
   "pygments_lexer": "ipython3",
   "version": "3.9.13"
  }
 },
 "nbformat": 4,
 "nbformat_minor": 5
}
